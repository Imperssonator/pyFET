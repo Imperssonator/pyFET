{
 "cells": [
  {
   "cell_type": "code",
   "execution_count": 1,
   "metadata": {
    "collapsed": false
   },
   "outputs": [
    {
     "data": {
      "text/html": [
       "\n",
       "    <div class=\"bk-root\">\n",
       "        <a href=\"http://bokeh.pydata.org\" target=\"_blank\" class=\"bk-logo bk-logo-small bk-logo-notebook\"></a>\n",
       "        <span id=\"bc9164d1-d22f-4b3d-b16b-34785084e8fb\">Loading BokehJS ...</span>\n",
       "    </div>"
      ]
     },
     "metadata": {},
     "output_type": "display_data"
    },
    {
     "data": {
      "application/javascript": [
       "\n",
       "(function(global) {\n",
       "  function now() {\n",
       "    return new Date();\n",
       "  }\n",
       "\n",
       "  var force = \"1\";\n",
       "\n",
       "  if (typeof (window._bokeh_onload_callbacks) === \"undefined\" || force !== \"\") {\n",
       "    window._bokeh_onload_callbacks = [];\n",
       "    window._bokeh_is_loading = undefined;\n",
       "  }\n",
       "\n",
       "\n",
       "  \n",
       "  if (typeof (window._bokeh_timeout) === \"undefined\" || force !== \"\") {\n",
       "    window._bokeh_timeout = Date.now() + 5000;\n",
       "    window._bokeh_failed_load = false;\n",
       "  }\n",
       "\n",
       "  var NB_LOAD_WARNING = {'data': {'text/html':\n",
       "     \"<div style='background-color: #fdd'>\\n\"+\n",
       "     \"<p>\\n\"+\n",
       "     \"BokehJS does not appear to have successfully loaded. If loading BokehJS from CDN, this \\n\"+\n",
       "     \"may be due to a slow or bad network connection. Possible fixes:\\n\"+\n",
       "     \"</p>\\n\"+\n",
       "     \"<ul>\\n\"+\n",
       "     \"<li>re-rerun `output_notebook()` to attempt to load from CDN again, or</li>\\n\"+\n",
       "     \"<li>use INLINE resources instead, as so:</li>\\n\"+\n",
       "     \"</ul>\\n\"+\n",
       "     \"<code>\\n\"+\n",
       "     \"from bokeh.resources import INLINE\\n\"+\n",
       "     \"output_notebook(resources=INLINE)\\n\"+\n",
       "     \"</code>\\n\"+\n",
       "     \"</div>\"}};\n",
       "\n",
       "  function display_loaded() {\n",
       "    if (window.Bokeh !== undefined) {\n",
       "      Bokeh.$(\"#bc9164d1-d22f-4b3d-b16b-34785084e8fb\").text(\"BokehJS successfully loaded.\");\n",
       "    } else if (Date.now() < window._bokeh_timeout) {\n",
       "      setTimeout(display_loaded, 100)\n",
       "    }\n",
       "  }\n",
       "\n",
       "  function run_callbacks() {\n",
       "    window._bokeh_onload_callbacks.forEach(function(callback) { callback() });\n",
       "    delete window._bokeh_onload_callbacks\n",
       "    console.info(\"Bokeh: all callbacks have finished\");\n",
       "  }\n",
       "\n",
       "  function load_libs(js_urls, callback) {\n",
       "    window._bokeh_onload_callbacks.push(callback);\n",
       "    if (window._bokeh_is_loading > 0) {\n",
       "      console.log(\"Bokeh: BokehJS is being loaded, scheduling callback at\", now());\n",
       "      return null;\n",
       "    }\n",
       "    if (js_urls == null || js_urls.length === 0) {\n",
       "      run_callbacks();\n",
       "      return null;\n",
       "    }\n",
       "    console.log(\"Bokeh: BokehJS not loaded, scheduling load and callback at\", now());\n",
       "    window._bokeh_is_loading = js_urls.length;\n",
       "    for (var i = 0; i < js_urls.length; i++) {\n",
       "      var url = js_urls[i];\n",
       "      var s = document.createElement('script');\n",
       "      s.src = url;\n",
       "      s.async = false;\n",
       "      s.onreadystatechange = s.onload = function() {\n",
       "        window._bokeh_is_loading--;\n",
       "        if (window._bokeh_is_loading === 0) {\n",
       "          console.log(\"Bokeh: all BokehJS libraries loaded\");\n",
       "          run_callbacks()\n",
       "        }\n",
       "      };\n",
       "      s.onerror = function() {\n",
       "        console.warn(\"failed to load library \" + url);\n",
       "      };\n",
       "      console.log(\"Bokeh: injecting script tag for BokehJS library: \", url);\n",
       "      document.getElementsByTagName(\"head\")[0].appendChild(s);\n",
       "    }\n",
       "  };var element = document.getElementById(\"bc9164d1-d22f-4b3d-b16b-34785084e8fb\");\n",
       "  if (element == null) {\n",
       "    console.log(\"Bokeh: ERROR: autoload.js configured with elementid 'bc9164d1-d22f-4b3d-b16b-34785084e8fb' but no matching script tag was found. \")\n",
       "    return false;\n",
       "  }\n",
       "\n",
       "  var js_urls = ['https://cdn.pydata.org/bokeh/release/bokeh-0.12.3.min.js', 'https://cdn.pydata.org/bokeh/release/bokeh-widgets-0.12.3.min.js'];\n",
       "\n",
       "  var inline_js = [\n",
       "    function(Bokeh) {\n",
       "      Bokeh.set_log_level(\"info\");\n",
       "    },\n",
       "    \n",
       "    function(Bokeh) {\n",
       "      \n",
       "      Bokeh.$(\"#bc9164d1-d22f-4b3d-b16b-34785084e8fb\").text(\"BokehJS is loading...\");\n",
       "    },\n",
       "    function(Bokeh) {\n",
       "      console.log(\"Bokeh: injecting CSS: https://cdn.pydata.org/bokeh/release/bokeh-0.12.3.min.css\");\n",
       "      Bokeh.embed.inject_css(\"https://cdn.pydata.org/bokeh/release/bokeh-0.12.3.min.css\");\n",
       "      console.log(\"Bokeh: injecting CSS: https://cdn.pydata.org/bokeh/release/bokeh-widgets-0.12.3.min.css\");\n",
       "      Bokeh.embed.inject_css(\"https://cdn.pydata.org/bokeh/release/bokeh-widgets-0.12.3.min.css\");\n",
       "    }\n",
       "  ];\n",
       "\n",
       "  function run_inline_js() {\n",
       "    \n",
       "    if ((window.Bokeh !== undefined) || (force === \"1\")) {\n",
       "      for (var i = 0; i < inline_js.length; i++) {\n",
       "        inline_js[i](window.Bokeh);\n",
       "      }if (force === \"1\") {\n",
       "        display_loaded();\n",
       "      }} else if (Date.now() < window._bokeh_timeout) {\n",
       "      setTimeout(run_inline_js, 100);\n",
       "    } else if (!window._bokeh_failed_load) {\n",
       "      console.log(\"Bokeh: BokehJS failed to load within specified timeout.\");\n",
       "      window._bokeh_failed_load = true;\n",
       "    } else if (!force) {\n",
       "      var cell = $(\"#bc9164d1-d22f-4b3d-b16b-34785084e8fb\").parents('.cell').data().cell;\n",
       "      cell.output_area.append_execute_result(NB_LOAD_WARNING)\n",
       "    }\n",
       "\n",
       "  }\n",
       "\n",
       "  if (window._bokeh_is_loading === 0) {\n",
       "    console.log(\"Bokeh: BokehJS loaded, going straight to plotting\");\n",
       "    run_inline_js();\n",
       "  } else {\n",
       "    load_libs(js_urls, function() {\n",
       "      console.log(\"Bokeh: BokehJS plotting callback run at\", now());\n",
       "      run_inline_js();\n",
       "    });\n",
       "  }\n",
       "}(this));"
      ]
     },
     "metadata": {},
     "output_type": "display_data"
    }
   ],
   "source": [
    "import pandas as pd\n",
    "import numpy as np\n",
    "import os\n",
    "import qgrid\n",
    "import bokeh\n",
    "\n",
    "from bokeh.plotting import figure, show, output_notebook, output_file\n",
    "output_notebook()\n",
    "from IPython.display import Image, HTML, Javascript\n",
    "\n",
    "rootdir = '/Users/Imperssonator/Dropbox/OFET Fab Table/OFET-Database-master/Papers/'\n",
    "elsa_papers = ['Chang 2014', 'Chang 2016', 'Choi 2014', 'Kleinhenz 2016', 'Wang 2015']\n"
   ]
  },
  {
   "cell_type": "code",
   "execution_count": 2,
   "metadata": {
    "collapsed": false
   },
   "outputs": [
    {
     "name": "stdout",
     "output_type": "stream",
     "text": [
      "Chang 2014.xlsx\n",
      "Chang 2016.xlsx\n",
      "Choi 2014.xlsx\n",
      "Kleinhenz 2016.xlsx\n",
      "Wang 2015.xlsx\n"
     ]
    }
   ],
   "source": [
    "\n",
    "df = pd.DataFrame()\n",
    "\n",
    "for subdir, dirs, files in os.walk(rootdir):\n",
    "    for file in files:\n",
    "        if file[-4:] == 'xlsx':\n",
    "            if file[:-5] in elsa_papers:\n",
    "                dfi = pd.read_excel(os.path.join(subdir,file),index_col=0,header=None)\n",
    "                dfi = dfi.transpose()\n",
    "                df = df.append(dfi)\n",
    "                print(file)\n",
    "\n",
    "df['SonicationTime'][df['SonicationTime'].apply(lambda x: np.isnan(x))] = 0\n",
    "df['Sonicated']=df['SonicationTime']\n",
    "df['Sonicated'][df['SonicationTime']>0]=1\n",
    "df['Sonicated'][df['SonicationTime']<=0]=0"
   ]
  },
  {
   "cell_type": "code",
   "execution_count": 3,
   "metadata": {
    "collapsed": false
   },
   "outputs": [
    {
     "data": {
      "text/html": [
       "<script type=\"text/javascript\">\n",
       "if ($(\"#dg-css\").length == 0){\n",
       "    $(\"head\").append([\n",
       "        \"<link href='/nbextensions/qgridjs/lib/slick.grid.css' rel='stylesheet'>\",\n",
       "        \"<link href='/nbextensions/qgridjs/lib/slick-default-theme.css' rel='stylesheet'>\",\n",
       "        \"<link href='http://cdnjs.cloudflare.com/ajax/libs/jqueryui/1.10.4/css/jquery-ui.min.css' rel='stylesheet'>\",\n",
       "        \"<link id='dg-css' href='/nbextensions/qgridjs/qgrid.css' rel='stylesheet'>\"\n",
       "    ]);\n",
       "}\n",
       "</script>\n",
       "<div class='q-grid-container'>\n",
       "<div id='22b2d0ce-14ca-4c43-9fd5-0d963db940b3' class='q-grid'></div>\n",
       "</div>"
      ]
     },
     "metadata": {},
     "output_type": "display_data"
    },
    {
     "data": {
      "application/javascript": [
       "var path_dictionary = {\n",
       "    jquery_drag: \"/nbextensions/qgridjs/lib/jquery.event.drag-2.2\",\n",
       "    slick_core: \"/nbextensions/qgridjs/lib/slick.core.2.2\",\n",
       "    slick_data_view: \"/nbextensions/qgridjs/lib/slick.dataview.2.2\",\n",
       "    slick_check_box_column: \"/nbextensions/qgridjs/lib/slick.checkboxselectcolumn\",\n",
       "    slick_row_selection_model: \"/nbextensions/qgridjs/lib/slick.rowselectionmodel\",\n",
       "    slick_grid: \"/nbextensions/qgridjs/lib/slick.grid.2.2\",\n",
       "    data_grid: \"/nbextensions/qgridjs/qgrid\",\n",
       "    date_filter: \"/nbextensions/qgridjs/qgrid.datefilter\",\n",
       "    slider_filter: \"/nbextensions/qgridjs/qgrid.sliderfilter\",\n",
       "    text_filter: \"/nbextensions/qgridjs/qgrid.textfilter\",\n",
       "    filter_base:  \"/nbextensions/qgridjs/qgrid.filterbase\",\n",
       "    handlebars: \"https://cdnjs.cloudflare.com/ajax/libs/handlebars.js/2.0.0/handlebars.min\"\n",
       "};\n",
       "\n",
       "var existing_config = require.s.contexts._.config;\n",
       "if (!existing_config.paths['underscore']){\n",
       "    path_dictionary['underscore'] = \"https://cdnjs.cloudflare.com/ajax/libs/underscore.js/1.7.0/underscore-min\";\n",
       "}\n",
       "\n",
       "if (!existing_config.paths['moment']){\n",
       "    path_dictionary['moment'] = \"https://cdnjs.cloudflare.com/ajax/libs/moment.js/2.8.3/moment.min\";\n",
       "}\n",
       "\n",
       "if (!existing_config.paths['jqueryui']){\n",
       "    path_dictionary['jqueryui'] = \"https://ajax.googleapis.com/ajax/libs/jqueryui/1.11.1/jquery-ui.min\";\n",
       "}\n",
       "\n",
       "require.config({\n",
       "    paths: path_dictionary\n",
       "});\n",
       "\n",
       "if (typeof jQuery === 'function') {\n",
       "    define('jquery', function() { return jQuery; });\n",
       "}\n",
       "\n",
       "require([\n",
       "    'jquery',\n",
       "    'jquery_drag',\n",
       "    'slick_core',\n",
       "    'slick_data_view'\n",
       "],\n",
       "function($){\n",
       "    $('#22b2d0ce-14ca-4c43-9fd5-0d963db940b3').closest('.rendered_html').removeClass('rendered_html');\n",
       "    require([\n",
       "      'slick_check_box_column',\n",
       "      'slick_row_selection_model',\n",
       "      'slick_grid'\n",
       "    ], function(){\n",
       "        require([\"data_grid\"], function(dgrid){\n",
       "            var grid = new dgrid.QGrid('#22b2d0ce-14ca-4c43-9fd5-0d963db940b3', [{\"null\":1,\"AgeTemp\":null,\"AgeTime\":null,\"AnnCool\":null,\"AnnTemp\":null,\"AnnTime\":null,\"Author\":\"Chang\",\"BP\":null,\"BladeH\":null,\"BladeVel\":null,\"CastCond\":null,\"ChanLen\":50,\"ChanWid\":2,\"ChannelConfig\":\"Single\",\"CoolResTime\":null,\"Cooling\":null,\"CorrLen\":null,\"DOI\":\"10.1021\\/am506546ki\",\"Depo\":\"SPUN\",\"DevName\":null,\"DipRate\":null,\"DropSize\":null,\"ElectrodeMat\":\"Au\",\"EvapCont\":null,\"FibLen\":null,\"FilmAggFrac\":49.3,\"FilmEB\":0.135,\"FilmRange\":null,\"FilmThick\":null,\"GateMate\":null,\"GrainSize100\":null,\"HR\":null,\"Herman\":null,\"InitConc\":5,\"MFFlowRate\":null,\"Mn\":19.7,\"MobEnv\":\"N2\",\"Mw\":43.7,\"Notes\":null,\"NozzleDis\":null,\"OFETConfig\":\"BGBC\",\"OFETReg\":\"Saturation\",\"PDI\":2,\"ProcEnv\":\"Air\",\"RR\":0.96,\"RTMob\":0.023,\"Sfull\":null,\"SolAggFrac\":null,\"SolEB\":null,\"SolTreat\":null,\"Solv1\":\"CHCl3\",\"Solv2\":null,\"SonicationTime\":0,\"Space010\":null,\"Space100\":16.49,\"SpinRate\":1500,\"SpinTime\":60,\"SprayTime\":null,\"SubsTreat\":null,\"UVResTime\":null,\"UVTime\":0,\"VFSolv1\":null,\"VT\":null,\"Vds\":-80,\"Year\":2014,\"Sonicated\":0},{\"null\":2,\"AgeTemp\":null,\"AgeTime\":null,\"AnnCool\":null,\"AnnTemp\":null,\"AnnTime\":null,\"Author\":\"Chang\",\"BP\":null,\"BladeH\":null,\"BladeVel\":null,\"CastCond\":null,\"ChanLen\":50,\"ChanWid\":2,\"ChannelConfig\":\"Single\",\"CoolResTime\":null,\"Cooling\":null,\"CorrLen\":null,\"DOI\":\"10.1021\\/am506546ki\",\"Depo\":\"SPUN\",\"DevName\":null,\"DipRate\":null,\"DropSize\":null,\"ElectrodeMat\":\"Au\",\"EvapCont\":null,\"FibLen\":null,\"FilmAggFrac\":null,\"FilmEB\":null,\"FilmRange\":null,\"FilmThick\":null,\"GateMate\":null,\"GrainSize100\":null,\"HR\":null,\"Herman\":null,\"InitConc\":5,\"MFFlowRate\":null,\"Mn\":19.7,\"MobEnv\":\"N2\",\"Mw\":43.7,\"Notes\":null,\"NozzleDis\":null,\"OFETConfig\":\"BGBC\",\"OFETReg\":\"Saturation\",\"PDI\":2,\"ProcEnv\":\"Air\",\"RR\":0.96,\"RTMob\":0.069,\"Sfull\":null,\"SolAggFrac\":null,\"SolEB\":null,\"SolTreat\":null,\"Solv1\":\"CHCl3\",\"Solv2\":null,\"SonicationTime\":0,\"Space010\":null,\"Space100\":null,\"SpinRate\":1500,\"SpinTime\":60,\"SprayTime\":null,\"SubsTreat\":null,\"UVResTime\":null,\"UVTime\":2,\"VFSolv1\":null,\"VT\":null,\"Vds\":-80,\"Year\":2014,\"Sonicated\":0},{\"null\":3,\"AgeTemp\":null,\"AgeTime\":null,\"AnnCool\":null,\"AnnTemp\":null,\"AnnTime\":null,\"Author\":\"Chang\",\"BP\":null,\"BladeH\":null,\"BladeVel\":null,\"CastCond\":null,\"ChanLen\":50,\"ChanWid\":2,\"ChannelConfig\":\"Single\",\"CoolResTime\":null,\"Cooling\":null,\"CorrLen\":null,\"DOI\":\"10.1021\\/am506546ki\",\"Depo\":\"SPUN\",\"DevName\":null,\"DipRate\":null,\"DropSize\":null,\"ElectrodeMat\":\"Au\",\"EvapCont\":null,\"FibLen\":null,\"FilmAggFrac\":null,\"FilmEB\":null,\"FilmRange\":null,\"FilmThick\":null,\"GateMate\":null,\"GrainSize100\":null,\"HR\":null,\"Herman\":null,\"InitConc\":5,\"MFFlowRate\":null,\"Mn\":19.7,\"MobEnv\":\"N2\",\"Mw\":43.7,\"Notes\":null,\"NozzleDis\":null,\"OFETConfig\":\"BGBC\",\"OFETReg\":\"Saturation\",\"PDI\":2,\"ProcEnv\":\"Air\",\"RR\":0.96,\"RTMob\":0.081,\"Sfull\":null,\"SolAggFrac\":null,\"SolEB\":null,\"SolTreat\":null,\"Solv1\":\"CHCl3\",\"Solv2\":null,\"SonicationTime\":0,\"Space010\":null,\"Space100\":null,\"SpinRate\":1500,\"SpinTime\":60,\"SprayTime\":null,\"SubsTreat\":null,\"UVResTime\":null,\"UVTime\":4,\"VFSolv1\":null,\"VT\":null,\"Vds\":-80,\"Year\":2014,\"Sonicated\":0},{\"null\":4,\"AgeTemp\":null,\"AgeTime\":null,\"AnnCool\":null,\"AnnTemp\":null,\"AnnTime\":null,\"Author\":\"Chang\",\"BP\":null,\"BladeH\":null,\"BladeVel\":null,\"CastCond\":null,\"ChanLen\":50,\"ChanWid\":2,\"ChannelConfig\":\"Single\",\"CoolResTime\":null,\"Cooling\":null,\"CorrLen\":null,\"DOI\":\"10.1021\\/am506546ki\",\"Depo\":\"SPUN\",\"DevName\":null,\"DipRate\":null,\"DropSize\":null,\"ElectrodeMat\":\"Au\",\"EvapCont\":null,\"FibLen\":null,\"FilmAggFrac\":53.6,\"FilmEB\":0.099,\"FilmRange\":null,\"FilmThick\":null,\"GateMate\":null,\"GrainSize100\":null,\"HR\":null,\"Herman\":null,\"InitConc\":5,\"MFFlowRate\":null,\"Mn\":19.7,\"MobEnv\":\"N2\",\"Mw\":43.7,\"Notes\":null,\"NozzleDis\":null,\"OFETConfig\":\"BGBC\",\"OFETReg\":\"Saturation\",\"PDI\":2,\"ProcEnv\":\"Air\",\"RR\":0.96,\"RTMob\":0.091,\"Sfull\":null,\"SolAggFrac\":null,\"SolEB\":null,\"SolTreat\":null,\"Solv1\":\"CHCl3\",\"Solv2\":null,\"SonicationTime\":0,\"Space010\":null,\"Space100\":16.24,\"SpinRate\":1500,\"SpinTime\":60,\"SprayTime\":null,\"SubsTreat\":null,\"UVResTime\":null,\"UVTime\":6,\"VFSolv1\":null,\"VT\":null,\"Vds\":-80,\"Year\":2014,\"Sonicated\":0},{\"null\":5,\"AgeTemp\":null,\"AgeTime\":null,\"AnnCool\":null,\"AnnTemp\":null,\"AnnTime\":null,\"Author\":\"Chang\",\"BP\":null,\"BladeH\":null,\"BladeVel\":null,\"CastCond\":null,\"ChanLen\":50,\"ChanWid\":2,\"ChannelConfig\":\"Single\",\"CoolResTime\":null,\"Cooling\":null,\"CorrLen\":null,\"DOI\":\"10.1021\\/am506546ki\",\"Depo\":\"SPUN\",\"DevName\":null,\"DipRate\":null,\"DropSize\":null,\"ElectrodeMat\":\"Au\",\"EvapCont\":null,\"FibLen\":null,\"FilmAggFrac\":59.6,\"FilmEB\":0.0365,\"FilmRange\":null,\"FilmThick\":null,\"GateMate\":null,\"GrainSize100\":null,\"HR\":null,\"Herman\":null,\"InitConc\":5,\"MFFlowRate\":null,\"Mn\":19.7,\"MobEnv\":\"N2\",\"Mw\":43.7,\"Notes\":null,\"NozzleDis\":null,\"OFETConfig\":\"BGBC\",\"OFETReg\":\"Saturation\",\"PDI\":2,\"ProcEnv\":\"Air\",\"RR\":0.96,\"RTMob\":0.085,\"Sfull\":null,\"SolAggFrac\":null,\"SolEB\":null,\"SolTreat\":null,\"Solv1\":\"CHCl3\",\"Solv2\":null,\"SonicationTime\":2,\"Space010\":null,\"Space100\":16.36,\"SpinRate\":1500,\"SpinTime\":60,\"SprayTime\":null,\"SubsTreat\":null,\"UVResTime\":null,\"UVTime\":0,\"VFSolv1\":null,\"VT\":null,\"Vds\":-80,\"Year\":2014,\"Sonicated\":1},{\"null\":6,\"AgeTemp\":null,\"AgeTime\":null,\"AnnCool\":null,\"AnnTemp\":null,\"AnnTime\":null,\"Author\":\"Chang\",\"BP\":null,\"BladeH\":null,\"BladeVel\":null,\"CastCond\":null,\"ChanLen\":50,\"ChanWid\":2,\"ChannelConfig\":\"Single\",\"CoolResTime\":null,\"Cooling\":null,\"CorrLen\":null,\"DOI\":\"10.1021\\/am506546ki\",\"Depo\":\"SPUN\",\"DevName\":null,\"DipRate\":null,\"DropSize\":null,\"ElectrodeMat\":\"Au\",\"EvapCont\":null,\"FibLen\":null,\"FilmAggFrac\":null,\"FilmEB\":null,\"FilmRange\":null,\"FilmThick\":null,\"GateMate\":null,\"GrainSize100\":null,\"HR\":null,\"Herman\":null,\"InitConc\":5,\"MFFlowRate\":null,\"Mn\":19.7,\"MobEnv\":\"N2\",\"Mw\":43.7,\"Notes\":null,\"NozzleDis\":null,\"OFETConfig\":\"BGBC\",\"OFETReg\":\"Saturation\",\"PDI\":2,\"ProcEnv\":\"Air\",\"RR\":0.96,\"RTMob\":0.09,\"Sfull\":null,\"SolAggFrac\":null,\"SolEB\":null,\"SolTreat\":null,\"Solv1\":\"CHCl3\",\"Solv2\":null,\"SonicationTime\":2,\"Space010\":null,\"Space100\":null,\"SpinRate\":1500,\"SpinTime\":60,\"SprayTime\":null,\"SubsTreat\":null,\"UVResTime\":null,\"UVTime\":2,\"VFSolv1\":null,\"VT\":null,\"Vds\":-80,\"Year\":2014,\"Sonicated\":1},{\"null\":7,\"AgeTemp\":null,\"AgeTime\":null,\"AnnCool\":null,\"AnnTemp\":null,\"AnnTime\":null,\"Author\":\"Chang\",\"BP\":null,\"BladeH\":null,\"BladeVel\":null,\"CastCond\":null,\"ChanLen\":50,\"ChanWid\":2,\"ChannelConfig\":\"Single\",\"CoolResTime\":null,\"Cooling\":null,\"CorrLen\":null,\"DOI\":\"10.1021\\/am506546ki\",\"Depo\":\"SPUN\",\"DevName\":null,\"DipRate\":null,\"DropSize\":null,\"ElectrodeMat\":\"Au\",\"EvapCont\":null,\"FibLen\":null,\"FilmAggFrac\":null,\"FilmEB\":null,\"FilmRange\":null,\"FilmThick\":null,\"GateMate\":null,\"GrainSize100\":null,\"HR\":null,\"Herman\":null,\"InitConc\":5,\"MFFlowRate\":null,\"Mn\":19.7,\"MobEnv\":\"N2\",\"Mw\":43.7,\"Notes\":null,\"NozzleDis\":null,\"OFETConfig\":\"BGBC\",\"OFETReg\":\"Saturation\",\"PDI\":2,\"ProcEnv\":\"Air\",\"RR\":0.96,\"RTMob\":0.102,\"Sfull\":null,\"SolAggFrac\":null,\"SolEB\":null,\"SolTreat\":null,\"Solv1\":\"CHCl3\",\"Solv2\":null,\"SonicationTime\":2,\"Space010\":null,\"Space100\":null,\"SpinRate\":1500,\"SpinTime\":60,\"SprayTime\":null,\"SubsTreat\":null,\"UVResTime\":null,\"UVTime\":4,\"VFSolv1\":null,\"VT\":null,\"Vds\":-80,\"Year\":2014,\"Sonicated\":1},{\"null\":8,\"AgeTemp\":null,\"AgeTime\":null,\"AnnCool\":null,\"AnnTemp\":null,\"AnnTime\":null,\"Author\":\"Chang\",\"BP\":null,\"BladeH\":null,\"BladeVel\":null,\"CastCond\":null,\"ChanLen\":50,\"ChanWid\":2,\"ChannelConfig\":\"Single\",\"CoolResTime\":null,\"Cooling\":null,\"CorrLen\":null,\"DOI\":\"10.1021\\/am506546ki\",\"Depo\":\"SPUN\",\"DevName\":null,\"DipRate\":null,\"DropSize\":null,\"ElectrodeMat\":\"Au\",\"EvapCont\":null,\"FibLen\":null,\"FilmAggFrac\":58.4,\"FilmEB\":0.015,\"FilmRange\":null,\"FilmThick\":null,\"GateMate\":null,\"GrainSize100\":null,\"HR\":null,\"Herman\":null,\"InitConc\":5,\"MFFlowRate\":null,\"Mn\":19.7,\"MobEnv\":\"N2\",\"Mw\":43.7,\"Notes\":null,\"NozzleDis\":null,\"OFETConfig\":\"BGBC\",\"OFETReg\":\"Saturation\",\"PDI\":2,\"ProcEnv\":\"Air\",\"RR\":0.96,\"RTMob\":0.12,\"Sfull\":null,\"SolAggFrac\":null,\"SolEB\":null,\"SolTreat\":null,\"Solv1\":\"CHCl3\",\"Solv2\":null,\"SonicationTime\":2,\"Space010\":null,\"Space100\":16.36,\"SpinRate\":1500,\"SpinTime\":60,\"SprayTime\":null,\"SubsTreat\":null,\"UVResTime\":null,\"UVTime\":6,\"VFSolv1\":null,\"VT\":null,\"Vds\":-80,\"Year\":2014,\"Sonicated\":1},{\"null\":9,\"AgeTemp\":null,\"AgeTime\":null,\"AnnCool\":null,\"AnnTemp\":null,\"AnnTime\":null,\"Author\":\"Chang\",\"BP\":null,\"BladeH\":null,\"BladeVel\":null,\"CastCond\":null,\"ChanLen\":50,\"ChanWid\":2,\"ChannelConfig\":\"Single\",\"CoolResTime\":null,\"Cooling\":null,\"CorrLen\":null,\"DOI\":\"10.1021\\/am506546ki\",\"Depo\":\"SPUN\",\"DevName\":null,\"DipRate\":null,\"DropSize\":null,\"ElectrodeMat\":\"Au\",\"EvapCont\":null,\"FibLen\":null,\"FilmAggFrac\":null,\"FilmEB\":null,\"FilmRange\":null,\"FilmThick\":null,\"GateMate\":null,\"GrainSize100\":null,\"HR\":null,\"Herman\":null,\"InitConc\":5,\"MFFlowRate\":null,\"Mn\":19.7,\"MobEnv\":\"N2\",\"Mw\":43.7,\"Notes\":null,\"NozzleDis\":null,\"OFETConfig\":\"BGBC\",\"OFETReg\":\"Saturation\",\"PDI\":2,\"ProcEnv\":\"Air\",\"RR\":0.96,\"RTMob\":0.072,\"Sfull\":null,\"SolAggFrac\":null,\"SolEB\":null,\"SolTreat\":null,\"Solv1\":\"CHCl3\",\"Solv2\":null,\"SonicationTime\":4,\"Space010\":null,\"Space100\":null,\"SpinRate\":1500,\"SpinTime\":60,\"SprayTime\":null,\"SubsTreat\":null,\"UVResTime\":null,\"UVTime\":0,\"VFSolv1\":null,\"VT\":null,\"Vds\":-80,\"Year\":2014,\"Sonicated\":1},{\"null\":10,\"AgeTemp\":null,\"AgeTime\":null,\"AnnCool\":null,\"AnnTemp\":null,\"AnnTime\":null,\"Author\":\"Chang\",\"BP\":null,\"BladeH\":null,\"BladeVel\":null,\"CastCond\":null,\"ChanLen\":50,\"ChanWid\":2,\"ChannelConfig\":\"Single\",\"CoolResTime\":null,\"Cooling\":null,\"CorrLen\":null,\"DOI\":\"10.1021\\/am506546ki\",\"Depo\":\"SPUN\",\"DevName\":null,\"DipRate\":null,\"DropSize\":null,\"ElectrodeMat\":\"Au\",\"EvapCont\":null,\"FibLen\":null,\"FilmAggFrac\":null,\"FilmEB\":null,\"FilmRange\":null,\"FilmThick\":null,\"GateMate\":null,\"GrainSize100\":null,\"HR\":null,\"Herman\":null,\"InitConc\":5,\"MFFlowRate\":null,\"Mn\":19.7,\"MobEnv\":\"N2\",\"Mw\":43.7,\"Notes\":null,\"NozzleDis\":null,\"OFETConfig\":\"BGBC\",\"OFETReg\":\"Saturation\",\"PDI\":2,\"ProcEnv\":\"Air\",\"RR\":0.96,\"RTMob\":0.094,\"Sfull\":null,\"SolAggFrac\":null,\"SolEB\":null,\"SolTreat\":null,\"Solv1\":\"CHCl3\",\"Solv2\":null,\"SonicationTime\":4,\"Space010\":null,\"Space100\":null,\"SpinRate\":1500,\"SpinTime\":60,\"SprayTime\":null,\"SubsTreat\":null,\"UVResTime\":null,\"UVTime\":2,\"VFSolv1\":null,\"VT\":null,\"Vds\":-80,\"Year\":2014,\"Sonicated\":1},{\"null\":11,\"AgeTemp\":null,\"AgeTime\":null,\"AnnCool\":null,\"AnnTemp\":null,\"AnnTime\":null,\"Author\":\"Chang\",\"BP\":null,\"BladeH\":null,\"BladeVel\":null,\"CastCond\":null,\"ChanLen\":50,\"ChanWid\":2,\"ChannelConfig\":\"Single\",\"CoolResTime\":null,\"Cooling\":null,\"CorrLen\":null,\"DOI\":\"10.1021\\/am506546ki\",\"Depo\":\"SPUN\",\"DevName\":null,\"DipRate\":null,\"DropSize\":null,\"ElectrodeMat\":\"Au\",\"EvapCont\":null,\"FibLen\":null,\"FilmAggFrac\":null,\"FilmEB\":null,\"FilmRange\":null,\"FilmThick\":null,\"GateMate\":null,\"GrainSize100\":null,\"HR\":null,\"Herman\":null,\"InitConc\":5,\"MFFlowRate\":null,\"Mn\":19.7,\"MobEnv\":\"N2\",\"Mw\":43.7,\"Notes\":null,\"NozzleDis\":null,\"OFETConfig\":\"BGBC\",\"OFETReg\":\"Saturation\",\"PDI\":2,\"ProcEnv\":\"Air\",\"RR\":0.96,\"RTMob\":0.101,\"Sfull\":null,\"SolAggFrac\":null,\"SolEB\":null,\"SolTreat\":null,\"Solv1\":\"CHCl3\",\"Solv2\":null,\"SonicationTime\":4,\"Space010\":null,\"Space100\":null,\"SpinRate\":1500,\"SpinTime\":60,\"SprayTime\":null,\"SubsTreat\":null,\"UVResTime\":null,\"UVTime\":4,\"VFSolv1\":null,\"VT\":null,\"Vds\":-80,\"Year\":2014,\"Sonicated\":1},{\"null\":12,\"AgeTemp\":null,\"AgeTime\":null,\"AnnCool\":null,\"AnnTemp\":null,\"AnnTime\":null,\"Author\":\"Chang\",\"BP\":null,\"BladeH\":null,\"BladeVel\":null,\"CastCond\":null,\"ChanLen\":50,\"ChanWid\":2,\"ChannelConfig\":\"Single\",\"CoolResTime\":null,\"Cooling\":null,\"CorrLen\":null,\"DOI\":\"10.1021\\/am506546ki\",\"Depo\":\"SPUN\",\"DevName\":null,\"DipRate\":null,\"DropSize\":null,\"ElectrodeMat\":\"Au\",\"EvapCont\":null,\"FibLen\":null,\"FilmAggFrac\":null,\"FilmEB\":null,\"FilmRange\":null,\"FilmThick\":null,\"GateMate\":null,\"GrainSize100\":null,\"HR\":null,\"Herman\":null,\"InitConc\":5,\"MFFlowRate\":null,\"Mn\":19.7,\"MobEnv\":\"N2\",\"Mw\":43.7,\"Notes\":null,\"NozzleDis\":null,\"OFETConfig\":\"BGBC\",\"OFETReg\":\"Saturation\",\"PDI\":2,\"ProcEnv\":\"Air\",\"RR\":0.96,\"RTMob\":0.111,\"Sfull\":null,\"SolAggFrac\":null,\"SolEB\":null,\"SolTreat\":null,\"Solv1\":\"CHCl3\",\"Solv2\":null,\"SonicationTime\":4,\"Space010\":null,\"Space100\":null,\"SpinRate\":1500,\"SpinTime\":60,\"SprayTime\":null,\"SubsTreat\":null,\"UVResTime\":null,\"UVTime\":6,\"VFSolv1\":null,\"VT\":null,\"Vds\":-80,\"Year\":2014,\"Sonicated\":1},{\"null\":13,\"AgeTemp\":null,\"AgeTime\":null,\"AnnCool\":null,\"AnnTemp\":null,\"AnnTime\":null,\"Author\":\"Chang\",\"BP\":null,\"BladeH\":null,\"BladeVel\":null,\"CastCond\":null,\"ChanLen\":50,\"ChanWid\":2,\"ChannelConfig\":\"Single\",\"CoolResTime\":null,\"Cooling\":null,\"CorrLen\":null,\"DOI\":\"10.1021\\/am506546ki\",\"Depo\":\"SPUN\",\"DevName\":null,\"DipRate\":null,\"DropSize\":null,\"ElectrodeMat\":\"Au\",\"EvapCont\":null,\"FibLen\":null,\"FilmAggFrac\":null,\"FilmEB\":null,\"FilmRange\":null,\"FilmThick\":null,\"GateMate\":null,\"GrainSize100\":null,\"HR\":null,\"Herman\":null,\"InitConc\":5,\"MFFlowRate\":null,\"Mn\":19.7,\"MobEnv\":\"N2\",\"Mw\":43.7,\"Notes\":null,\"NozzleDis\":null,\"OFETConfig\":\"BGBC\",\"OFETReg\":\"Saturation\",\"PDI\":2,\"ProcEnv\":\"Air\",\"RR\":0.96,\"RTMob\":0.051,\"Sfull\":null,\"SolAggFrac\":null,\"SolEB\":null,\"SolTreat\":null,\"Solv1\":\"CHCl3\",\"Solv2\":null,\"SonicationTime\":6,\"Space010\":null,\"Space100\":null,\"SpinRate\":1500,\"SpinTime\":60,\"SprayTime\":null,\"SubsTreat\":null,\"UVResTime\":null,\"UVTime\":0,\"VFSolv1\":null,\"VT\":null,\"Vds\":-80,\"Year\":2014,\"Sonicated\":1},{\"null\":14,\"AgeTemp\":null,\"AgeTime\":null,\"AnnCool\":null,\"AnnTemp\":null,\"AnnTime\":null,\"Author\":\"Chang\",\"BP\":null,\"BladeH\":null,\"BladeVel\":null,\"CastCond\":null,\"ChanLen\":50,\"ChanWid\":2,\"ChannelConfig\":\"Single\",\"CoolResTime\":null,\"Cooling\":null,\"CorrLen\":null,\"DOI\":\"10.1021\\/am506546ki\",\"Depo\":\"SPUN\",\"DevName\":null,\"DipRate\":null,\"DropSize\":null,\"ElectrodeMat\":\"Au\",\"EvapCont\":null,\"FibLen\":null,\"FilmAggFrac\":null,\"FilmEB\":null,\"FilmRange\":null,\"FilmThick\":null,\"GateMate\":null,\"GrainSize100\":null,\"HR\":null,\"Herman\":null,\"InitConc\":5,\"MFFlowRate\":null,\"Mn\":19.7,\"MobEnv\":\"N2\",\"Mw\":43.7,\"Notes\":null,\"NozzleDis\":null,\"OFETConfig\":\"BGBC\",\"OFETReg\":\"Saturation\",\"PDI\":2,\"ProcEnv\":\"Air\",\"RR\":0.96,\"RTMob\":0.05,\"Sfull\":null,\"SolAggFrac\":null,\"SolEB\":null,\"SolTreat\":null,\"Solv1\":\"CHCl3\",\"Solv2\":null,\"SonicationTime\":6,\"Space010\":null,\"Space100\":null,\"SpinRate\":1500,\"SpinTime\":60,\"SprayTime\":null,\"SubsTreat\":null,\"UVResTime\":null,\"UVTime\":2,\"VFSolv1\":null,\"VT\":null,\"Vds\":-80,\"Year\":2014,\"Sonicated\":1},{\"null\":15,\"AgeTemp\":null,\"AgeTime\":null,\"AnnCool\":null,\"AnnTemp\":null,\"AnnTime\":null,\"Author\":\"Chang\",\"BP\":null,\"BladeH\":null,\"BladeVel\":null,\"CastCond\":null,\"ChanLen\":50,\"ChanWid\":2,\"ChannelConfig\":\"Single\",\"CoolResTime\":null,\"Cooling\":null,\"CorrLen\":null,\"DOI\":\"10.1021\\/am506546ki\",\"Depo\":\"SPUN\",\"DevName\":null,\"DipRate\":null,\"DropSize\":null,\"ElectrodeMat\":\"Au\",\"EvapCont\":null,\"FibLen\":null,\"FilmAggFrac\":null,\"FilmEB\":null,\"FilmRange\":null,\"FilmThick\":null,\"GateMate\":null,\"GrainSize100\":null,\"HR\":null,\"Herman\":null,\"InitConc\":5,\"MFFlowRate\":null,\"Mn\":19.7,\"MobEnv\":\"N2\",\"Mw\":43.7,\"Notes\":null,\"NozzleDis\":null,\"OFETConfig\":\"BGBC\",\"OFETReg\":\"Saturation\",\"PDI\":2,\"ProcEnv\":\"Air\",\"RR\":0.96,\"RTMob\":0.059,\"Sfull\":null,\"SolAggFrac\":null,\"SolEB\":null,\"SolTreat\":null,\"Solv1\":\"CHCl3\",\"Solv2\":null,\"SonicationTime\":6,\"Space010\":null,\"Space100\":null,\"SpinRate\":1500,\"SpinTime\":60,\"SprayTime\":null,\"SubsTreat\":null,\"UVResTime\":null,\"UVTime\":4,\"VFSolv1\":null,\"VT\":null,\"Vds\":-80,\"Year\":2014,\"Sonicated\":1},{\"null\":16,\"AgeTemp\":null,\"AgeTime\":null,\"AnnCool\":null,\"AnnTemp\":null,\"AnnTime\":null,\"Author\":\"Chang\",\"BP\":null,\"BladeH\":null,\"BladeVel\":null,\"CastCond\":null,\"ChanLen\":50,\"ChanWid\":2,\"ChannelConfig\":\"Single\",\"CoolResTime\":null,\"Cooling\":null,\"CorrLen\":null,\"DOI\":\"10.1021\\/am506546ki\",\"Depo\":\"SPUN\",\"DevName\":null,\"DipRate\":null,\"DropSize\":null,\"ElectrodeMat\":\"Au\",\"EvapCont\":null,\"FibLen\":null,\"FilmAggFrac\":null,\"FilmEB\":null,\"FilmRange\":null,\"FilmThick\":null,\"GateMate\":null,\"GrainSize100\":null,\"HR\":null,\"Herman\":null,\"InitConc\":5,\"MFFlowRate\":null,\"Mn\":19.7,\"MobEnv\":\"N2\",\"Mw\":43.7,\"Notes\":null,\"NozzleDis\":null,\"OFETConfig\":\"BGBC\",\"OFETReg\":\"Saturation\",\"PDI\":2,\"ProcEnv\":\"Air\",\"RR\":0.96,\"RTMob\":0.077,\"Sfull\":null,\"SolAggFrac\":null,\"SolEB\":null,\"SolTreat\":null,\"Solv1\":\"CHCl3\",\"Solv2\":null,\"SonicationTime\":6,\"Space010\":null,\"Space100\":null,\"SpinRate\":1500,\"SpinTime\":60,\"SprayTime\":null,\"SubsTreat\":null,\"UVResTime\":null,\"UVTime\":6,\"VFSolv1\":null,\"VT\":null,\"Vds\":-80,\"Year\":2014,\"Sonicated\":1},{\"null\":17,\"AgeTemp\":null,\"AgeTime\":null,\"AnnCool\":null,\"AnnTemp\":null,\"AnnTime\":null,\"Author\":\"Chang\",\"BP\":null,\"BladeH\":null,\"BladeVel\":null,\"CastCond\":null,\"ChanLen\":50,\"ChanWid\":2,\"ChannelConfig\":\"Single\",\"CoolResTime\":null,\"Cooling\":null,\"CorrLen\":null,\"DOI\":\"10.1021\\/am506546ki\",\"Depo\":\"SPUN\",\"DevName\":null,\"DipRate\":null,\"DropSize\":null,\"ElectrodeMat\":\"Au\",\"EvapCont\":null,\"FibLen\":null,\"FilmAggFrac\":45.8,\"FilmEB\":0.138,\"FilmRange\":null,\"FilmThick\":null,\"GateMate\":null,\"GrainSize100\":null,\"HR\":null,\"Herman\":null,\"InitConc\":5,\"MFFlowRate\":null,\"Mn\":34.6,\"MobEnv\":\"N2\",\"Mw\":69,\"Notes\":null,\"NozzleDis\":null,\"OFETConfig\":\"BGBC\",\"OFETReg\":\"Saturation\",\"PDI\":2,\"ProcEnv\":\"Air\",\"RR\":0.92,\"RTMob\":0.004,\"Sfull\":null,\"SolAggFrac\":null,\"SolEB\":null,\"SolTreat\":null,\"Solv1\":\"CHCl3\",\"Solv2\":null,\"SonicationTime\":0,\"Space010\":null,\"Space100\":16.96,\"SpinRate\":1500,\"SpinTime\":60,\"SprayTime\":null,\"SubsTreat\":null,\"UVResTime\":null,\"UVTime\":0,\"VFSolv1\":null,\"VT\":null,\"Vds\":-80,\"Year\":2014,\"Sonicated\":0},{\"null\":18,\"AgeTemp\":null,\"AgeTime\":null,\"AnnCool\":null,\"AnnTemp\":null,\"AnnTime\":null,\"Author\":\"Chang\",\"BP\":null,\"BladeH\":null,\"BladeVel\":null,\"CastCond\":null,\"ChanLen\":50,\"ChanWid\":2,\"ChannelConfig\":\"Single\",\"CoolResTime\":null,\"Cooling\":null,\"CorrLen\":null,\"DOI\":\"10.1021\\/am506546ki\",\"Depo\":\"SPUN\",\"DevName\":null,\"DipRate\":null,\"DropSize\":null,\"ElectrodeMat\":\"Au\",\"EvapCont\":null,\"FibLen\":null,\"FilmAggFrac\":null,\"FilmEB\":null,\"FilmRange\":null,\"FilmThick\":null,\"GateMate\":null,\"GrainSize100\":null,\"HR\":null,\"Herman\":null,\"InitConc\":5,\"MFFlowRate\":null,\"Mn\":34.6,\"MobEnv\":\"N2\",\"Mw\":69,\"Notes\":null,\"NozzleDis\":null,\"OFETConfig\":\"BGBC\",\"OFETReg\":\"Saturation\",\"PDI\":2,\"ProcEnv\":\"Air\",\"RR\":0.92,\"RTMob\":0.01,\"Sfull\":null,\"SolAggFrac\":null,\"SolEB\":null,\"SolTreat\":null,\"Solv1\":\"CHCl3\",\"Solv2\":null,\"SonicationTime\":0,\"Space010\":null,\"Space100\":null,\"SpinRate\":1500,\"SpinTime\":60,\"SprayTime\":null,\"SubsTreat\":null,\"UVResTime\":null,\"UVTime\":2,\"VFSolv1\":null,\"VT\":null,\"Vds\":-80,\"Year\":2014,\"Sonicated\":0},{\"null\":19,\"AgeTemp\":null,\"AgeTime\":null,\"AnnCool\":null,\"AnnTemp\":null,\"AnnTime\":null,\"Author\":\"Chang\",\"BP\":null,\"BladeH\":null,\"BladeVel\":null,\"CastCond\":null,\"ChanLen\":50,\"ChanWid\":2,\"ChannelConfig\":\"Single\",\"CoolResTime\":null,\"Cooling\":null,\"CorrLen\":null,\"DOI\":\"10.1021\\/am506546ki\",\"Depo\":\"SPUN\",\"DevName\":null,\"DipRate\":null,\"DropSize\":null,\"ElectrodeMat\":\"Au\",\"EvapCont\":null,\"FibLen\":null,\"FilmAggFrac\":null,\"FilmEB\":null,\"FilmRange\":null,\"FilmThick\":null,\"GateMate\":null,\"GrainSize100\":null,\"HR\":null,\"Herman\":null,\"InitConc\":5,\"MFFlowRate\":null,\"Mn\":34.6,\"MobEnv\":\"N2\",\"Mw\":69,\"Notes\":null,\"NozzleDis\":null,\"OFETConfig\":\"BGBC\",\"OFETReg\":\"Saturation\",\"PDI\":2,\"ProcEnv\":\"Air\",\"RR\":0.92,\"RTMob\":0.022,\"Sfull\":null,\"SolAggFrac\":null,\"SolEB\":null,\"SolTreat\":null,\"Solv1\":\"CHCl3\",\"Solv2\":null,\"SonicationTime\":0,\"Space010\":null,\"Space100\":null,\"SpinRate\":1500,\"SpinTime\":60,\"SprayTime\":null,\"SubsTreat\":null,\"UVResTime\":null,\"UVTime\":4,\"VFSolv1\":null,\"VT\":null,\"Vds\":-80,\"Year\":2014,\"Sonicated\":0},{\"null\":20,\"AgeTemp\":null,\"AgeTime\":null,\"AnnCool\":null,\"AnnTemp\":null,\"AnnTime\":null,\"Author\":\"Chang\",\"BP\":null,\"BladeH\":null,\"BladeVel\":null,\"CastCond\":null,\"ChanLen\":50,\"ChanWid\":2,\"ChannelConfig\":\"Single\",\"CoolResTime\":null,\"Cooling\":null,\"CorrLen\":null,\"DOI\":\"10.1021\\/am506546ki\",\"Depo\":\"SPUN\",\"DevName\":null,\"DipRate\":null,\"DropSize\":null,\"ElectrodeMat\":\"Au\",\"EvapCont\":null,\"FibLen\":null,\"FilmAggFrac\":48.5,\"FilmEB\":0.137,\"FilmRange\":null,\"FilmThick\":null,\"GateMate\":null,\"GrainSize100\":null,\"HR\":null,\"Herman\":null,\"InitConc\":5,\"MFFlowRate\":null,\"Mn\":34.6,\"MobEnv\":\"N2\",\"Mw\":69,\"Notes\":null,\"NozzleDis\":null,\"OFETConfig\":\"BGBC\",\"OFETReg\":\"Saturation\",\"PDI\":2,\"ProcEnv\":\"Air\",\"RR\":0.92,\"RTMob\":0.02,\"Sfull\":null,\"SolAggFrac\":null,\"SolEB\":null,\"SolTreat\":null,\"Solv1\":\"CHCl3\",\"Solv2\":null,\"SonicationTime\":0,\"Space010\":null,\"Space100\":16.67,\"SpinRate\":1500,\"SpinTime\":60,\"SprayTime\":null,\"SubsTreat\":null,\"UVResTime\":null,\"UVTime\":6,\"VFSolv1\":null,\"VT\":null,\"Vds\":-80,\"Year\":2014,\"Sonicated\":0},{\"null\":21,\"AgeTemp\":null,\"AgeTime\":null,\"AnnCool\":null,\"AnnTemp\":null,\"AnnTime\":null,\"Author\":\"Chang\",\"BP\":null,\"BladeH\":null,\"BladeVel\":null,\"CastCond\":null,\"ChanLen\":50,\"ChanWid\":2,\"ChannelConfig\":\"Single\",\"CoolResTime\":null,\"Cooling\":null,\"CorrLen\":null,\"DOI\":\"10.1021\\/am506546ki\",\"Depo\":\"SPUN\",\"DevName\":null,\"DipRate\":null,\"DropSize\":null,\"ElectrodeMat\":\"Au\",\"EvapCont\":null,\"FibLen\":null,\"FilmAggFrac\":48.3,\"FilmEB\":0.133,\"FilmRange\":null,\"FilmThick\":null,\"GateMate\":null,\"GrainSize100\":null,\"HR\":null,\"Herman\":null,\"InitConc\":5,\"MFFlowRate\":null,\"Mn\":34.6,\"MobEnv\":\"N2\",\"Mw\":69,\"Notes\":null,\"NozzleDis\":null,\"OFETConfig\":\"BGBC\",\"OFETReg\":\"Saturation\",\"PDI\":2,\"ProcEnv\":\"Air\",\"RR\":0.92,\"RTMob\":0.02,\"Sfull\":null,\"SolAggFrac\":null,\"SolEB\":null,\"SolTreat\":null,\"Solv1\":\"CHCl3\",\"Solv2\":null,\"SonicationTime\":2,\"Space010\":null,\"Space100\":16.91,\"SpinRate\":1500,\"SpinTime\":60,\"SprayTime\":null,\"SubsTreat\":null,\"UVResTime\":null,\"UVTime\":0,\"VFSolv1\":null,\"VT\":null,\"Vds\":-80,\"Year\":2014,\"Sonicated\":1},{\"null\":22,\"AgeTemp\":null,\"AgeTime\":null,\"AnnCool\":null,\"AnnTemp\":null,\"AnnTime\":null,\"Author\":\"Chang\",\"BP\":null,\"BladeH\":null,\"BladeVel\":null,\"CastCond\":null,\"ChanLen\":50,\"ChanWid\":2,\"ChannelConfig\":\"Single\",\"CoolResTime\":null,\"Cooling\":null,\"CorrLen\":null,\"DOI\":\"10.1021\\/am506546ki\",\"Depo\":\"SPUN\",\"DevName\":null,\"DipRate\":null,\"DropSize\":null,\"ElectrodeMat\":\"Au\",\"EvapCont\":null,\"FibLen\":null,\"FilmAggFrac\":null,\"FilmEB\":null,\"FilmRange\":null,\"FilmThick\":null,\"GateMate\":null,\"GrainSize100\":null,\"HR\":null,\"Herman\":null,\"InitConc\":5,\"MFFlowRate\":null,\"Mn\":34.6,\"MobEnv\":\"N2\",\"Mw\":69,\"Notes\":null,\"NozzleDis\":null,\"OFETConfig\":\"BGBC\",\"OFETReg\":\"Saturation\",\"PDI\":2,\"ProcEnv\":\"Air\",\"RR\":0.92,\"RTMob\":0.035,\"Sfull\":null,\"SolAggFrac\":null,\"SolEB\":null,\"SolTreat\":null,\"Solv1\":\"CHCl3\",\"Solv2\":null,\"SonicationTime\":2,\"Space010\":null,\"Space100\":null,\"SpinRate\":1500,\"SpinTime\":60,\"SprayTime\":null,\"SubsTreat\":null,\"UVResTime\":null,\"UVTime\":2,\"VFSolv1\":null,\"VT\":null,\"Vds\":-80,\"Year\":2014,\"Sonicated\":1},{\"null\":23,\"AgeTemp\":null,\"AgeTime\":null,\"AnnCool\":null,\"AnnTemp\":null,\"AnnTime\":null,\"Author\":\"Chang\",\"BP\":null,\"BladeH\":null,\"BladeVel\":null,\"CastCond\":null,\"ChanLen\":50,\"ChanWid\":2,\"ChannelConfig\":\"Single\",\"CoolResTime\":null,\"Cooling\":null,\"CorrLen\":null,\"DOI\":\"10.1021\\/am506546ki\",\"Depo\":\"SPUN\",\"DevName\":null,\"DipRate\":null,\"DropSize\":null,\"ElectrodeMat\":\"Au\",\"EvapCont\":null,\"FibLen\":null,\"FilmAggFrac\":null,\"FilmEB\":null,\"FilmRange\":null,\"FilmThick\":null,\"GateMate\":null,\"GrainSize100\":null,\"HR\":null,\"Herman\":null,\"InitConc\":5,\"MFFlowRate\":null,\"Mn\":34.6,\"MobEnv\":\"N2\",\"Mw\":69,\"Notes\":null,\"NozzleDis\":null,\"OFETConfig\":\"BGBC\",\"OFETReg\":\"Saturation\",\"PDI\":2,\"ProcEnv\":\"Air\",\"RR\":0.92,\"RTMob\":0.044,\"Sfull\":null,\"SolAggFrac\":null,\"SolEB\":null,\"SolTreat\":null,\"Solv1\":\"CHCl3\",\"Solv2\":null,\"SonicationTime\":2,\"Space010\":null,\"Space100\":null,\"SpinRate\":1500,\"SpinTime\":60,\"SprayTime\":null,\"SubsTreat\":null,\"UVResTime\":null,\"UVTime\":4,\"VFSolv1\":null,\"VT\":null,\"Vds\":-80,\"Year\":2014,\"Sonicated\":1},{\"null\":24,\"AgeTemp\":null,\"AgeTime\":null,\"AnnCool\":null,\"AnnTemp\":null,\"AnnTime\":null,\"Author\":\"Chang\",\"BP\":null,\"BladeH\":null,\"BladeVel\":null,\"CastCond\":null,\"ChanLen\":50,\"ChanWid\":2,\"ChannelConfig\":\"Single\",\"CoolResTime\":null,\"Cooling\":null,\"CorrLen\":null,\"DOI\":\"10.1021\\/am506546ki\",\"Depo\":\"SPUN\",\"DevName\":null,\"DipRate\":null,\"DropSize\":null,\"ElectrodeMat\":\"Au\",\"EvapCont\":null,\"FibLen\":null,\"FilmAggFrac\":46.4,\"FilmEB\":0.132,\"FilmRange\":null,\"FilmThick\":null,\"GateMate\":null,\"GrainSize100\":null,\"HR\":null,\"Herman\":null,\"InitConc\":5,\"MFFlowRate\":null,\"Mn\":34.6,\"MobEnv\":\"N2\",\"Mw\":69,\"Notes\":null,\"NozzleDis\":null,\"OFETConfig\":\"BGBC\",\"OFETReg\":\"Saturation\",\"PDI\":2,\"ProcEnv\":\"Air\",\"RR\":0.92,\"RTMob\":0.042,\"Sfull\":null,\"SolAggFrac\":null,\"SolEB\":null,\"SolTreat\":null,\"Solv1\":\"CHCl3\",\"Solv2\":null,\"SonicationTime\":2,\"Space010\":null,\"Space100\":16.84,\"SpinRate\":1500,\"SpinTime\":60,\"SprayTime\":null,\"SubsTreat\":null,\"UVResTime\":null,\"UVTime\":6,\"VFSolv1\":null,\"VT\":null,\"Vds\":-80,\"Year\":2014,\"Sonicated\":1},{\"null\":25,\"AgeTemp\":null,\"AgeTime\":null,\"AnnCool\":null,\"AnnTemp\":null,\"AnnTime\":null,\"Author\":\"Chang\",\"BP\":null,\"BladeH\":null,\"BladeVel\":null,\"CastCond\":null,\"ChanLen\":50,\"ChanWid\":2,\"ChannelConfig\":\"Single\",\"CoolResTime\":null,\"Cooling\":null,\"CorrLen\":null,\"DOI\":\"10.1021\\/am506546ki\",\"Depo\":\"SPUN\",\"DevName\":null,\"DipRate\":null,\"DropSize\":null,\"ElectrodeMat\":\"Au\",\"EvapCont\":null,\"FibLen\":null,\"FilmAggFrac\":null,\"FilmEB\":null,\"FilmRange\":null,\"FilmThick\":null,\"GateMate\":null,\"GrainSize100\":null,\"HR\":null,\"Herman\":null,\"InitConc\":5,\"MFFlowRate\":null,\"Mn\":34.6,\"MobEnv\":\"N2\",\"Mw\":69,\"Notes\":null,\"NozzleDis\":null,\"OFETConfig\":\"BGBC\",\"OFETReg\":\"Saturation\",\"PDI\":2,\"ProcEnv\":\"Air\",\"RR\":0.92,\"RTMob\":0.019,\"Sfull\":null,\"SolAggFrac\":null,\"SolEB\":null,\"SolTreat\":null,\"Solv1\":\"CHCl3\",\"Solv2\":null,\"SonicationTime\":4,\"Space010\":null,\"Space100\":null,\"SpinRate\":1500,\"SpinTime\":60,\"SprayTime\":null,\"SubsTreat\":null,\"UVResTime\":null,\"UVTime\":0,\"VFSolv1\":null,\"VT\":null,\"Vds\":-80,\"Year\":2014,\"Sonicated\":1},{\"null\":26,\"AgeTemp\":null,\"AgeTime\":null,\"AnnCool\":null,\"AnnTemp\":null,\"AnnTime\":null,\"Author\":\"Chang\",\"BP\":null,\"BladeH\":null,\"BladeVel\":null,\"CastCond\":null,\"ChanLen\":50,\"ChanWid\":2,\"ChannelConfig\":\"Single\",\"CoolResTime\":null,\"Cooling\":null,\"CorrLen\":null,\"DOI\":\"10.1021\\/am506546ki\",\"Depo\":\"SPUN\",\"DevName\":null,\"DipRate\":null,\"DropSize\":null,\"ElectrodeMat\":\"Au\",\"EvapCont\":null,\"FibLen\":null,\"FilmAggFrac\":null,\"FilmEB\":null,\"FilmRange\":null,\"FilmThick\":null,\"GateMate\":null,\"GrainSize100\":null,\"HR\":null,\"Herman\":null,\"InitConc\":5,\"MFFlowRate\":null,\"Mn\":34.6,\"MobEnv\":\"N2\",\"Mw\":69,\"Notes\":null,\"NozzleDis\":null,\"OFETConfig\":\"BGBC\",\"OFETReg\":\"Saturation\",\"PDI\":2,\"ProcEnv\":\"Air\",\"RR\":0.92,\"RTMob\":0.023,\"Sfull\":null,\"SolAggFrac\":null,\"SolEB\":null,\"SolTreat\":null,\"Solv1\":\"CHCl3\",\"Solv2\":null,\"SonicationTime\":4,\"Space010\":null,\"Space100\":null,\"SpinRate\":1500,\"SpinTime\":60,\"SprayTime\":null,\"SubsTreat\":null,\"UVResTime\":null,\"UVTime\":2,\"VFSolv1\":null,\"VT\":null,\"Vds\":-80,\"Year\":2014,\"Sonicated\":1},{\"null\":27,\"AgeTemp\":null,\"AgeTime\":null,\"AnnCool\":null,\"AnnTemp\":null,\"AnnTime\":null,\"Author\":\"Chang\",\"BP\":null,\"BladeH\":null,\"BladeVel\":null,\"CastCond\":null,\"ChanLen\":50,\"ChanWid\":2,\"ChannelConfig\":\"Single\",\"CoolResTime\":null,\"Cooling\":null,\"CorrLen\":null,\"DOI\":\"10.1021\\/am506546ki\",\"Depo\":\"SPUN\",\"DevName\":null,\"DipRate\":null,\"DropSize\":null,\"ElectrodeMat\":\"Au\",\"EvapCont\":null,\"FibLen\":null,\"FilmAggFrac\":null,\"FilmEB\":null,\"FilmRange\":null,\"FilmThick\":null,\"GateMate\":null,\"GrainSize100\":null,\"HR\":null,\"Herman\":null,\"InitConc\":5,\"MFFlowRate\":null,\"Mn\":34.6,\"MobEnv\":\"N2\",\"Mw\":69,\"Notes\":null,\"NozzleDis\":null,\"OFETConfig\":\"BGBC\",\"OFETReg\":\"Saturation\",\"PDI\":2,\"ProcEnv\":\"Air\",\"RR\":0.92,\"RTMob\":0.03,\"Sfull\":null,\"SolAggFrac\":null,\"SolEB\":null,\"SolTreat\":null,\"Solv1\":\"CHCl3\",\"Solv2\":null,\"SonicationTime\":4,\"Space010\":null,\"Space100\":null,\"SpinRate\":1500,\"SpinTime\":60,\"SprayTime\":null,\"SubsTreat\":null,\"UVResTime\":null,\"UVTime\":4,\"VFSolv1\":null,\"VT\":null,\"Vds\":-80,\"Year\":2014,\"Sonicated\":1},{\"null\":28,\"AgeTemp\":null,\"AgeTime\":null,\"AnnCool\":null,\"AnnTemp\":null,\"AnnTime\":null,\"Author\":\"Chang\",\"BP\":null,\"BladeH\":null,\"BladeVel\":null,\"CastCond\":null,\"ChanLen\":50,\"ChanWid\":2,\"ChannelConfig\":\"Single\",\"CoolResTime\":null,\"Cooling\":null,\"CorrLen\":null,\"DOI\":\"10.1021\\/am506546ki\",\"Depo\":\"SPUN\",\"DevName\":null,\"DipRate\":null,\"DropSize\":null,\"ElectrodeMat\":\"Au\",\"EvapCont\":null,\"FibLen\":null,\"FilmAggFrac\":null,\"FilmEB\":null,\"FilmRange\":null,\"FilmThick\":null,\"GateMate\":null,\"GrainSize100\":null,\"HR\":null,\"Herman\":null,\"InitConc\":5,\"MFFlowRate\":null,\"Mn\":34.6,\"MobEnv\":\"N2\",\"Mw\":69,\"Notes\":null,\"NozzleDis\":null,\"OFETConfig\":\"BGBC\",\"OFETReg\":\"Saturation\",\"PDI\":2,\"ProcEnv\":\"Air\",\"RR\":0.92,\"RTMob\":0.032,\"Sfull\":null,\"SolAggFrac\":null,\"SolEB\":null,\"SolTreat\":null,\"Solv1\":\"CHCl3\",\"Solv2\":null,\"SonicationTime\":4,\"Space010\":null,\"Space100\":null,\"SpinRate\":1500,\"SpinTime\":60,\"SprayTime\":null,\"SubsTreat\":null,\"UVResTime\":null,\"UVTime\":6,\"VFSolv1\":null,\"VT\":null,\"Vds\":-80,\"Year\":2014,\"Sonicated\":1},{\"null\":29,\"AgeTemp\":null,\"AgeTime\":null,\"AnnCool\":null,\"AnnTemp\":null,\"AnnTime\":null,\"Author\":\"Chang\",\"BP\":null,\"BladeH\":null,\"BladeVel\":null,\"CastCond\":null,\"ChanLen\":50,\"ChanWid\":2,\"ChannelConfig\":\"Single\",\"CoolResTime\":null,\"Cooling\":null,\"CorrLen\":null,\"DOI\":\"10.1021\\/am506546ki\",\"Depo\":\"SPUN\",\"DevName\":null,\"DipRate\":null,\"DropSize\":null,\"ElectrodeMat\":\"Au\",\"EvapCont\":null,\"FibLen\":null,\"FilmAggFrac\":null,\"FilmEB\":null,\"FilmRange\":null,\"FilmThick\":null,\"GateMate\":null,\"GrainSize100\":null,\"HR\":null,\"Herman\":null,\"InitConc\":5,\"MFFlowRate\":null,\"Mn\":34.6,\"MobEnv\":\"N2\",\"Mw\":69,\"Notes\":null,\"NozzleDis\":null,\"OFETConfig\":\"BGBC\",\"OFETReg\":\"Saturation\",\"PDI\":2,\"ProcEnv\":\"Air\",\"RR\":0.92,\"RTMob\":0.018,\"Sfull\":null,\"SolAggFrac\":null,\"SolEB\":null,\"SolTreat\":null,\"Solv1\":\"CHCl3\",\"Solv2\":null,\"SonicationTime\":6,\"Space010\":null,\"Space100\":null,\"SpinRate\":1500,\"SpinTime\":60,\"SprayTime\":null,\"SubsTreat\":null,\"UVResTime\":null,\"UVTime\":0,\"VFSolv1\":null,\"VT\":null,\"Vds\":-80,\"Year\":2014,\"Sonicated\":1},{\"null\":30,\"AgeTemp\":null,\"AgeTime\":null,\"AnnCool\":null,\"AnnTemp\":null,\"AnnTime\":null,\"Author\":\"Chang\",\"BP\":null,\"BladeH\":null,\"BladeVel\":null,\"CastCond\":null,\"ChanLen\":50,\"ChanWid\":2,\"ChannelConfig\":\"Single\",\"CoolResTime\":null,\"Cooling\":null,\"CorrLen\":null,\"DOI\":\"10.1021\\/am506546ki\",\"Depo\":\"SPUN\",\"DevName\":null,\"DipRate\":null,\"DropSize\":null,\"ElectrodeMat\":\"Au\",\"EvapCont\":null,\"FibLen\":null,\"FilmAggFrac\":null,\"FilmEB\":null,\"FilmRange\":null,\"FilmThick\":null,\"GateMate\":null,\"GrainSize100\":null,\"HR\":null,\"Herman\":null,\"InitConc\":5,\"MFFlowRate\":null,\"Mn\":34.6,\"MobEnv\":\"N2\",\"Mw\":69,\"Notes\":null,\"NozzleDis\":null,\"OFETConfig\":\"BGBC\",\"OFETReg\":\"Saturation\",\"PDI\":2,\"ProcEnv\":\"Air\",\"RR\":0.92,\"RTMob\":0.026,\"Sfull\":null,\"SolAggFrac\":null,\"SolEB\":null,\"SolTreat\":null,\"Solv1\":\"CHCl3\",\"Solv2\":null,\"SonicationTime\":6,\"Space010\":null,\"Space100\":null,\"SpinRate\":1500,\"SpinTime\":60,\"SprayTime\":null,\"SubsTreat\":null,\"UVResTime\":null,\"UVTime\":2,\"VFSolv1\":null,\"VT\":null,\"Vds\":-80,\"Year\":2014,\"Sonicated\":1},{\"null\":31,\"AgeTemp\":null,\"AgeTime\":null,\"AnnCool\":null,\"AnnTemp\":null,\"AnnTime\":null,\"Author\":\"Chang\",\"BP\":null,\"BladeH\":null,\"BladeVel\":null,\"CastCond\":null,\"ChanLen\":50,\"ChanWid\":2,\"ChannelConfig\":\"Single\",\"CoolResTime\":null,\"Cooling\":null,\"CorrLen\":null,\"DOI\":\"10.1021\\/am506546ki\",\"Depo\":\"SPUN\",\"DevName\":null,\"DipRate\":null,\"DropSize\":null,\"ElectrodeMat\":\"Au\",\"EvapCont\":null,\"FibLen\":null,\"FilmAggFrac\":null,\"FilmEB\":null,\"FilmRange\":null,\"FilmThick\":null,\"GateMate\":null,\"GrainSize100\":null,\"HR\":null,\"Herman\":null,\"InitConc\":5,\"MFFlowRate\":null,\"Mn\":34.6,\"MobEnv\":\"N2\",\"Mw\":69,\"Notes\":null,\"NozzleDis\":null,\"OFETConfig\":\"BGBC\",\"OFETReg\":\"Saturation\",\"PDI\":2,\"ProcEnv\":\"Air\",\"RR\":0.92,\"RTMob\":0.021,\"Sfull\":null,\"SolAggFrac\":null,\"SolEB\":null,\"SolTreat\":null,\"Solv1\":\"CHCl3\",\"Solv2\":null,\"SonicationTime\":6,\"Space010\":null,\"Space100\":null,\"SpinRate\":1500,\"SpinTime\":60,\"SprayTime\":null,\"SubsTreat\":null,\"UVResTime\":null,\"UVTime\":4,\"VFSolv1\":null,\"VT\":null,\"Vds\":-80,\"Year\":2014,\"Sonicated\":1},{\"null\":32,\"AgeTemp\":null,\"AgeTime\":null,\"AnnCool\":null,\"AnnTemp\":null,\"AnnTime\":null,\"Author\":\"Chang\",\"BP\":null,\"BladeH\":null,\"BladeVel\":null,\"CastCond\":null,\"ChanLen\":50,\"ChanWid\":2,\"ChannelConfig\":\"Single\",\"CoolResTime\":null,\"Cooling\":null,\"CorrLen\":null,\"DOI\":\"10.1021\\/am506546ki\",\"Depo\":\"SPUN\",\"DevName\":null,\"DipRate\":null,\"DropSize\":null,\"ElectrodeMat\":\"Au\",\"EvapCont\":null,\"FibLen\":null,\"FilmAggFrac\":null,\"FilmEB\":null,\"FilmRange\":null,\"FilmThick\":null,\"GateMate\":null,\"GrainSize100\":null,\"HR\":null,\"Herman\":null,\"InitConc\":5,\"MFFlowRate\":null,\"Mn\":34.6,\"MobEnv\":\"N2\",\"Mw\":69,\"Notes\":null,\"NozzleDis\":null,\"OFETConfig\":\"BGBC\",\"OFETReg\":\"Saturation\",\"PDI\":2,\"ProcEnv\":\"Air\",\"RR\":0.92,\"RTMob\":0.019,\"Sfull\":null,\"SolAggFrac\":null,\"SolEB\":null,\"SolTreat\":null,\"Solv1\":\"CHCl3\",\"Solv2\":null,\"SonicationTime\":6,\"Space010\":null,\"Space100\":null,\"SpinRate\":1500,\"SpinTime\":60,\"SprayTime\":null,\"SubsTreat\":null,\"UVResTime\":null,\"UVTime\":6,\"VFSolv1\":null,\"VT\":null,\"Vds\":-80,\"Year\":2014,\"Sonicated\":1},{\"null\":1,\"AgeTemp\":null,\"AgeTime\":null,\"AnnCool\":null,\"AnnTemp\":120,\"AnnTime\":0.16667,\"Author\":\"Chang\",\"BP\":null,\"BladeH\":null,\"BladeVel\":null,\"CastCond\":null,\"ChanLen\":50,\"ChanWid\":2,\"ChannelConfig\":null,\"CoolResTime\":null,\"Cooling\":null,\"CorrLen\":null,\"DOI\":\"10.1021\\/acsami.6b02216\",\"Depo\":\"SPUN\",\"DevName\":null,\"DipRate\":null,\"DropSize\":null,\"ElectrodeMat\":null,\"EvapCont\":null,\"FibLen\":null,\"FilmAggFrac\":null,\"FilmEB\":0.127,\"FilmRange\":null,\"FilmThick\":null,\"GateMate\":null,\"GrainSize100\":63.6,\"HR\":null,\"Herman\":null,\"InitConc\":5,\"MFFlowRate\":null,\"Mn\":39.13043,\"MobEnv\":\"N2\",\"Mw\":90,\"Notes\":null,\"NozzleDis\":null,\"OFETConfig\":\"BGBC\",\"OFETReg\":\"Linear\",\"PDI\":2.3,\"ProcEnv\":\"Air\",\"RR\":0.96,\"RTMob\":0.0046,\"Sfull\":null,\"SolAggFrac\":null,\"SolEB\":null,\"SolTreat\":null,\"Solv1\":\"CHCl3\",\"Solv2\":null,\"SonicationTime\":0,\"Space010\":null,\"Space100\":16.5,\"SpinRate\":1500,\"SpinTime\":60,\"SprayTime\":null,\"SubsTreat\":null,\"UVResTime\":null,\"UVTime\":null,\"VFSolv1\":null,\"VT\":null,\"Vds\":-3,\"Year\":2016,\"Sonicated\":0},{\"null\":2,\"AgeTemp\":null,\"AgeTime\":null,\"AnnCool\":null,\"AnnTemp\":120,\"AnnTime\":0.16667,\"Author\":\"Chang\",\"BP\":null,\"BladeH\":null,\"BladeVel\":2,\"CastCond\":null,\"ChanLen\":50,\"ChanWid\":2,\"ChannelConfig\":null,\"CoolResTime\":null,\"Cooling\":null,\"CorrLen\":null,\"DOI\":\"10.1021\\/acsami.6b02216\",\"Depo\":\"BLADE\",\"DevName\":null,\"DipRate\":null,\"DropSize\":null,\"ElectrodeMat\":null,\"EvapCont\":null,\"FibLen\":null,\"FilmAggFrac\":null,\"FilmEB\":0.115,\"FilmRange\":null,\"FilmThick\":null,\"GateMate\":null,\"GrainSize100\":73.7,\"HR\":null,\"Herman\":null,\"InitConc\":5,\"MFFlowRate\":null,\"Mn\":39.13043,\"MobEnv\":\"N2\",\"Mw\":90,\"Notes\":null,\"NozzleDis\":null,\"OFETConfig\":\"BGBC\",\"OFETReg\":\"Linear\",\"PDI\":2.3,\"ProcEnv\":\"Air\",\"RR\":0.96,\"RTMob\":0.097,\"Sfull\":null,\"SolAggFrac\":null,\"SolEB\":null,\"SolTreat\":null,\"Solv1\":\"CHCl3\",\"Solv2\":null,\"SonicationTime\":0,\"Space010\":null,\"Space100\":16.6,\"SpinRate\":null,\"SpinTime\":null,\"SprayTime\":null,\"SubsTreat\":null,\"UVResTime\":null,\"UVTime\":null,\"VFSolv1\":null,\"VT\":null,\"Vds\":-3,\"Year\":2016,\"Sonicated\":0},{\"null\":3,\"AgeTemp\":null,\"AgeTime\":null,\"AnnCool\":null,\"AnnTemp\":120,\"AnnTime\":0.16667,\"Author\":\"Chang\",\"BP\":null,\"BladeH\":null,\"BladeVel\":null,\"CastCond\":null,\"ChanLen\":50,\"ChanWid\":2,\"ChannelConfig\":null,\"CoolResTime\":null,\"Cooling\":null,\"CorrLen\":null,\"DOI\":\"10.1021\\/acsami.6b02216\",\"Depo\":\"SPUN\",\"DevName\":null,\"DipRate\":null,\"DropSize\":null,\"ElectrodeMat\":null,\"EvapCont\":null,\"FibLen\":null,\"FilmAggFrac\":null,\"FilmEB\":0.115,\"FilmRange\":null,\"FilmThick\":null,\"GateMate\":null,\"GrainSize100\":82.8,\"HR\":null,\"Herman\":null,\"InitConc\":5,\"MFFlowRate\":null,\"Mn\":39.13043,\"MobEnv\":\"N2\",\"Mw\":90,\"Notes\":null,\"NozzleDis\":null,\"OFETConfig\":\"BGBC\",\"OFETReg\":\"Linear\",\"PDI\":2.3,\"ProcEnv\":\"Air\",\"RR\":0.96,\"RTMob\":0.099,\"Sfull\":null,\"SolAggFrac\":null,\"SolEB\":null,\"SolTreat\":null,\"Solv1\":\"CHCl3\",\"Solv2\":null,\"SonicationTime\":0,\"Space010\":null,\"Space100\":16.25,\"SpinRate\":1500,\"SpinTime\":60,\"SprayTime\":null,\"SubsTreat\":null,\"UVResTime\":null,\"UVTime\":8,\"VFSolv1\":null,\"VT\":null,\"Vds\":-3,\"Year\":2016,\"Sonicated\":0},{\"null\":4,\"AgeTemp\":null,\"AgeTime\":null,\"AnnCool\":null,\"AnnTemp\":120,\"AnnTime\":0.16667,\"Author\":\"Chang\",\"BP\":null,\"BladeH\":null,\"BladeVel\":0.5,\"CastCond\":null,\"ChanLen\":50,\"ChanWid\":2,\"ChannelConfig\":null,\"CoolResTime\":null,\"Cooling\":null,\"CorrLen\":421.1082,\"DOI\":\"10.1021\\/acsami.6b02216\",\"Depo\":\"BLADE\",\"DevName\":null,\"DipRate\":null,\"DropSize\":null,\"ElectrodeMat\":null,\"EvapCont\":null,\"FibLen\":null,\"FilmAggFrac\":null,\"FilmEB\":0.0768,\"FilmRange\":null,\"FilmThick\":null,\"GateMate\":null,\"GrainSize100\":90.7,\"HR\":null,\"Herman\":null,\"InitConc\":5,\"MFFlowRate\":null,\"Mn\":39.13043,\"MobEnv\":\"N2\",\"Mw\":90,\"Notes\":null,\"NozzleDis\":null,\"OFETConfig\":\"BGBC\",\"OFETReg\":\"Linear\",\"PDI\":2.3,\"ProcEnv\":\"Air\",\"RR\":0.96,\"RTMob\":0.089,\"Sfull\":0.33663,\"SolAggFrac\":null,\"SolEB\":null,\"SolTreat\":null,\"Solv1\":\"CHCl3\",\"Solv2\":null,\"SonicationTime\":0,\"Space010\":null,\"Space100\":16.74,\"SpinRate\":null,\"SpinTime\":null,\"SprayTime\":null,\"SubsTreat\":null,\"UVResTime\":null,\"UVTime\":8,\"VFSolv1\":null,\"VT\":null,\"Vds\":-3,\"Year\":2016,\"Sonicated\":0},{\"null\":5,\"AgeTemp\":null,\"AgeTime\":null,\"AnnCool\":null,\"AnnTemp\":120,\"AnnTime\":0.16667,\"Author\":\"Chang\",\"BP\":null,\"BladeH\":null,\"BladeVel\":1,\"CastCond\":null,\"ChanLen\":50,\"ChanWid\":2,\"ChannelConfig\":null,\"CoolResTime\":null,\"Cooling\":null,\"CorrLen\":211.2126,\"DOI\":\"10.1021\\/acsami.6b02216\",\"Depo\":\"BLADE\",\"DevName\":null,\"DipRate\":null,\"DropSize\":null,\"ElectrodeMat\":null,\"EvapCont\":null,\"FibLen\":null,\"FilmAggFrac\":null,\"FilmEB\":0.068,\"FilmRange\":null,\"FilmThick\":null,\"GateMate\":null,\"GrainSize100\":88,\"HR\":null,\"Herman\":null,\"InitConc\":5,\"MFFlowRate\":null,\"Mn\":39.13043,\"MobEnv\":\"N2\",\"Mw\":90,\"Notes\":null,\"NozzleDis\":null,\"OFETConfig\":\"BGBC\",\"OFETReg\":\"Linear\",\"PDI\":2.3,\"ProcEnv\":\"Air\",\"RR\":0.96,\"RTMob\":0.129,\"Sfull\":0.81163,\"SolAggFrac\":null,\"SolEB\":null,\"SolTreat\":null,\"Solv1\":\"CHCl3\",\"Solv2\":null,\"SonicationTime\":0,\"Space010\":null,\"Space100\":17.65,\"SpinRate\":null,\"SpinTime\":null,\"SprayTime\":null,\"SubsTreat\":null,\"UVResTime\":null,\"UVTime\":8,\"VFSolv1\":null,\"VT\":null,\"Vds\":-3,\"Year\":2016,\"Sonicated\":0},{\"null\":6,\"AgeTemp\":null,\"AgeTime\":null,\"AnnCool\":null,\"AnnTemp\":120,\"AnnTime\":0.16667,\"Author\":\"Chang\",\"BP\":null,\"BladeH\":null,\"BladeVel\":2,\"CastCond\":null,\"ChanLen\":50,\"ChanWid\":2,\"ChannelConfig\":null,\"CoolResTime\":null,\"Cooling\":null,\"CorrLen\":262.5311,\"DOI\":\"10.1021\\/acsami.6b02216\",\"Depo\":\"BLADE\",\"DevName\":null,\"DipRate\":null,\"DropSize\":null,\"ElectrodeMat\":null,\"EvapCont\":null,\"FibLen\":null,\"FilmAggFrac\":null,\"FilmEB\":0.0827,\"FilmRange\":null,\"FilmThick\":null,\"GateMate\":null,\"GrainSize100\":87.5,\"HR\":null,\"Herman\":null,\"InitConc\":5,\"MFFlowRate\":null,\"Mn\":39.13043,\"MobEnv\":\"N2\",\"Mw\":90,\"Notes\":null,\"NozzleDis\":null,\"OFETConfig\":\"BGBC\",\"OFETReg\":\"Linear\",\"PDI\":2.3,\"ProcEnv\":\"Air\",\"RR\":0.96,\"RTMob\":0.202,\"Sfull\":0.85375,\"SolAggFrac\":null,\"SolEB\":null,\"SolTreat\":null,\"Solv1\":\"CHCl3\",\"Solv2\":null,\"SonicationTime\":0,\"Space010\":null,\"Space100\":17.17,\"SpinRate\":null,\"SpinTime\":null,\"SprayTime\":null,\"SubsTreat\":null,\"UVResTime\":null,\"UVTime\":8,\"VFSolv1\":null,\"VT\":null,\"Vds\":-3,\"Year\":2016,\"Sonicated\":0},{\"null\":7,\"AgeTemp\":null,\"AgeTime\":null,\"AnnCool\":null,\"AnnTemp\":120,\"AnnTime\":0.16667,\"Author\":\"Chang\",\"BP\":null,\"BladeH\":null,\"BladeVel\":4,\"CastCond\":null,\"ChanLen\":50,\"ChanWid\":2,\"ChannelConfig\":null,\"CoolResTime\":null,\"Cooling\":null,\"CorrLen\":516.4953,\"DOI\":\"10.1021\\/acsami.6b02216\",\"Depo\":\"BLADE\",\"DevName\":null,\"DipRate\":null,\"DropSize\":null,\"ElectrodeMat\":null,\"EvapCont\":null,\"FibLen\":null,\"FilmAggFrac\":null,\"FilmEB\":0.1097,\"FilmRange\":null,\"FilmThick\":null,\"GateMate\":null,\"GrainSize100\":78,\"HR\":null,\"Herman\":null,\"InitConc\":5,\"MFFlowRate\":null,\"Mn\":39.13043,\"MobEnv\":\"N2\",\"Mw\":90,\"Notes\":null,\"NozzleDis\":null,\"OFETConfig\":\"BGBC\",\"OFETReg\":\"Linear\",\"PDI\":2.3,\"ProcEnv\":\"Air\",\"RR\":0.96,\"RTMob\":0.106,\"Sfull\":0.64391,\"SolAggFrac\":null,\"SolEB\":null,\"SolTreat\":null,\"Solv1\":\"CHCl3\",\"Solv2\":null,\"SonicationTime\":0,\"Space010\":null,\"Space100\":16.6,\"SpinRate\":null,\"SpinTime\":null,\"SprayTime\":null,\"SubsTreat\":null,\"UVResTime\":null,\"UVTime\":8,\"VFSolv1\":null,\"VT\":null,\"Vds\":-3,\"Year\":2016,\"Sonicated\":0},{\"null\":1,\"AgeTemp\":null,\"AgeTime\":null,\"AnnCool\":null,\"AnnTemp\":null,\"AnnTime\":null,\"Author\":\"Choi\",\"BP\":null,\"BladeH\":null,\"BladeVel\":null,\"CastCond\":null,\"ChanLen\":50,\"ChanWid\":2,\"ChannelConfig\":null,\"CoolResTime\":null,\"Cooling\":null,\"CorrLen\":266.644,\"DOI\":\"10.1002\\/adfm.201403708 \",\"Depo\":\"SPUN\",\"DevName\":null,\"DipRate\":null,\"DropSize\":null,\"ElectrodeMat\":\"Au\",\"EvapCont\":null,\"FibLen\":null,\"FilmAggFrac\":59.46832,\"FilmEB\":0.09381,\"FilmRange\":null,\"FilmThick\":null,\"GateMate\":null,\"GrainSize100\":72.3,\"HR\":null,\"Herman\":null,\"InitConc\":5,\"MFFlowRate\":null,\"Mn\":39.13043,\"MobEnv\":\"N2\",\"Mw\":90,\"Notes\":null,\"NozzleDis\":null,\"OFETConfig\":\"BGBC\",\"OFETReg\":\"Linear\",\"PDI\":2.3,\"ProcEnv\":\"Air\",\"RR\":0.96,\"RTMob\":0.03522,\"Sfull\":0.08327,\"SolAggFrac\":null,\"SolEB\":null,\"SolTreat\":null,\"Solv1\":\"CHCl3\",\"Solv2\":null,\"SonicationTime\":2,\"Space010\":null,\"Space100\":16.15,\"SpinRate\":1500,\"SpinTime\":60,\"SprayTime\":null,\"SubsTreat\":null,\"UVResTime\":null,\"UVTime\":null,\"VFSolv1\":null,\"VT\":null,\"Vds\":-3,\"Year\":2014,\"Sonicated\":1},{\"null\":2,\"AgeTemp\":null,\"AgeTime\":null,\"AnnCool\":null,\"AnnTemp\":null,\"AnnTime\":null,\"Author\":\"Choi\",\"BP\":null,\"BladeH\":null,\"BladeVel\":null,\"CastCond\":null,\"ChanLen\":50,\"ChanWid\":2,\"ChannelConfig\":null,\"CoolResTime\":null,\"Cooling\":null,\"CorrLen\":260.8664,\"DOI\":\"10.1002\\/adfm.201403708 \",\"Depo\":\"SPUN\",\"DevName\":null,\"DipRate\":null,\"DropSize\":null,\"ElectrodeMat\":\"Au\",\"EvapCont\":null,\"FibLen\":null,\"FilmAggFrac\":60.76073,\"FilmEB\":0.07782,\"FilmRange\":null,\"FilmThick\":null,\"GateMate\":null,\"GrainSize100\":76,\"HR\":null,\"Herman\":null,\"InitConc\":5,\"MFFlowRate\":null,\"Mn\":39.13043,\"MobEnv\":\"N2\",\"Mw\":90,\"Notes\":null,\"NozzleDis\":null,\"OFETConfig\":\"BGBC\",\"OFETReg\":\"Linear\",\"PDI\":2.3,\"ProcEnv\":\"Air\",\"RR\":0.96,\"RTMob\":0.05182,\"Sfull\":0.14665,\"SolAggFrac\":null,\"SolEB\":null,\"SolTreat\":null,\"Solv1\":\"CHCl3\",\"Solv2\":\"2-MP\",\"SonicationTime\":2,\"Space010\":null,\"Space100\":16.11,\"SpinRate\":1500,\"SpinTime\":60,\"SprayTime\":null,\"SubsTreat\":null,\"UVResTime\":null,\"UVTime\":null,\"VFSolv1\":0.95,\"VT\":null,\"Vds\":-3,\"Year\":2014,\"Sonicated\":1},{\"null\":3,\"AgeTemp\":null,\"AgeTime\":null,\"AnnCool\":null,\"AnnTemp\":null,\"AnnTime\":null,\"Author\":\"Choi\",\"BP\":null,\"BladeH\":null,\"BladeVel\":null,\"CastCond\":null,\"ChanLen\":50,\"ChanWid\":2,\"ChannelConfig\":null,\"CoolResTime\":null,\"Cooling\":null,\"CorrLen\":327.9002,\"DOI\":\"10.1002\\/adfm.201403708 \",\"Depo\":\"SPUN\",\"DevName\":null,\"DipRate\":null,\"DropSize\":null,\"ElectrodeMat\":\"Au\",\"EvapCont\":null,\"FibLen\":null,\"FilmAggFrac\":63.94435,\"FilmEB\":0.05989,\"FilmRange\":null,\"FilmThick\":null,\"GateMate\":null,\"GrainSize100\":82,\"HR\":null,\"Herman\":null,\"InitConc\":5,\"MFFlowRate\":null,\"Mn\":39.13043,\"MobEnv\":\"N2\",\"Mw\":90,\"Notes\":null,\"NozzleDis\":null,\"OFETConfig\":\"BGBC\",\"OFETReg\":\"Linear\",\"PDI\":2.3,\"ProcEnv\":\"Air\",\"RR\":0.96,\"RTMob\":0.05468,\"Sfull\":0.08646,\"SolAggFrac\":null,\"SolEB\":null,\"SolTreat\":null,\"Solv1\":\"CHCl3\",\"Solv2\":\"2-MP\",\"SonicationTime\":2,\"Space010\":null,\"Space100\":16.15,\"SpinRate\":1500,\"SpinTime\":60,\"SprayTime\":null,\"SubsTreat\":null,\"UVResTime\":null,\"UVTime\":null,\"VFSolv1\":0.9,\"VT\":null,\"Vds\":-3,\"Year\":2014,\"Sonicated\":1},{\"null\":4,\"AgeTemp\":null,\"AgeTime\":null,\"AnnCool\":null,\"AnnTemp\":null,\"AnnTime\":null,\"Author\":\"Choi\",\"BP\":null,\"BladeH\":null,\"BladeVel\":null,\"CastCond\":null,\"ChanLen\":50,\"ChanWid\":2,\"ChannelConfig\":null,\"CoolResTime\":null,\"Cooling\":null,\"CorrLen\":372.2298,\"DOI\":\"10.1002\\/adfm.201403708 \",\"Depo\":\"SPUN\",\"DevName\":null,\"DipRate\":null,\"DropSize\":null,\"ElectrodeMat\":\"Au\",\"EvapCont\":null,\"FibLen\":null,\"FilmAggFrac\":64.39465,\"FilmEB\":0.05626,\"FilmRange\":null,\"FilmThick\":null,\"GateMate\":null,\"GrainSize100\":90.3,\"HR\":null,\"Herman\":null,\"InitConc\":5,\"MFFlowRate\":null,\"Mn\":39.13043,\"MobEnv\":\"N2\",\"Mw\":90,\"Notes\":null,\"NozzleDis\":null,\"OFETConfig\":\"BGBC\",\"OFETReg\":\"Linear\",\"PDI\":2.3,\"ProcEnv\":\"Air\",\"RR\":0.96,\"RTMob\":0.10343,\"Sfull\":0.25994,\"SolAggFrac\":null,\"SolEB\":null,\"SolTreat\":null,\"Solv1\":\"CHCl3\",\"Solv2\":\"2-MP\",\"SonicationTime\":2,\"Space010\":null,\"Space100\":16.15,\"SpinRate\":1500,\"SpinTime\":60,\"SprayTime\":null,\"SubsTreat\":null,\"UVResTime\":null,\"UVTime\":null,\"VFSolv1\":0.85,\"VT\":null,\"Vds\":-3,\"Year\":2014,\"Sonicated\":1},{\"null\":5,\"AgeTemp\":null,\"AgeTime\":null,\"AnnCool\":null,\"AnnTemp\":null,\"AnnTime\":null,\"Author\":\"Choi\",\"BP\":null,\"BladeH\":null,\"BladeVel\":null,\"CastCond\":null,\"ChanLen\":50,\"ChanWid\":2,\"ChannelConfig\":null,\"CoolResTime\":null,\"Cooling\":null,\"CorrLen\":242.8569,\"DOI\":\"10.1002\\/adfm.201403708 \",\"Depo\":\"SPUN\",\"DevName\":null,\"DipRate\":null,\"DropSize\":null,\"ElectrodeMat\":\"Au\",\"EvapCont\":null,\"FibLen\":null,\"FilmAggFrac\":65.92195,\"FilmEB\":0.05082,\"FilmRange\":null,\"FilmThick\":null,\"GateMate\":null,\"GrainSize100\":84.9,\"HR\":null,\"Herman\":null,\"InitConc\":5,\"MFFlowRate\":null,\"Mn\":39.13043,\"MobEnv\":\"N2\",\"Mw\":90,\"Notes\":null,\"NozzleDis\":null,\"OFETConfig\":\"BGBC\",\"OFETReg\":\"Linear\",\"PDI\":2.3,\"ProcEnv\":\"Air\",\"RR\":0.96,\"RTMob\":0.0539,\"Sfull\":0.21732,\"SolAggFrac\":null,\"SolEB\":null,\"SolTreat\":null,\"Solv1\":\"CHCl3\",\"Solv2\":\"2-MP\",\"SonicationTime\":2,\"Space010\":null,\"Space100\":15.99,\"SpinRate\":1500,\"SpinTime\":60,\"SprayTime\":null,\"SubsTreat\":null,\"UVResTime\":null,\"UVTime\":null,\"VFSolv1\":0.8,\"VT\":null,\"Vds\":-3,\"Year\":2014,\"Sonicated\":1},{\"null\":6,\"AgeTemp\":null,\"AgeTime\":null,\"AnnCool\":null,\"AnnTemp\":null,\"AnnTime\":null,\"Author\":\"Choi\",\"BP\":null,\"BladeH\":null,\"BladeVel\":null,\"CastCond\":null,\"ChanLen\":50,\"ChanWid\":2,\"ChannelConfig\":null,\"CoolResTime\":null,\"Cooling\":null,\"CorrLen\":296.9343,\"DOI\":\"10.1002\\/adfm.201403708 \",\"Depo\":\"SPUN\",\"DevName\":null,\"DipRate\":null,\"DropSize\":null,\"ElectrodeMat\":\"Au\",\"EvapCont\":null,\"FibLen\":null,\"FilmAggFrac\":65.50449,\"FilmEB\":0.04963,\"FilmRange\":null,\"FilmThick\":null,\"GateMate\":null,\"GrainSize100\":82.3,\"HR\":null,\"Herman\":null,\"InitConc\":5,\"MFFlowRate\":null,\"Mn\":39.13043,\"MobEnv\":\"N2\",\"Mw\":90,\"Notes\":null,\"NozzleDis\":null,\"OFETConfig\":\"BGBC\",\"OFETReg\":\"Linear\",\"PDI\":2.3,\"ProcEnv\":\"Air\",\"RR\":0.96,\"RTMob\":0.02093,\"Sfull\":0.15583,\"SolAggFrac\":null,\"SolEB\":null,\"SolTreat\":null,\"Solv1\":\"CHCl3\",\"Solv2\":\"2-MP\",\"SonicationTime\":2,\"Space010\":null,\"Space100\":15.99,\"SpinRate\":1500,\"SpinTime\":60,\"SprayTime\":null,\"SubsTreat\":null,\"UVResTime\":null,\"UVTime\":null,\"VFSolv1\":0.7,\"VT\":null,\"Vds\":-3,\"Year\":2014,\"Sonicated\":1},{\"null\":7,\"AgeTemp\":null,\"AgeTime\":null,\"AnnCool\":null,\"AnnTemp\":null,\"AnnTime\":null,\"Author\":\"Choi\",\"BP\":null,\"BladeH\":null,\"BladeVel\":null,\"CastCond\":null,\"ChanLen\":50,\"ChanWid\":2,\"ChannelConfig\":null,\"CoolResTime\":null,\"Cooling\":null,\"CorrLen\":242.4394,\"DOI\":\"10.1002\\/adfm.201403708 \",\"Depo\":\"SPUN\",\"DevName\":null,\"DipRate\":null,\"DropSize\":null,\"ElectrodeMat\":\"Au\",\"EvapCont\":null,\"FibLen\":null,\"FilmAggFrac\":66.07097,\"FilmEB\":0.04933,\"FilmRange\":null,\"FilmThick\":null,\"GateMate\":null,\"GrainSize100\":80.9,\"HR\":null,\"Herman\":null,\"InitConc\":5,\"MFFlowRate\":null,\"Mn\":39.13043,\"MobEnv\":\"N2\",\"Mw\":90,\"Notes\":null,\"NozzleDis\":null,\"OFETConfig\":\"BGBC\",\"OFETReg\":\"Linear\",\"PDI\":2.3,\"ProcEnv\":\"Air\",\"RR\":0.96,\"RTMob\":0.01123,\"Sfull\":0.15859,\"SolAggFrac\":null,\"SolEB\":null,\"SolTreat\":null,\"Solv1\":\"CHCl3\",\"Solv2\":\"2-MP\",\"SonicationTime\":2,\"Space010\":null,\"Space100\":15.9,\"SpinRate\":1500,\"SpinTime\":60,\"SprayTime\":null,\"SubsTreat\":null,\"UVResTime\":null,\"UVTime\":null,\"VFSolv1\":0.6,\"VT\":null,\"Vds\":-3,\"Year\":2014,\"Sonicated\":1},{\"null\":8,\"AgeTemp\":null,\"AgeTime\":null,\"AnnCool\":null,\"AnnTemp\":null,\"AnnTime\":null,\"Author\":\"Choi\",\"BP\":null,\"BladeH\":null,\"BladeVel\":null,\"CastCond\":null,\"ChanLen\":50,\"ChanWid\":2,\"ChannelConfig\":null,\"CoolResTime\":null,\"Cooling\":null,\"CorrLen\":null,\"DOI\":\"10.1002\\/adfm.201403708 \",\"Depo\":\"SPUN\",\"DevName\":null,\"DipRate\":null,\"DropSize\":null,\"ElectrodeMat\":\"Au\",\"EvapCont\":null,\"FibLen\":null,\"FilmAggFrac\":56.61085,\"FilmEB\":0.14528,\"FilmRange\":null,\"FilmThick\":null,\"GateMate\":null,\"GrainSize100\":null,\"HR\":null,\"Herman\":null,\"InitConc\":5,\"MFFlowRate\":null,\"Mn\":39.13043,\"MobEnv\":\"N2\",\"Mw\":90,\"Notes\":null,\"NozzleDis\":null,\"OFETConfig\":\"BGBC\",\"OFETReg\":\"Linear\",\"PDI\":2.3,\"ProcEnv\":\"Air\",\"RR\":0.96,\"RTMob\":0.0184,\"Sfull\":null,\"SolAggFrac\":null,\"SolEB\":null,\"SolTreat\":null,\"Solv1\":\"CHCl3\",\"Solv2\":\"2-MP\",\"SonicationTime\":0,\"Space010\":null,\"Space100\":null,\"SpinRate\":1500,\"SpinTime\":60,\"SprayTime\":null,\"SubsTreat\":null,\"UVResTime\":null,\"UVTime\":null,\"VFSolv1\":0.95,\"VT\":null,\"Vds\":-3,\"Year\":2014,\"Sonicated\":0},{\"null\":9,\"AgeTemp\":null,\"AgeTime\":null,\"AnnCool\":null,\"AnnTemp\":null,\"AnnTime\":null,\"Author\":\"Choi\",\"BP\":null,\"BladeH\":null,\"BladeVel\":null,\"CastCond\":null,\"ChanLen\":50,\"ChanWid\":2,\"ChannelConfig\":null,\"CoolResTime\":null,\"Cooling\":null,\"CorrLen\":null,\"DOI\":\"10.1002\\/adfm.201403708 \",\"Depo\":\"SPUN\",\"DevName\":null,\"DipRate\":null,\"DropSize\":null,\"ElectrodeMat\":\"Au\",\"EvapCont\":null,\"FibLen\":null,\"FilmAggFrac\":55.37709,\"FilmEB\":0.141,\"FilmRange\":null,\"FilmThick\":null,\"GateMate\":null,\"GrainSize100\":null,\"HR\":null,\"Herman\":null,\"InitConc\":5,\"MFFlowRate\":null,\"Mn\":39.13043,\"MobEnv\":\"N2\",\"Mw\":90,\"Notes\":null,\"NozzleDis\":null,\"OFETConfig\":\"BGBC\",\"OFETReg\":\"Linear\",\"PDI\":2.3,\"ProcEnv\":\"Air\",\"RR\":0.96,\"RTMob\":0.0324,\"Sfull\":null,\"SolAggFrac\":null,\"SolEB\":null,\"SolTreat\":null,\"Solv1\":\"CHCl3\",\"Solv2\":\"2-MP\",\"SonicationTime\":0,\"Space010\":null,\"Space100\":null,\"SpinRate\":1500,\"SpinTime\":60,\"SprayTime\":null,\"SubsTreat\":null,\"UVResTime\":null,\"UVTime\":null,\"VFSolv1\":0.9,\"VT\":null,\"Vds\":-3,\"Year\":2014,\"Sonicated\":0},{\"null\":10,\"AgeTemp\":null,\"AgeTime\":null,\"AnnCool\":null,\"AnnTemp\":null,\"AnnTime\":null,\"Author\":\"Choi\",\"BP\":null,\"BladeH\":null,\"BladeVel\":null,\"CastCond\":null,\"ChanLen\":50,\"ChanWid\":2,\"ChannelConfig\":null,\"CoolResTime\":null,\"Cooling\":null,\"CorrLen\":385.7158,\"DOI\":\"10.1002\\/adfm.201403708 \",\"Depo\":\"SPUN\",\"DevName\":null,\"DipRate\":null,\"DropSize\":null,\"ElectrodeMat\":\"Au\",\"EvapCont\":null,\"FibLen\":null,\"FilmAggFrac\":56.91971,\"FilmEB\":0.12299,\"FilmRange\":null,\"FilmThick\":null,\"GateMate\":null,\"GrainSize100\":null,\"HR\":null,\"Herman\":null,\"InitConc\":5,\"MFFlowRate\":null,\"Mn\":39.13043,\"MobEnv\":\"N2\",\"Mw\":90,\"Notes\":null,\"NozzleDis\":null,\"OFETConfig\":\"BGBC\",\"OFETReg\":\"Linear\",\"PDI\":2.3,\"ProcEnv\":\"Air\",\"RR\":0.96,\"RTMob\":0.042,\"Sfull\":0.42865,\"SolAggFrac\":null,\"SolEB\":null,\"SolTreat\":null,\"Solv1\":\"CHCl3\",\"Solv2\":\"2-MP\",\"SonicationTime\":0,\"Space010\":null,\"Space100\":16.63,\"SpinRate\":1500,\"SpinTime\":60,\"SprayTime\":null,\"SubsTreat\":null,\"UVResTime\":null,\"UVTime\":null,\"VFSolv1\":0.85,\"VT\":null,\"Vds\":-3,\"Year\":2014,\"Sonicated\":0},{\"null\":11,\"AgeTemp\":null,\"AgeTime\":null,\"AnnCool\":null,\"AnnTemp\":null,\"AnnTime\":null,\"Author\":\"Choi\",\"BP\":null,\"BladeH\":null,\"BladeVel\":null,\"CastCond\":null,\"ChanLen\":50,\"ChanWid\":2,\"ChannelConfig\":null,\"CoolResTime\":null,\"Cooling\":null,\"CorrLen\":430.3374,\"DOI\":\"10.1002\\/adfm.201403708 \",\"Depo\":\"SPUN\",\"DevName\":null,\"DipRate\":null,\"DropSize\":null,\"ElectrodeMat\":\"Au\",\"EvapCont\":null,\"FibLen\":null,\"FilmAggFrac\":59.71129,\"FilmEB\":0.08657,\"FilmRange\":null,\"FilmThick\":null,\"GateMate\":null,\"GrainSize100\":null,\"HR\":null,\"Herman\":null,\"InitConc\":5,\"MFFlowRate\":null,\"Mn\":39.13043,\"MobEnv\":\"N2\",\"Mw\":90,\"Notes\":null,\"NozzleDis\":null,\"OFETConfig\":\"BGBC\",\"OFETReg\":\"Linear\",\"PDI\":2.3,\"ProcEnv\":\"Air\",\"RR\":0.96,\"RTMob\":0.0496,\"Sfull\":0.55495,\"SolAggFrac\":null,\"SolEB\":null,\"SolTreat\":null,\"Solv1\":\"CHCl3\",\"Solv2\":\"2-MP\",\"SonicationTime\":0,\"Space010\":null,\"Space100\":16.42,\"SpinRate\":1500,\"SpinTime\":60,\"SprayTime\":null,\"SubsTreat\":null,\"UVResTime\":null,\"UVTime\":null,\"VFSolv1\":0.8,\"VT\":null,\"Vds\":-3,\"Year\":2014,\"Sonicated\":0},{\"null\":12,\"AgeTemp\":null,\"AgeTime\":null,\"AnnCool\":null,\"AnnTemp\":null,\"AnnTime\":null,\"Author\":\"Choi\",\"BP\":null,\"BladeH\":null,\"BladeVel\":null,\"CastCond\":null,\"ChanLen\":50,\"ChanWid\":2,\"ChannelConfig\":null,\"CoolResTime\":null,\"Cooling\":null,\"CorrLen\":295.5888,\"DOI\":\"10.1002\\/adfm.201403708 \",\"Depo\":\"SPUN\",\"DevName\":null,\"DipRate\":null,\"DropSize\":null,\"ElectrodeMat\":\"Au\",\"EvapCont\":null,\"FibLen\":null,\"FilmAggFrac\":63.57058,\"FilmEB\":0.07732,\"FilmRange\":null,\"FilmThick\":null,\"GateMate\":null,\"GrainSize100\":null,\"HR\":null,\"Herman\":null,\"InitConc\":5,\"MFFlowRate\":null,\"Mn\":39.13043,\"MobEnv\":\"N2\",\"Mw\":90,\"Notes\":null,\"NozzleDis\":null,\"OFETConfig\":\"BGBC\",\"OFETReg\":\"Linear\",\"PDI\":2.3,\"ProcEnv\":\"Air\",\"RR\":0.96,\"RTMob\":0.0418,\"Sfull\":0.2701,\"SolAggFrac\":null,\"SolEB\":null,\"SolTreat\":null,\"Solv1\":\"CHCl3\",\"Solv2\":\"2-MP\",\"SonicationTime\":0,\"Space010\":null,\"Space100\":16.42,\"SpinRate\":1500,\"SpinTime\":60,\"SprayTime\":null,\"SubsTreat\":null,\"UVResTime\":null,\"UVTime\":null,\"VFSolv1\":0.7,\"VT\":null,\"Vds\":-3,\"Year\":2014,\"Sonicated\":0},{\"null\":13,\"AgeTemp\":null,\"AgeTime\":null,\"AnnCool\":null,\"AnnTemp\":null,\"AnnTime\":null,\"Author\":\"Choi\",\"BP\":null,\"BladeH\":null,\"BladeVel\":null,\"CastCond\":null,\"ChanLen\":50,\"ChanWid\":2,\"ChannelConfig\":null,\"CoolResTime\":null,\"Cooling\":null,\"CorrLen\":298.1897,\"DOI\":\"10.1002\\/adfm.201403708 \",\"Depo\":\"SPUN\",\"DevName\":null,\"DipRate\":null,\"DropSize\":null,\"ElectrodeMat\":\"Au\",\"EvapCont\":null,\"FibLen\":null,\"FilmAggFrac\":64.25423,\"FilmEB\":0.07192,\"FilmRange\":null,\"FilmThick\":null,\"GateMate\":null,\"GrainSize100\":null,\"HR\":null,\"Herman\":null,\"InitConc\":5,\"MFFlowRate\":null,\"Mn\":39.13043,\"MobEnv\":\"N2\",\"Mw\":90,\"Notes\":null,\"NozzleDis\":null,\"OFETConfig\":\"BGBC\",\"OFETReg\":\"Linear\",\"PDI\":2.3,\"ProcEnv\":\"Air\",\"RR\":0.96,\"RTMob\":0.0347,\"Sfull\":0.14567,\"SolAggFrac\":null,\"SolEB\":null,\"SolTreat\":null,\"Solv1\":\"CHCl3\",\"Solv2\":\"2-MP\",\"SonicationTime\":0,\"Space010\":null,\"Space100\":16.42,\"SpinRate\":1500,\"SpinTime\":60,\"SprayTime\":null,\"SubsTreat\":null,\"UVResTime\":null,\"UVTime\":null,\"VFSolv1\":0.6,\"VT\":null,\"Vds\":-3,\"Year\":2014,\"Sonicated\":0},{\"null\":14,\"AgeTemp\":null,\"AgeTime\":null,\"AnnCool\":null,\"AnnTemp\":null,\"AnnTime\":null,\"Author\":\"Choi\",\"BP\":null,\"BladeH\":null,\"BladeVel\":null,\"CastCond\":null,\"ChanLen\":50,\"ChanWid\":2,\"ChannelConfig\":null,\"CoolResTime\":null,\"Cooling\":null,\"CorrLen\":262.0994,\"DOI\":\"10.1002\\/adfm.201403708 \",\"Depo\":\"SPUN\",\"DevName\":null,\"DipRate\":null,\"DropSize\":null,\"ElectrodeMat\":\"Au\",\"EvapCont\":null,\"FibLen\":null,\"FilmAggFrac\":61.47177,\"FilmEB\":0.06211,\"FilmRange\":null,\"FilmThick\":null,\"GateMate\":null,\"GrainSize100\":null,\"HR\":null,\"Herman\":null,\"InitConc\":5,\"MFFlowRate\":null,\"Mn\":39.13043,\"MobEnv\":\"N2\",\"Mw\":90,\"Notes\":null,\"NozzleDis\":null,\"OFETConfig\":\"BGBC\",\"OFETReg\":\"Linear\",\"PDI\":2.3,\"ProcEnv\":\"Air\",\"RR\":0.96,\"RTMob\":0.0296,\"Sfull\":0.18712,\"SolAggFrac\":null,\"SolEB\":null,\"SolTreat\":null,\"Solv1\":\"CHCl3\",\"Solv2\":null,\"SonicationTime\":1,\"Space010\":null,\"Space100\":null,\"SpinRate\":1500,\"SpinTime\":60,\"SprayTime\":null,\"SubsTreat\":null,\"UVResTime\":null,\"UVTime\":null,\"VFSolv1\":null,\"VT\":null,\"Vds\":-3,\"Year\":2014,\"Sonicated\":1},{\"null\":15,\"AgeTemp\":null,\"AgeTime\":null,\"AnnCool\":null,\"AnnTemp\":null,\"AnnTime\":null,\"Author\":\"Choi\",\"BP\":null,\"BladeH\":null,\"BladeVel\":null,\"CastCond\":null,\"ChanLen\":50,\"ChanWid\":2,\"ChannelConfig\":null,\"CoolResTime\":null,\"Cooling\":null,\"CorrLen\":271.1179,\"DOI\":\"10.1002\\/adfm.201403708 \",\"Depo\":\"SPUN\",\"DevName\":null,\"DipRate\":null,\"DropSize\":null,\"ElectrodeMat\":\"Au\",\"EvapCont\":null,\"FibLen\":null,\"FilmAggFrac\":62.02528,\"FilmEB\":0.06203,\"FilmRange\":null,\"FilmThick\":null,\"GateMate\":null,\"GrainSize100\":null,\"HR\":null,\"Herman\":null,\"InitConc\":5,\"MFFlowRate\":null,\"Mn\":39.13043,\"MobEnv\":\"N2\",\"Mw\":90,\"Notes\":null,\"NozzleDis\":null,\"OFETConfig\":\"BGBC\",\"OFETReg\":\"Linear\",\"PDI\":2.3,\"ProcEnv\":\"Air\",\"RR\":0.96,\"RTMob\":0.026,\"Sfull\":0.17689,\"SolAggFrac\":null,\"SolEB\":null,\"SolTreat\":null,\"Solv1\":\"CHCl3\",\"Solv2\":null,\"SonicationTime\":2,\"Space010\":null,\"Space100\":null,\"SpinRate\":1500,\"SpinTime\":60,\"SprayTime\":null,\"SubsTreat\":null,\"UVResTime\":null,\"UVTime\":null,\"VFSolv1\":null,\"VT\":null,\"Vds\":-3,\"Year\":2014,\"Sonicated\":1},{\"null\":16,\"AgeTemp\":null,\"AgeTime\":null,\"AnnCool\":null,\"AnnTemp\":null,\"AnnTime\":null,\"Author\":\"Choi\",\"BP\":null,\"BladeH\":null,\"BladeVel\":null,\"CastCond\":null,\"ChanLen\":50,\"ChanWid\":2,\"ChannelConfig\":null,\"CoolResTime\":null,\"Cooling\":null,\"CorrLen\":332.0886,\"DOI\":\"10.1002\\/adfm.201403708 \",\"Depo\":\"SPUN\",\"DevName\":null,\"DipRate\":null,\"DropSize\":null,\"ElectrodeMat\":\"Au\",\"EvapCont\":null,\"FibLen\":null,\"FilmAggFrac\":63.9167,\"FilmEB\":0.0508,\"FilmRange\":null,\"FilmThick\":null,\"GateMate\":null,\"GrainSize100\":null,\"HR\":null,\"Herman\":null,\"InitConc\":5,\"MFFlowRate\":null,\"Mn\":39.13043,\"MobEnv\":\"N2\",\"Mw\":90,\"Notes\":null,\"NozzleDis\":null,\"OFETConfig\":\"BGBC\",\"OFETReg\":\"Linear\",\"PDI\":2.3,\"ProcEnv\":\"Air\",\"RR\":0.96,\"RTMob\":0.023,\"Sfull\":0.12816,\"SolAggFrac\":null,\"SolEB\":null,\"SolTreat\":null,\"Solv1\":\"CHCl3\",\"Solv2\":null,\"SonicationTime\":3,\"Space010\":null,\"Space100\":null,\"SpinRate\":1500,\"SpinTime\":60,\"SprayTime\":null,\"SubsTreat\":null,\"UVResTime\":null,\"UVTime\":null,\"VFSolv1\":null,\"VT\":null,\"Vds\":-3,\"Year\":2014,\"Sonicated\":1},{\"null\":17,\"AgeTemp\":null,\"AgeTime\":null,\"AnnCool\":null,\"AnnTemp\":null,\"AnnTime\":null,\"Author\":\"Choi\",\"BP\":null,\"BladeH\":null,\"BladeVel\":null,\"CastCond\":null,\"ChanLen\":50,\"ChanWid\":2,\"ChannelConfig\":null,\"CoolResTime\":null,\"Cooling\":null,\"CorrLen\":251.5515,\"DOI\":\"10.1002\\/adfm.201403708 \",\"Depo\":\"SPUN\",\"DevName\":null,\"DipRate\":null,\"DropSize\":null,\"ElectrodeMat\":\"Au\",\"EvapCont\":null,\"FibLen\":null,\"FilmAggFrac\":65.39871,\"FilmEB\":0.04041,\"FilmRange\":null,\"FilmThick\":null,\"GateMate\":null,\"GrainSize100\":null,\"HR\":null,\"Herman\":null,\"InitConc\":5,\"MFFlowRate\":null,\"Mn\":39.13043,\"MobEnv\":\"N2\",\"Mw\":90,\"Notes\":null,\"NozzleDis\":null,\"OFETConfig\":\"BGBC\",\"OFETReg\":\"Linear\",\"PDI\":2.3,\"ProcEnv\":\"Air\",\"RR\":0.96,\"RTMob\":0.023,\"Sfull\":0.20321,\"SolAggFrac\":null,\"SolEB\":null,\"SolTreat\":null,\"Solv1\":\"CHCl3\",\"Solv2\":null,\"SonicationTime\":4,\"Space010\":null,\"Space100\":null,\"SpinRate\":1500,\"SpinTime\":60,\"SprayTime\":null,\"SubsTreat\":null,\"UVResTime\":null,\"UVTime\":null,\"VFSolv1\":null,\"VT\":null,\"Vds\":-3,\"Year\":2014,\"Sonicated\":1},{\"null\":18,\"AgeTemp\":null,\"AgeTime\":null,\"AnnCool\":null,\"AnnTemp\":null,\"AnnTime\":null,\"Author\":\"Choi\",\"BP\":null,\"BladeH\":null,\"BladeVel\":null,\"CastCond\":null,\"ChanLen\":50,\"ChanWid\":2,\"ChannelConfig\":null,\"CoolResTime\":null,\"Cooling\":null,\"CorrLen\":392.4729,\"DOI\":\"10.1002\\/adfm.201403708 \",\"Depo\":\"SPUN\",\"DevName\":null,\"DipRate\":null,\"DropSize\":null,\"ElectrodeMat\":\"Au\",\"EvapCont\":null,\"FibLen\":null,\"FilmAggFrac\":66.25812,\"FilmEB\":0.04198,\"FilmRange\":null,\"FilmThick\":null,\"GateMate\":null,\"GrainSize100\":null,\"HR\":null,\"Herman\":null,\"InitConc\":5,\"MFFlowRate\":null,\"Mn\":39.13043,\"MobEnv\":\"N2\",\"Mw\":90,\"Notes\":null,\"NozzleDis\":null,\"OFETConfig\":\"BGBC\",\"OFETReg\":\"Linear\",\"PDI\":2.3,\"ProcEnv\":\"Air\",\"RR\":0.96,\"RTMob\":0.018,\"Sfull\":0.02714,\"SolAggFrac\":null,\"SolEB\":null,\"SolTreat\":null,\"Solv1\":\"CHCl3\",\"Solv2\":null,\"SonicationTime\":5,\"Space010\":null,\"Space100\":null,\"SpinRate\":1500,\"SpinTime\":60,\"SprayTime\":null,\"SubsTreat\":null,\"UVResTime\":null,\"UVTime\":null,\"VFSolv1\":null,\"VT\":null,\"Vds\":-3,\"Year\":2014,\"Sonicated\":1},{\"null\":19,\"AgeTemp\":null,\"AgeTime\":null,\"AnnCool\":null,\"AnnTemp\":null,\"AnnTime\":null,\"Author\":\"Choi\",\"BP\":null,\"BladeH\":null,\"BladeVel\":null,\"CastCond\":null,\"ChanLen\":50,\"ChanWid\":2,\"ChannelConfig\":null,\"CoolResTime\":null,\"Cooling\":null,\"CorrLen\":null,\"DOI\":\"10.1002\\/adfm.201403708 \",\"Depo\":\"SPUN\",\"DevName\":null,\"DipRate\":null,\"DropSize\":null,\"ElectrodeMat\":\"Au\",\"EvapCont\":null,\"FibLen\":null,\"FilmAggFrac\":null,\"FilmEB\":null,\"FilmRange\":null,\"FilmThick\":null,\"GateMate\":null,\"GrainSize100\":null,\"HR\":null,\"Herman\":null,\"InitConc\":5,\"MFFlowRate\":null,\"Mn\":39.13043,\"MobEnv\":\"N2\",\"Mw\":90,\"Notes\":null,\"NozzleDis\":null,\"OFETConfig\":\"BGBC\",\"OFETReg\":\"Linear\",\"PDI\":2.3,\"ProcEnv\":\"Air\",\"RR\":0.96,\"RTMob\":0.02,\"Sfull\":null,\"SolAggFrac\":null,\"SolEB\":null,\"SolTreat\":null,\"Solv1\":\"CHCl3\",\"Solv2\":null,\"SonicationTime\":6,\"Space010\":null,\"Space100\":null,\"SpinRate\":1500,\"SpinTime\":60,\"SprayTime\":null,\"SubsTreat\":null,\"UVResTime\":null,\"UVTime\":null,\"VFSolv1\":null,\"VT\":null,\"Vds\":-3,\"Year\":2014,\"Sonicated\":1},{\"null\":1,\"AgeTemp\":25,\"AgeTime\":0,\"AnnCool\":null,\"AnnTemp\":null,\"AnnTime\":null,\"Author\":\"Kleinhenz\",\"BP\":null,\"BladeH\":null,\"BladeVel\":null,\"CastCond\":null,\"ChanLen\":50,\"ChanWid\":2,\"ChannelConfig\":\"Single\",\"CoolResTime\":null,\"Cooling\":null,\"CorrLen\":null,\"DOI\":\"10.1021\\/acs\\/chemmater.6b01163\",\"Depo\":\"SPUN\",\"DevName\":null,\"DipRate\":null,\"DropSize\":null,\"ElectrodeMat\":\"Au\",\"EvapCont\":null,\"FibLen\":0,\"FilmAggFrac\":59.79658,\"FilmEB\":0.12349,\"FilmRange\":null,\"FilmThick\":null,\"GateMate\":null,\"GrainSize100\":81.21659,\"HR\":null,\"Herman\":0.29692,\"InitConc\":5,\"MFFlowRate\":null,\"Mn\":32,\"MobEnv\":\"N2\",\"Mw\":71,\"Notes\":null,\"NozzleDis\":null,\"OFETConfig\":\"BGBC\",\"OFETReg\":\"Saturation\",\"PDI\":2.2,\"ProcEnv\":\"Air\",\"RR\":0.96,\"RTMob\":0.013,\"Sfull\":null,\"SolAggFrac\":1.26672,\"SolEB\":0.32547,\"SolTreat\":null,\"Solv1\":\"CHCl3\",\"Solv2\":null,\"SonicationTime\":0,\"Space010\":3.6472,\"Space100\":16.22527,\"SpinRate\":800,\"SpinTime\":30,\"SprayTime\":null,\"SubsTreat\":null,\"UVResTime\":null,\"UVTime\":null,\"VFSolv1\":null,\"VT\":null,\"Vds\":-80,\"Year\":2016,\"Sonicated\":0},{\"null\":2,\"AgeTemp\":25,\"AgeTime\":12,\"AnnCool\":null,\"AnnTemp\":null,\"AnnTime\":null,\"Author\":\"Kleinhenz\",\"BP\":null,\"BladeH\":null,\"BladeVel\":null,\"CastCond\":null,\"ChanLen\":50,\"ChanWid\":2,\"ChannelConfig\":\"Single\",\"CoolResTime\":null,\"Cooling\":null,\"CorrLen\":628.1783,\"DOI\":\"10.1021\\/acs\\/chemmater.6b01163\",\"Depo\":\"SPUN\",\"DevName\":null,\"DipRate\":null,\"DropSize\":null,\"ElectrodeMat\":\"Au\",\"EvapCont\":null,\"FibLen\":1783,\"FilmAggFrac\":59.45159,\"FilmEB\":0.0772,\"FilmRange\":null,\"FilmThick\":null,\"GateMate\":null,\"GrainSize100\":97.15377,\"HR\":null,\"Herman\":0.61777,\"InitConc\":5,\"MFFlowRate\":null,\"Mn\":32,\"MobEnv\":\"N2\",\"Mw\":71,\"Notes\":null,\"NozzleDis\":null,\"OFETConfig\":\"BGBC\",\"OFETReg\":\"Saturation\",\"PDI\":2.2,\"ProcEnv\":\"Air\",\"RR\":0.96,\"RTMob\":0.089,\"Sfull\":0.81311,\"SolAggFrac\":12.59638,\"SolEB\":0.00622,\"SolTreat\":null,\"Solv1\":\"CHCl3\",\"Solv2\":null,\"SonicationTime\":0,\"Space010\":3.64233,\"Space100\":16.13658,\"SpinRate\":800,\"SpinTime\":30,\"SprayTime\":null,\"SubsTreat\":null,\"UVResTime\":null,\"UVTime\":null,\"VFSolv1\":null,\"VT\":null,\"Vds\":-80,\"Year\":2016,\"Sonicated\":0},{\"null\":3,\"AgeTemp\":25,\"AgeTime\":24,\"AnnCool\":null,\"AnnTemp\":null,\"AnnTime\":null,\"Author\":\"Kleinhenz\",\"BP\":null,\"BladeH\":null,\"BladeVel\":null,\"CastCond\":null,\"ChanLen\":50,\"ChanWid\":2,\"ChannelConfig\":\"Single\",\"CoolResTime\":null,\"Cooling\":null,\"CorrLen\":1454.6761,\"DOI\":\"10.1021\\/acs\\/chemmater.6b01163\",\"Depo\":\"SPUN\",\"DevName\":null,\"DipRate\":null,\"DropSize\":null,\"ElectrodeMat\":\"Au\",\"EvapCont\":null,\"FibLen\":2804.10156,\"FilmAggFrac\":61.38834,\"FilmEB\":0.0621,\"FilmRange\":null,\"FilmThick\":null,\"GateMate\":null,\"GrainSize100\":108.45631,\"HR\":null,\"Herman\":0.46123,\"InitConc\":5,\"MFFlowRate\":null,\"Mn\":32,\"MobEnv\":\"N2\",\"Mw\":71,\"Notes\":null,\"NozzleDis\":null,\"OFETConfig\":\"BGBC\",\"OFETReg\":\"Saturation\",\"PDI\":2.2,\"ProcEnv\":\"Air\",\"RR\":0.96,\"RTMob\":0.108,\"Sfull\":0.53157,\"SolAggFrac\":20.00157,\"SolEB\":0.00174,\"SolTreat\":null,\"Solv1\":\"CHCl3\",\"Solv2\":null,\"SonicationTime\":0,\"Space010\":3.66283,\"Space100\":16.57309,\"SpinRate\":800,\"SpinTime\":30,\"SprayTime\":null,\"SubsTreat\":null,\"UVResTime\":null,\"UVTime\":null,\"VFSolv1\":null,\"VT\":null,\"Vds\":-80,\"Year\":2016,\"Sonicated\":0},{\"null\":4,\"AgeTemp\":25,\"AgeTime\":48,\"AnnCool\":null,\"AnnTemp\":null,\"AnnTime\":null,\"Author\":\"Kleinhenz\",\"BP\":null,\"BladeH\":null,\"BladeVel\":null,\"CastCond\":null,\"ChanLen\":50,\"ChanWid\":2,\"ChannelConfig\":\"Single\",\"CoolResTime\":null,\"Cooling\":null,\"CorrLen\":1125.6085,\"DOI\":\"10.1021\\/acs\\/chemmater.6b01163\",\"Depo\":\"SPUN\",\"DevName\":null,\"DipRate\":null,\"DropSize\":null,\"ElectrodeMat\":\"Au\",\"EvapCont\":null,\"FibLen\":2285.15625,\"FilmAggFrac\":61.37444,\"FilmEB\":0.06253,\"FilmRange\":null,\"FilmThick\":null,\"GateMate\":null,\"GrainSize100\":107.52479,\"HR\":null,\"Herman\":0.6906,\"InitConc\":5,\"MFFlowRate\":null,\"Mn\":32,\"MobEnv\":\"N2\",\"Mw\":71,\"Notes\":null,\"NozzleDis\":null,\"OFETConfig\":\"BGBC\",\"OFETReg\":\"Saturation\",\"PDI\":2.2,\"ProcEnv\":\"Air\",\"RR\":0.96,\"RTMob\":0.091,\"Sfull\":0.30917,\"SolAggFrac\":20.69379,\"SolEB\":-0.00029,\"SolTreat\":null,\"Solv1\":\"CHCl3\",\"Solv2\":null,\"SonicationTime\":0,\"Space010\":3.64152,\"Space100\":16.13658,\"SpinRate\":800,\"SpinTime\":30,\"SprayTime\":null,\"SubsTreat\":null,\"UVResTime\":null,\"UVTime\":null,\"VFSolv1\":null,\"VT\":null,\"Vds\":-80,\"Year\":2016,\"Sonicated\":0},{\"null\":5,\"AgeTemp\":25,\"AgeTime\":96,\"AnnCool\":null,\"AnnTemp\":null,\"AnnTime\":null,\"Author\":\"Kleinhenz\",\"BP\":null,\"BladeH\":null,\"BladeVel\":null,\"CastCond\":null,\"ChanLen\":50,\"ChanWid\":2,\"ChannelConfig\":\"Single\",\"CoolResTime\":null,\"Cooling\":null,\"CorrLen\":845.7434,\"DOI\":\"10.1021\\/acs\\/chemmater.6b01163\",\"Depo\":\"SPUN\",\"DevName\":null,\"DipRate\":null,\"DropSize\":null,\"ElectrodeMat\":\"Au\",\"EvapCont\":null,\"FibLen\":3114.25781,\"FilmAggFrac\":62.82366,\"FilmEB\":0.05484,\"FilmRange\":null,\"FilmThick\":null,\"GateMate\":null,\"GrainSize100\":112.06228,\"HR\":null,\"Herman\":0.73872,\"InitConc\":5,\"MFFlowRate\":null,\"Mn\":32,\"MobEnv\":\"N2\",\"Mw\":71,\"Notes\":null,\"NozzleDis\":null,\"OFETConfig\":\"BGBC\",\"OFETReg\":\"Saturation\",\"PDI\":2.2,\"ProcEnv\":\"Air\",\"RR\":0.96,\"RTMob\":0.102,\"Sfull\":0.55609,\"SolAggFrac\":21.68846,\"SolEB\":-0.00724,\"SolTreat\":null,\"Solv1\":\"CHCl3\",\"Solv2\":null,\"SonicationTime\":0,\"Space010\":3.62847,\"Space100\":16.07798,\"SpinRate\":800,\"SpinTime\":30,\"SprayTime\":null,\"SubsTreat\":null,\"UVResTime\":null,\"UVTime\":null,\"VFSolv1\":null,\"VT\":null,\"Vds\":-80,\"Year\":2016,\"Sonicated\":0},{\"null\":6,\"AgeTemp\":25,\"AgeTime\":0,\"AnnCool\":null,\"AnnTemp\":null,\"AnnTime\":null,\"Author\":\"Kleinhenz\",\"BP\":null,\"BladeH\":null,\"BladeVel\":null,\"CastCond\":null,\"ChanLen\":50,\"ChanWid\":2,\"ChannelConfig\":\"Single\",\"CoolResTime\":null,\"Cooling\":null,\"CorrLen\":620.8539,\"DOI\":\"10.1021\\/acs\\/chemmater.6b01163\",\"Depo\":\"SPUN\",\"DevName\":null,\"DipRate\":null,\"DropSize\":null,\"ElectrodeMat\":\"Au\",\"EvapCont\":null,\"FibLen\":629.88281,\"FilmAggFrac\":61.66191,\"FilmEB\":0.06198,\"FilmRange\":null,\"FilmThick\":null,\"GateMate\":null,\"GrainSize100\":110.64735,\"HR\":null,\"Herman\":0.43222,\"InitConc\":5,\"MFFlowRate\":null,\"Mn\":32,\"MobEnv\":\"N2\",\"Mw\":71,\"Notes\":null,\"NozzleDis\":null,\"OFETConfig\":\"BGBC\",\"OFETReg\":\"Saturation\",\"PDI\":2.2,\"ProcEnv\":\"Air\",\"RR\":0.96,\"RTMob\":0.112,\"Sfull\":0.1219,\"SolAggFrac\":7.82545,\"SolEB\":-0.005,\"SolTreat\":null,\"Solv1\":\"CHCl3\",\"Solv2\":null,\"SonicationTime\":2,\"Space010\":3.64611,\"Space100\":16.42775,\"SpinRate\":800,\"SpinTime\":30,\"SprayTime\":null,\"SubsTreat\":null,\"UVResTime\":null,\"UVTime\":null,\"VFSolv1\":null,\"VT\":null,\"Vds\":-80,\"Year\":2016,\"Sonicated\":1},{\"null\":7,\"AgeTemp\":25,\"AgeTime\":96,\"AnnCool\":null,\"AnnTemp\":null,\"AnnTime\":null,\"Author\":\"Kleinhenz\",\"BP\":null,\"BladeH\":null,\"BladeVel\":null,\"CastCond\":null,\"ChanLen\":50,\"ChanWid\":2,\"ChannelConfig\":\"Single\",\"CoolResTime\":null,\"Cooling\":null,\"CorrLen\":963.4603,\"DOI\":\"10.1021\\/acs\\/chemmater.6b01163\",\"Depo\":\"SPUN\",\"DevName\":null,\"DipRate\":null,\"DropSize\":null,\"ElectrodeMat\":\"Au\",\"EvapCont\":null,\"FibLen\":2331.20117,\"FilmAggFrac\":64.33672,\"FilmEB\":0.04047,\"FilmRange\":null,\"FilmThick\":null,\"GateMate\":null,\"GrainSize100\":104.2006,\"HR\":null,\"Herman\":0.7794,\"InitConc\":5,\"MFFlowRate\":null,\"Mn\":32,\"MobEnv\":\"N2\",\"Mw\":71,\"Notes\":null,\"NozzleDis\":null,\"OFETConfig\":\"BGBC\",\"OFETReg\":\"Saturation\",\"PDI\":2.2,\"ProcEnv\":\"Air\",\"RR\":0.96,\"RTMob\":0.147,\"Sfull\":0.44237,\"SolAggFrac\":32.37786,\"SolEB\":-0.02244,\"SolTreat\":null,\"Solv1\":\"CHCl3\",\"Solv2\":null,\"SonicationTime\":2,\"Space010\":3.6476,\"Space100\":16.01981,\"SpinRate\":800,\"SpinTime\":30,\"SprayTime\":null,\"SubsTreat\":null,\"UVResTime\":null,\"UVTime\":null,\"VFSolv1\":null,\"VT\":null,\"Vds\":-80,\"Year\":2016,\"Sonicated\":1},{\"null\":8,\"AgeTemp\":25,\"AgeTime\":192,\"AnnCool\":null,\"AnnTemp\":null,\"AnnTime\":null,\"Author\":\"Kleinhenz\",\"BP\":null,\"BladeH\":null,\"BladeVel\":null,\"CastCond\":null,\"ChanLen\":50,\"ChanWid\":2,\"ChannelConfig\":\"Single\",\"CoolResTime\":null,\"Cooling\":null,\"CorrLen\":1431.3443,\"DOI\":\"10.1021\\/acs\\/chemmater.6b01163\",\"Depo\":\"SPUN\",\"DevName\":null,\"DipRate\":null,\"DropSize\":null,\"ElectrodeMat\":\"Au\",\"EvapCont\":null,\"FibLen\":3540.72266,\"FilmAggFrac\":63.93782,\"FilmEB\":0.03068,\"FilmRange\":null,\"FilmThick\":null,\"GateMate\":null,\"GrainSize100\":91.28406,\"HR\":null,\"Herman\":0.66534,\"InitConc\":5,\"MFFlowRate\":null,\"Mn\":32,\"MobEnv\":\"N2\",\"Mw\":71,\"Notes\":null,\"NozzleDis\":null,\"OFETConfig\":\"BGBC\",\"OFETReg\":\"Saturation\",\"PDI\":2.2,\"ProcEnv\":\"Air\",\"RR\":0.96,\"RTMob\":0.085,\"Sfull\":0.07643,\"SolAggFrac\":26.44358,\"SolEB\":-0.01887,\"SolTreat\":null,\"Solv1\":\"CHCl3\",\"Solv2\":null,\"SonicationTime\":2,\"Space010\":3.64936,\"Space100\":16.05943,\"SpinRate\":800,\"SpinTime\":30,\"SprayTime\":null,\"SubsTreat\":null,\"UVResTime\":null,\"UVTime\":null,\"VFSolv1\":null,\"VT\":null,\"Vds\":-80,\"Year\":2016,\"Sonicated\":1},{\"null\":9,\"AgeTemp\":25,\"AgeTime\":96,\"AnnCool\":null,\"AnnTemp\":null,\"AnnTime\":null,\"Author\":\"Kleinhenz\",\"BP\":null,\"BladeH\":null,\"BladeVel\":null,\"CastCond\":null,\"ChanLen\":50,\"ChanWid\":2,\"ChannelConfig\":\"Single\",\"CoolResTime\":null,\"Cooling\":null,\"CorrLen\":1477.121,\"DOI\":\"10.1021\\/acs\\/chemmater.6b01163\",\"Depo\":\"SPUN\",\"DevName\":null,\"DipRate\":null,\"DropSize\":null,\"ElectrodeMat\":\"Au\",\"EvapCont\":null,\"FibLen\":366.21094,\"FilmAggFrac\":66.35874,\"FilmEB\":0.03817,\"FilmRange\":null,\"FilmThick\":null,\"GateMate\":null,\"GrainSize100\":99.24428,\"HR\":null,\"Herman\":0.60788,\"InitConc\":5,\"MFFlowRate\":null,\"Mn\":32,\"MobEnv\":\"N2\",\"Mw\":71,\"Notes\":null,\"NozzleDis\":null,\"OFETConfig\":\"BGBC\",\"OFETReg\":\"Saturation\",\"PDI\":2.2,\"ProcEnv\":\"Air\",\"RR\":0.96,\"RTMob\":0.021,\"Sfull\":0.1862,\"SolAggFrac\":24.54329,\"SolEB\":-0.00772,\"SolTreat\":null,\"Solv1\":\"CHCl3\",\"Solv2\":null,\"SonicationTime\":2,\"Space010\":3.65167,\"Space100\":16.12055,\"SpinRate\":800,\"SpinTime\":30,\"SprayTime\":null,\"SubsTreat\":null,\"UVResTime\":null,\"UVTime\":null,\"VFSolv1\":null,\"VT\":null,\"Vds\":-80,\"Year\":2016,\"Sonicated\":1},{\"null\":1,\"AgeTemp\":null,\"AgeTime\":null,\"AnnCool\":null,\"AnnTemp\":null,\"AnnTime\":null,\"Author\":\"Wang\",\"BP\":null,\"BladeH\":null,\"BladeVel\":null,\"CastCond\":null,\"ChanLen\":50,\"ChanWid\":2,\"ChannelConfig\":null,\"CoolResTime\":null,\"Cooling\":null,\"CorrLen\":null,\"DOI\":\"10.1021\\/acsnano.5b02582\",\"Depo\":\"SPUN\",\"DevName\":null,\"DipRate\":null,\"DropSize\":null,\"ElectrodeMat\":null,\"EvapCont\":null,\"FibLen\":null,\"FilmAggFrac\":null,\"FilmEB\":0.1384,\"FilmRange\":null,\"FilmThick\":null,\"GateMate\":null,\"GrainSize100\":null,\"HR\":null,\"Herman\":-0.05,\"InitConc\":5,\"MFFlowRate\":null,\"Mn\":19.8,\"MobEnv\":\"N2\",\"Mw\":43.9,\"Notes\":null,\"NozzleDis\":null,\"OFETConfig\":\"BGBC\",\"OFETReg\":\"Saturation\",\"PDI\":2.21717,\"ProcEnv\":\"Air\",\"RR\":0.96,\"RTMob\":0.013,\"Sfull\":null,\"SolAggFrac\":null,\"SolEB\":null,\"SolTreat\":null,\"Solv1\":\"CHCl3\",\"Solv2\":null,\"SonicationTime\":0,\"Space010\":3.93,\"Space100\":null,\"SpinRate\":1500,\"SpinTime\":60,\"SprayTime\":null,\"SubsTreat\":null,\"UVResTime\":null,\"UVTime\":null,\"VFSolv1\":null,\"VT\":null,\"Vds\":-80,\"Year\":2015,\"Sonicated\":0},{\"null\":2,\"AgeTemp\":null,\"AgeTime\":null,\"AnnCool\":null,\"AnnTemp\":null,\"AnnTime\":null,\"Author\":\"Wang\",\"BP\":null,\"BladeH\":null,\"BladeVel\":null,\"CastCond\":null,\"ChanLen\":50,\"ChanWid\":2,\"ChannelConfig\":null,\"CoolResTime\":null,\"Cooling\":30,\"CorrLen\":null,\"DOI\":\"10.1021\\/acsnano.5b02582\",\"Depo\":\"SPUN\",\"DevName\":null,\"DipRate\":null,\"DropSize\":null,\"ElectrodeMat\":null,\"EvapCont\":null,\"FibLen\":null,\"FilmAggFrac\":null,\"FilmEB\":null,\"FilmRange\":null,\"FilmThick\":null,\"GateMate\":null,\"GrainSize100\":null,\"HR\":null,\"Herman\":null,\"InitConc\":5,\"MFFlowRate\":null,\"Mn\":19.8,\"MobEnv\":\"N2\",\"Mw\":43.9,\"Notes\":null,\"NozzleDis\":null,\"OFETConfig\":\"BGBC\",\"OFETReg\":\"Saturation\",\"PDI\":2.21717,\"ProcEnv\":\"Air\",\"RR\":0.96,\"RTMob\":0.025,\"Sfull\":null,\"SolAggFrac\":null,\"SolEB\":null,\"SolTreat\":null,\"Solv1\":\"CHCl3\",\"Solv2\":null,\"SonicationTime\":0,\"Space010\":null,\"Space100\":null,\"SpinRate\":1500,\"SpinTime\":60,\"SprayTime\":null,\"SubsTreat\":null,\"UVResTime\":null,\"UVTime\":null,\"VFSolv1\":null,\"VT\":null,\"Vds\":-80,\"Year\":2015,\"Sonicated\":0},{\"null\":3,\"AgeTemp\":null,\"AgeTime\":null,\"AnnCool\":null,\"AnnTemp\":null,\"AnnTime\":null,\"Author\":\"Wang\",\"BP\":null,\"BladeH\":null,\"BladeVel\":null,\"CastCond\":null,\"ChanLen\":50,\"ChanWid\":2,\"ChannelConfig\":null,\"CoolResTime\":null,\"Cooling\":null,\"CorrLen\":null,\"DOI\":\"10.1021\\/acsnano.5b02582\",\"Depo\":\"SPUN\",\"DevName\":null,\"DipRate\":null,\"DropSize\":null,\"ElectrodeMat\":null,\"EvapCont\":null,\"FibLen\":null,\"FilmAggFrac\":null,\"FilmEB\":null,\"FilmRange\":null,\"FilmThick\":null,\"GateMate\":null,\"GrainSize100\":null,\"HR\":null,\"Herman\":null,\"InitConc\":5,\"MFFlowRate\":null,\"Mn\":19.8,\"MobEnv\":\"N2\",\"Mw\":43.9,\"Notes\":null,\"NozzleDis\":null,\"OFETConfig\":\"BGBC\",\"OFETReg\":\"Saturation\",\"PDI\":2.21717,\"ProcEnv\":\"Air\",\"RR\":0.96,\"RTMob\":0.05,\"Sfull\":null,\"SolAggFrac\":null,\"SolEB\":null,\"SolTreat\":null,\"Solv1\":\"CHCl3\",\"Solv2\":null,\"SonicationTime\":0,\"Space010\":null,\"Space100\":null,\"SpinRate\":1500,\"SpinTime\":60,\"SprayTime\":null,\"SubsTreat\":null,\"UVResTime\":null,\"UVTime\":6,\"VFSolv1\":null,\"VT\":null,\"Vds\":-80,\"Year\":2015,\"Sonicated\":0},{\"null\":4,\"AgeTemp\":null,\"AgeTime\":null,\"AnnCool\":null,\"AnnTemp\":null,\"AnnTime\":null,\"Author\":\"Wang\",\"BP\":null,\"BladeH\":null,\"BladeVel\":null,\"CastCond\":null,\"ChanLen\":50,\"ChanWid\":2,\"ChannelConfig\":null,\"CoolResTime\":null,\"Cooling\":30,\"CorrLen\":236,\"DOI\":\"10.1021\\/acsnano.5b02582\",\"Depo\":\"SPUN\",\"DevName\":null,\"DipRate\":null,\"DropSize\":null,\"ElectrodeMat\":null,\"EvapCont\":null,\"FibLen\":null,\"FilmAggFrac\":null,\"FilmEB\":0.10316,\"FilmRange\":null,\"FilmThick\":null,\"GateMate\":null,\"GrainSize100\":null,\"HR\":null,\"Herman\":-0.015,\"InitConc\":5,\"MFFlowRate\":null,\"Mn\":19.8,\"MobEnv\":\"N2\",\"Mw\":43.9,\"Notes\":null,\"NozzleDis\":null,\"OFETConfig\":\"BGBC\",\"OFETReg\":\"Saturation\",\"PDI\":2.21717,\"ProcEnv\":\"Air\",\"RR\":0.96,\"RTMob\":0.065,\"Sfull\":0.34,\"SolAggFrac\":null,\"SolEB\":null,\"SolTreat\":null,\"Solv1\":\"CHCl3\",\"Solv2\":null,\"SonicationTime\":0,\"Space010\":3.84,\"Space100\":null,\"SpinRate\":1500,\"SpinTime\":60,\"SprayTime\":null,\"SubsTreat\":null,\"UVResTime\":null,\"UVTime\":6,\"VFSolv1\":null,\"VT\":null,\"Vds\":-80,\"Year\":2015,\"Sonicated\":0},{\"null\":5,\"AgeTemp\":null,\"AgeTime\":null,\"AnnCool\":null,\"AnnTemp\":null,\"AnnTime\":null,\"Author\":\"Wang\",\"BP\":null,\"BladeH\":null,\"BladeVel\":null,\"CastCond\":null,\"ChanLen\":50,\"ChanWid\":2,\"ChannelConfig\":null,\"CoolResTime\":1,\"Cooling\":null,\"CorrLen\":null,\"DOI\":\"10.1021\\/acsnano.5b02582\",\"Depo\":\"SPUN\",\"DevName\":null,\"DipRate\":null,\"DropSize\":null,\"ElectrodeMat\":null,\"EvapCont\":null,\"FibLen\":null,\"FilmAggFrac\":null,\"FilmEB\":null,\"FilmRange\":null,\"FilmThick\":null,\"GateMate\":null,\"GrainSize100\":null,\"HR\":null,\"Herman\":null,\"InitConc\":5,\"MFFlowRate\":0.25,\"Mn\":19.8,\"MobEnv\":\"N2\",\"Mw\":43.9,\"Notes\":null,\"NozzleDis\":null,\"OFETConfig\":\"BGBC\",\"OFETReg\":\"Saturation\",\"PDI\":2.21717,\"ProcEnv\":\"Air\",\"RR\":0.96,\"RTMob\":0.02,\"Sfull\":null,\"SolAggFrac\":null,\"SolEB\":null,\"SolTreat\":null,\"Solv1\":\"CHCl3\",\"Solv2\":null,\"SonicationTime\":0,\"Space010\":null,\"Space100\":null,\"SpinRate\":1500,\"SpinTime\":60,\"SprayTime\":null,\"SubsTreat\":null,\"UVResTime\":null,\"UVTime\":null,\"VFSolv1\":null,\"VT\":null,\"Vds\":-80,\"Year\":2015,\"Sonicated\":0},{\"null\":6,\"AgeTemp\":null,\"AgeTime\":null,\"AnnCool\":null,\"AnnTemp\":null,\"AnnTime\":null,\"Author\":\"Wang\",\"BP\":null,\"BladeH\":null,\"BladeVel\":null,\"CastCond\":null,\"ChanLen\":50,\"ChanWid\":2,\"ChannelConfig\":null,\"CoolResTime\":null,\"Cooling\":null,\"CorrLen\":null,\"DOI\":\"10.1021\\/acsnano.5b02582\",\"Depo\":\"SPUN\",\"DevName\":null,\"DipRate\":null,\"DropSize\":null,\"ElectrodeMat\":null,\"EvapCont\":null,\"FibLen\":null,\"FilmAggFrac\":null,\"FilmEB\":null,\"FilmRange\":null,\"FilmThick\":null,\"GateMate\":null,\"GrainSize100\":null,\"HR\":null,\"Herman\":null,\"InitConc\":5,\"MFFlowRate\":0.25,\"Mn\":19.8,\"MobEnv\":\"N2\",\"Mw\":43.9,\"Notes\":null,\"NozzleDis\":null,\"OFETConfig\":\"BGBC\",\"OFETReg\":\"Saturation\",\"PDI\":2.21717,\"ProcEnv\":\"Air\",\"RR\":0.96,\"RTMob\":0.11,\"Sfull\":null,\"SolAggFrac\":null,\"SolEB\":null,\"SolTreat\":null,\"Solv1\":\"CHCl3\",\"Solv2\":null,\"SonicationTime\":0,\"Space010\":null,\"Space100\":null,\"SpinRate\":1500,\"SpinTime\":60,\"SprayTime\":null,\"SubsTreat\":null,\"UVResTime\":15,\"UVTime\":null,\"VFSolv1\":null,\"VT\":null,\"Vds\":-80,\"Year\":2015,\"Sonicated\":0},{\"null\":7,\"AgeTemp\":null,\"AgeTime\":null,\"AnnCool\":null,\"AnnTemp\":null,\"AnnTime\":null,\"Author\":\"Wang\",\"BP\":null,\"BladeH\":null,\"BladeVel\":null,\"CastCond\":null,\"ChanLen\":50,\"ChanWid\":2,\"ChannelConfig\":null,\"CoolResTime\":1,\"Cooling\":null,\"CorrLen\":504,\"DOI\":\"10.1021\\/acsnano.5b02582\",\"Depo\":\"SPUN\",\"DevName\":null,\"DipRate\":null,\"DropSize\":null,\"ElectrodeMat\":null,\"EvapCont\":null,\"FibLen\":null,\"FilmAggFrac\":null,\"FilmEB\":0.0689,\"FilmRange\":null,\"FilmThick\":null,\"GateMate\":null,\"GrainSize100\":null,\"HR\":null,\"Herman\":0.022,\"InitConc\":5,\"MFFlowRate\":0.1,\"Mn\":19.8,\"MobEnv\":\"N2\",\"Mw\":43.9,\"Notes\":null,\"NozzleDis\":null,\"OFETConfig\":\"BGBC\",\"OFETReg\":\"Saturation\",\"PDI\":2.21717,\"ProcEnv\":\"Air\",\"RR\":0.96,\"RTMob\":0.09,\"Sfull\":0.26,\"SolAggFrac\":null,\"SolEB\":null,\"SolTreat\":null,\"Solv1\":\"CHCl3\",\"Solv2\":null,\"SonicationTime\":0,\"Space010\":3.79,\"Space100\":null,\"SpinRate\":1500,\"SpinTime\":60,\"SprayTime\":null,\"SubsTreat\":null,\"UVResTime\":15,\"UVTime\":null,\"VFSolv1\":null,\"VT\":null,\"Vds\":-80,\"Year\":2015,\"Sonicated\":0},{\"null\":8,\"AgeTemp\":null,\"AgeTime\":null,\"AnnCool\":null,\"AnnTemp\":null,\"AnnTime\":null,\"Author\":\"Wang\",\"BP\":null,\"BladeH\":null,\"BladeVel\":null,\"CastCond\":null,\"ChanLen\":50,\"ChanWid\":2,\"ChannelConfig\":null,\"CoolResTime\":1,\"Cooling\":null,\"CorrLen\":904,\"DOI\":\"10.1021\\/acsnano.5b02582\",\"Depo\":\"SPUN\",\"DevName\":null,\"DipRate\":null,\"DropSize\":null,\"ElectrodeMat\":null,\"EvapCont\":null,\"FibLen\":null,\"FilmAggFrac\":null,\"FilmEB\":0.0256,\"FilmRange\":null,\"FilmThick\":null,\"GateMate\":null,\"GrainSize100\":null,\"HR\":null,\"Herman\":0.2,\"InitConc\":5,\"MFFlowRate\":0.25,\"Mn\":19.8,\"MobEnv\":\"N2\",\"Mw\":43.9,\"Notes\":null,\"NozzleDis\":null,\"OFETConfig\":\"BGBC\",\"OFETReg\":\"Saturation\",\"PDI\":2.21717,\"ProcEnv\":\"Air\",\"RR\":0.96,\"RTMob\":0.16,\"Sfull\":0.81,\"SolAggFrac\":null,\"SolEB\":null,\"SolTreat\":null,\"Solv1\":\"CHCl3\",\"Solv2\":null,\"SonicationTime\":0,\"Space010\":3.71,\"Space100\":null,\"SpinRate\":1500,\"SpinTime\":60,\"SprayTime\":null,\"SubsTreat\":null,\"UVResTime\":15,\"UVTime\":null,\"VFSolv1\":null,\"VT\":null,\"Vds\":-80,\"Year\":2015,\"Sonicated\":0},{\"null\":9,\"AgeTemp\":null,\"AgeTime\":null,\"AnnCool\":null,\"AnnTemp\":null,\"AnnTime\":null,\"Author\":\"Wang\",\"BP\":null,\"BladeH\":null,\"BladeVel\":null,\"CastCond\":null,\"ChanLen\":50,\"ChanWid\":2,\"ChannelConfig\":null,\"CoolResTime\":1,\"Cooling\":null,\"CorrLen\":246,\"DOI\":\"10.1021\\/acsnano.5b02582\",\"Depo\":\"SPUN\",\"DevName\":null,\"DipRate\":null,\"DropSize\":null,\"ElectrodeMat\":null,\"EvapCont\":null,\"FibLen\":null,\"FilmAggFrac\":null,\"FilmEB\":0.0689,\"FilmRange\":null,\"FilmThick\":null,\"GateMate\":null,\"GrainSize100\":null,\"HR\":null,\"Herman\":0.08,\"InitConc\":5,\"MFFlowRate\":0.6,\"Mn\":19.8,\"MobEnv\":\"N2\",\"Mw\":43.9,\"Notes\":null,\"NozzleDis\":null,\"OFETConfig\":\"BGBC\",\"OFETReg\":\"Saturation\",\"PDI\":2.21717,\"ProcEnv\":\"Air\",\"RR\":0.96,\"RTMob\":0.12,\"Sfull\":0.44,\"SolAggFrac\":null,\"SolEB\":null,\"SolTreat\":null,\"Solv1\":\"CHCl3\",\"Solv2\":null,\"SonicationTime\":0,\"Space010\":3.76,\"Space100\":null,\"SpinRate\":1500,\"SpinTime\":60,\"SprayTime\":null,\"SubsTreat\":null,\"UVResTime\":15,\"UVTime\":null,\"VFSolv1\":null,\"VT\":null,\"Vds\":-80,\"Year\":2015,\"Sonicated\":0}], [{\"type\": \"Integer\", \"field\": null}, {\"field\": \"AgeTemp\"}, {\"field\": \"AgeTime\"}, {\"field\": \"AnnCool\"}, {\"field\": \"AnnTemp\"}, {\"field\": \"AnnTime\"}, {\"field\": \"Author\"}, {\"field\": \"BP\"}, {\"field\": \"BladeH\"}, {\"field\": \"BladeVel\"}, {\"field\": \"CastCond\"}, {\"field\": \"ChanLen\"}, {\"field\": \"ChanWid\"}, {\"field\": \"ChannelConfig\"}, {\"field\": \"CoolResTime\"}, {\"field\": \"Cooling\"}, {\"field\": \"CorrLen\"}, {\"field\": \"DOI\"}, {\"field\": \"Depo\"}, {\"field\": \"DevName\"}, {\"field\": \"DipRate\"}, {\"field\": \"DropSize\"}, {\"field\": \"ElectrodeMat\"}, {\"field\": \"EvapCont\"}, {\"field\": \"FibLen\"}, {\"field\": \"FilmAggFrac\"}, {\"field\": \"FilmEB\"}, {\"field\": \"FilmRange\"}, {\"field\": \"FilmThick\"}, {\"field\": \"GateMate\"}, {\"field\": \"GrainSize100\"}, {\"field\": \"HR\"}, {\"field\": \"Herman\"}, {\"field\": \"InitConc\"}, {\"field\": \"MFFlowRate\"}, {\"field\": \"Mn\"}, {\"field\": \"MobEnv\"}, {\"field\": \"Mw\"}, {\"field\": \"Notes\"}, {\"field\": \"NozzleDis\"}, {\"field\": \"OFETConfig\"}, {\"field\": \"OFETReg\"}, {\"field\": \"PDI\"}, {\"field\": \"ProcEnv\"}, {\"field\": \"RR\"}, {\"field\": \"RTMob\"}, {\"field\": \"Sfull\"}, {\"field\": \"SolAggFrac\"}, {\"field\": \"SolEB\"}, {\"field\": \"SolTreat\"}, {\"field\": \"Solv1\"}, {\"field\": \"Solv2\"}, {\"field\": \"SonicationTime\"}, {\"field\": \"Space010\"}, {\"field\": \"Space100\"}, {\"field\": \"SpinRate\"}, {\"field\": \"SpinTime\"}, {\"field\": \"SprayTime\"}, {\"field\": \"SubsTreat\"}, {\"field\": \"UVResTime\"}, {\"field\": \"UVTime\"}, {\"field\": \"VFSolv1\"}, {\"field\": \"VT\"}, {\"field\": \"Vds\"}, {\"field\": \"Year\"}, {\"field\": \"Sonicated\"}]);\n",
       "            grid.initialize_slick_grid({\"forceFitColumns\": false, \"defaultColumnWidth\": 80});\n",
       "        });\n",
       "    });\n",
       "});\n"
      ]
     },
     "metadata": {},
     "output_type": "display_data"
    }
   ],
   "source": [
    "qgrid.show_grid(df,grid_options={'forceFitColumns':False, 'defaultColumnWidth':80})"
   ]
  },
  {
   "cell_type": "code",
   "execution_count": 4,
   "metadata": {
    "collapsed": false
   },
   "outputs": [
    {
     "data": {
      "text/plain": [
       "['10.1021/am506546ki',\n",
       " '10.1021/acsami.6b02216',\n",
       " '10.1002/adfm.201403708 ',\n",
       " '10.1021/acs/chemmater.6b01163',\n",
       " '10.1021/acsnano.5b02582']"
      ]
     },
     "execution_count": 4,
     "metadata": {},
     "output_type": "execute_result"
    }
   ],
   "source": [
    "df['DOI'].unique().tolist()"
   ]
  },
  {
   "cell_type": "code",
   "execution_count": 5,
   "metadata": {
    "collapsed": false
   },
   "outputs": [
    {
     "data": {
      "text/html": [
       "<script type=\"text/javascript\">\n",
       "if ($(\"#dg-css\").length == 0){\n",
       "    $(\"head\").append([\n",
       "        \"<link href='/nbextensions/qgridjs/lib/slick.grid.css' rel='stylesheet'>\",\n",
       "        \"<link href='/nbextensions/qgridjs/lib/slick-default-theme.css' rel='stylesheet'>\",\n",
       "        \"<link href='http://cdnjs.cloudflare.com/ajax/libs/jqueryui/1.10.4/css/jquery-ui.min.css' rel='stylesheet'>\",\n",
       "        \"<link id='dg-css' href='/nbextensions/qgridjs/qgrid.css' rel='stylesheet'>\"\n",
       "    ]);\n",
       "}\n",
       "</script>\n",
       "<div class='q-grid-container'>\n",
       "<div id='b1dd7613-db51-4cd6-9538-79e7d3a06db9' class='q-grid'></div>\n",
       "</div>"
      ]
     },
     "metadata": {},
     "output_type": "display_data"
    },
    {
     "data": {
      "application/javascript": [
       "var path_dictionary = {\n",
       "    jquery_drag: \"/nbextensions/qgridjs/lib/jquery.event.drag-2.2\",\n",
       "    slick_core: \"/nbextensions/qgridjs/lib/slick.core.2.2\",\n",
       "    slick_data_view: \"/nbextensions/qgridjs/lib/slick.dataview.2.2\",\n",
       "    slick_check_box_column: \"/nbextensions/qgridjs/lib/slick.checkboxselectcolumn\",\n",
       "    slick_row_selection_model: \"/nbextensions/qgridjs/lib/slick.rowselectionmodel\",\n",
       "    slick_grid: \"/nbextensions/qgridjs/lib/slick.grid.2.2\",\n",
       "    data_grid: \"/nbextensions/qgridjs/qgrid\",\n",
       "    date_filter: \"/nbextensions/qgridjs/qgrid.datefilter\",\n",
       "    slider_filter: \"/nbextensions/qgridjs/qgrid.sliderfilter\",\n",
       "    text_filter: \"/nbextensions/qgridjs/qgrid.textfilter\",\n",
       "    filter_base:  \"/nbextensions/qgridjs/qgrid.filterbase\",\n",
       "    handlebars: \"https://cdnjs.cloudflare.com/ajax/libs/handlebars.js/2.0.0/handlebars.min\"\n",
       "};\n",
       "\n",
       "var existing_config = require.s.contexts._.config;\n",
       "if (!existing_config.paths['underscore']){\n",
       "    path_dictionary['underscore'] = \"https://cdnjs.cloudflare.com/ajax/libs/underscore.js/1.7.0/underscore-min\";\n",
       "}\n",
       "\n",
       "if (!existing_config.paths['moment']){\n",
       "    path_dictionary['moment'] = \"https://cdnjs.cloudflare.com/ajax/libs/moment.js/2.8.3/moment.min\";\n",
       "}\n",
       "\n",
       "if (!existing_config.paths['jqueryui']){\n",
       "    path_dictionary['jqueryui'] = \"https://ajax.googleapis.com/ajax/libs/jqueryui/1.11.1/jquery-ui.min\";\n",
       "}\n",
       "\n",
       "require.config({\n",
       "    paths: path_dictionary\n",
       "});\n",
       "\n",
       "if (typeof jQuery === 'function') {\n",
       "    define('jquery', function() { return jQuery; });\n",
       "}\n",
       "\n",
       "require([\n",
       "    'jquery',\n",
       "    'jquery_drag',\n",
       "    'slick_core',\n",
       "    'slick_data_view'\n",
       "],\n",
       "function($){\n",
       "    $('#b1dd7613-db51-4cd6-9538-79e7d3a06db9').closest('.rendered_html').removeClass('rendered_html');\n",
       "    require([\n",
       "      'slick_check_box_column',\n",
       "      'slick_row_selection_model',\n",
       "      'slick_grid'\n",
       "    ], function(){\n",
       "        require([\"data_grid\"], function(dgrid){\n",
       "            var grid = new dgrid.QGrid('#b1dd7613-db51-4cd6-9538-79e7d3a06db9', [{\"null\":4,\"AgeTemp\":null,\"AgeTime\":null,\"AnnCool\":null,\"AnnTemp\":120,\"AnnTime\":0.16667,\"Author\":\"Chang\",\"BP\":null,\"BladeH\":null,\"BladeVel\":0.5,\"CastCond\":null,\"ChanLen\":50,\"ChanWid\":2,\"ChannelConfig\":null,\"CoolResTime\":null,\"Cooling\":null,\"CorrLen\":421.1082,\"DOI\":\"10.1021\\/acsami.6b02216\",\"Depo\":\"BLADE\",\"DevName\":null,\"DipRate\":null,\"DropSize\":null,\"ElectrodeMat\":null,\"EvapCont\":null,\"FibLen\":null,\"FilmAggFrac\":null,\"FilmEB\":0.0768,\"FilmRange\":null,\"FilmThick\":null,\"GateMate\":null,\"GrainSize100\":90.7,\"HR\":null,\"Herman\":null,\"InitConc\":5,\"MFFlowRate\":null,\"Mn\":39.13043,\"MobEnv\":\"N2\",\"Mw\":90,\"Notes\":null,\"NozzleDis\":null,\"OFETConfig\":\"BGBC\",\"OFETReg\":\"Linear\",\"PDI\":2.3,\"ProcEnv\":\"Air\",\"RR\":0.96,\"RTMob\":0.089,\"Sfull\":0.33663,\"SolAggFrac\":null,\"SolEB\":null,\"SolTreat\":null,\"Solv1\":\"CHCl3\",\"Solv2\":null,\"SonicationTime\":0,\"Space010\":null,\"Space100\":16.74,\"SpinRate\":null,\"SpinTime\":null,\"SprayTime\":null,\"SubsTreat\":null,\"UVResTime\":null,\"UVTime\":8,\"VFSolv1\":null,\"VT\":null,\"Vds\":-3,\"Year\":2016,\"Sonicated\":0},{\"null\":5,\"AgeTemp\":null,\"AgeTime\":null,\"AnnCool\":null,\"AnnTemp\":120,\"AnnTime\":0.16667,\"Author\":\"Chang\",\"BP\":null,\"BladeH\":null,\"BladeVel\":1,\"CastCond\":null,\"ChanLen\":50,\"ChanWid\":2,\"ChannelConfig\":null,\"CoolResTime\":null,\"Cooling\":null,\"CorrLen\":211.2126,\"DOI\":\"10.1021\\/acsami.6b02216\",\"Depo\":\"BLADE\",\"DevName\":null,\"DipRate\":null,\"DropSize\":null,\"ElectrodeMat\":null,\"EvapCont\":null,\"FibLen\":null,\"FilmAggFrac\":null,\"FilmEB\":0.068,\"FilmRange\":null,\"FilmThick\":null,\"GateMate\":null,\"GrainSize100\":88,\"HR\":null,\"Herman\":null,\"InitConc\":5,\"MFFlowRate\":null,\"Mn\":39.13043,\"MobEnv\":\"N2\",\"Mw\":90,\"Notes\":null,\"NozzleDis\":null,\"OFETConfig\":\"BGBC\",\"OFETReg\":\"Linear\",\"PDI\":2.3,\"ProcEnv\":\"Air\",\"RR\":0.96,\"RTMob\":0.129,\"Sfull\":0.81163,\"SolAggFrac\":null,\"SolEB\":null,\"SolTreat\":null,\"Solv1\":\"CHCl3\",\"Solv2\":null,\"SonicationTime\":0,\"Space010\":null,\"Space100\":17.65,\"SpinRate\":null,\"SpinTime\":null,\"SprayTime\":null,\"SubsTreat\":null,\"UVResTime\":null,\"UVTime\":8,\"VFSolv1\":null,\"VT\":null,\"Vds\":-3,\"Year\":2016,\"Sonicated\":0},{\"null\":6,\"AgeTemp\":null,\"AgeTime\":null,\"AnnCool\":null,\"AnnTemp\":120,\"AnnTime\":0.16667,\"Author\":\"Chang\",\"BP\":null,\"BladeH\":null,\"BladeVel\":2,\"CastCond\":null,\"ChanLen\":50,\"ChanWid\":2,\"ChannelConfig\":null,\"CoolResTime\":null,\"Cooling\":null,\"CorrLen\":262.5311,\"DOI\":\"10.1021\\/acsami.6b02216\",\"Depo\":\"BLADE\",\"DevName\":null,\"DipRate\":null,\"DropSize\":null,\"ElectrodeMat\":null,\"EvapCont\":null,\"FibLen\":null,\"FilmAggFrac\":null,\"FilmEB\":0.0827,\"FilmRange\":null,\"FilmThick\":null,\"GateMate\":null,\"GrainSize100\":87.5,\"HR\":null,\"Herman\":null,\"InitConc\":5,\"MFFlowRate\":null,\"Mn\":39.13043,\"MobEnv\":\"N2\",\"Mw\":90,\"Notes\":null,\"NozzleDis\":null,\"OFETConfig\":\"BGBC\",\"OFETReg\":\"Linear\",\"PDI\":2.3,\"ProcEnv\":\"Air\",\"RR\":0.96,\"RTMob\":0.202,\"Sfull\":0.85375,\"SolAggFrac\":null,\"SolEB\":null,\"SolTreat\":null,\"Solv1\":\"CHCl3\",\"Solv2\":null,\"SonicationTime\":0,\"Space010\":null,\"Space100\":17.17,\"SpinRate\":null,\"SpinTime\":null,\"SprayTime\":null,\"SubsTreat\":null,\"UVResTime\":null,\"UVTime\":8,\"VFSolv1\":null,\"VT\":null,\"Vds\":-3,\"Year\":2016,\"Sonicated\":0},{\"null\":7,\"AgeTemp\":null,\"AgeTime\":null,\"AnnCool\":null,\"AnnTemp\":120,\"AnnTime\":0.16667,\"Author\":\"Chang\",\"BP\":null,\"BladeH\":null,\"BladeVel\":4,\"CastCond\":null,\"ChanLen\":50,\"ChanWid\":2,\"ChannelConfig\":null,\"CoolResTime\":null,\"Cooling\":null,\"CorrLen\":516.4953,\"DOI\":\"10.1021\\/acsami.6b02216\",\"Depo\":\"BLADE\",\"DevName\":null,\"DipRate\":null,\"DropSize\":null,\"ElectrodeMat\":null,\"EvapCont\":null,\"FibLen\":null,\"FilmAggFrac\":null,\"FilmEB\":0.1097,\"FilmRange\":null,\"FilmThick\":null,\"GateMate\":null,\"GrainSize100\":78,\"HR\":null,\"Herman\":null,\"InitConc\":5,\"MFFlowRate\":null,\"Mn\":39.13043,\"MobEnv\":\"N2\",\"Mw\":90,\"Notes\":null,\"NozzleDis\":null,\"OFETConfig\":\"BGBC\",\"OFETReg\":\"Linear\",\"PDI\":2.3,\"ProcEnv\":\"Air\",\"RR\":0.96,\"RTMob\":0.106,\"Sfull\":0.64391,\"SolAggFrac\":null,\"SolEB\":null,\"SolTreat\":null,\"Solv1\":\"CHCl3\",\"Solv2\":null,\"SonicationTime\":0,\"Space010\":null,\"Space100\":16.6,\"SpinRate\":null,\"SpinTime\":null,\"SprayTime\":null,\"SubsTreat\":null,\"UVResTime\":null,\"UVTime\":8,\"VFSolv1\":null,\"VT\":null,\"Vds\":-3,\"Year\":2016,\"Sonicated\":0},{\"null\":1,\"AgeTemp\":null,\"AgeTime\":null,\"AnnCool\":null,\"AnnTemp\":null,\"AnnTime\":null,\"Author\":\"Choi\",\"BP\":null,\"BladeH\":null,\"BladeVel\":null,\"CastCond\":null,\"ChanLen\":50,\"ChanWid\":2,\"ChannelConfig\":null,\"CoolResTime\":null,\"Cooling\":null,\"CorrLen\":266.644,\"DOI\":\"10.1002\\/adfm.201403708 \",\"Depo\":\"SPUN\",\"DevName\":null,\"DipRate\":null,\"DropSize\":null,\"ElectrodeMat\":\"Au\",\"EvapCont\":null,\"FibLen\":null,\"FilmAggFrac\":59.46832,\"FilmEB\":0.09381,\"FilmRange\":null,\"FilmThick\":null,\"GateMate\":null,\"GrainSize100\":72.3,\"HR\":null,\"Herman\":null,\"InitConc\":5,\"MFFlowRate\":null,\"Mn\":39.13043,\"MobEnv\":\"N2\",\"Mw\":90,\"Notes\":null,\"NozzleDis\":null,\"OFETConfig\":\"BGBC\",\"OFETReg\":\"Linear\",\"PDI\":2.3,\"ProcEnv\":\"Air\",\"RR\":0.96,\"RTMob\":0.03522,\"Sfull\":0.08327,\"SolAggFrac\":null,\"SolEB\":null,\"SolTreat\":null,\"Solv1\":\"CHCl3\",\"Solv2\":null,\"SonicationTime\":2,\"Space010\":null,\"Space100\":16.15,\"SpinRate\":1500,\"SpinTime\":60,\"SprayTime\":null,\"SubsTreat\":null,\"UVResTime\":null,\"UVTime\":null,\"VFSolv1\":null,\"VT\":null,\"Vds\":-3,\"Year\":2014,\"Sonicated\":1},{\"null\":2,\"AgeTemp\":null,\"AgeTime\":null,\"AnnCool\":null,\"AnnTemp\":null,\"AnnTime\":null,\"Author\":\"Choi\",\"BP\":null,\"BladeH\":null,\"BladeVel\":null,\"CastCond\":null,\"ChanLen\":50,\"ChanWid\":2,\"ChannelConfig\":null,\"CoolResTime\":null,\"Cooling\":null,\"CorrLen\":260.8664,\"DOI\":\"10.1002\\/adfm.201403708 \",\"Depo\":\"SPUN\",\"DevName\":null,\"DipRate\":null,\"DropSize\":null,\"ElectrodeMat\":\"Au\",\"EvapCont\":null,\"FibLen\":null,\"FilmAggFrac\":60.76073,\"FilmEB\":0.07782,\"FilmRange\":null,\"FilmThick\":null,\"GateMate\":null,\"GrainSize100\":76,\"HR\":null,\"Herman\":null,\"InitConc\":5,\"MFFlowRate\":null,\"Mn\":39.13043,\"MobEnv\":\"N2\",\"Mw\":90,\"Notes\":null,\"NozzleDis\":null,\"OFETConfig\":\"BGBC\",\"OFETReg\":\"Linear\",\"PDI\":2.3,\"ProcEnv\":\"Air\",\"RR\":0.96,\"RTMob\":0.05182,\"Sfull\":0.14665,\"SolAggFrac\":null,\"SolEB\":null,\"SolTreat\":null,\"Solv1\":\"CHCl3\",\"Solv2\":\"2-MP\",\"SonicationTime\":2,\"Space010\":null,\"Space100\":16.11,\"SpinRate\":1500,\"SpinTime\":60,\"SprayTime\":null,\"SubsTreat\":null,\"UVResTime\":null,\"UVTime\":null,\"VFSolv1\":0.95,\"VT\":null,\"Vds\":-3,\"Year\":2014,\"Sonicated\":1},{\"null\":3,\"AgeTemp\":null,\"AgeTime\":null,\"AnnCool\":null,\"AnnTemp\":null,\"AnnTime\":null,\"Author\":\"Choi\",\"BP\":null,\"BladeH\":null,\"BladeVel\":null,\"CastCond\":null,\"ChanLen\":50,\"ChanWid\":2,\"ChannelConfig\":null,\"CoolResTime\":null,\"Cooling\":null,\"CorrLen\":327.9002,\"DOI\":\"10.1002\\/adfm.201403708 \",\"Depo\":\"SPUN\",\"DevName\":null,\"DipRate\":null,\"DropSize\":null,\"ElectrodeMat\":\"Au\",\"EvapCont\":null,\"FibLen\":null,\"FilmAggFrac\":63.94435,\"FilmEB\":0.05989,\"FilmRange\":null,\"FilmThick\":null,\"GateMate\":null,\"GrainSize100\":82,\"HR\":null,\"Herman\":null,\"InitConc\":5,\"MFFlowRate\":null,\"Mn\":39.13043,\"MobEnv\":\"N2\",\"Mw\":90,\"Notes\":null,\"NozzleDis\":null,\"OFETConfig\":\"BGBC\",\"OFETReg\":\"Linear\",\"PDI\":2.3,\"ProcEnv\":\"Air\",\"RR\":0.96,\"RTMob\":0.05468,\"Sfull\":0.08646,\"SolAggFrac\":null,\"SolEB\":null,\"SolTreat\":null,\"Solv1\":\"CHCl3\",\"Solv2\":\"2-MP\",\"SonicationTime\":2,\"Space010\":null,\"Space100\":16.15,\"SpinRate\":1500,\"SpinTime\":60,\"SprayTime\":null,\"SubsTreat\":null,\"UVResTime\":null,\"UVTime\":null,\"VFSolv1\":0.9,\"VT\":null,\"Vds\":-3,\"Year\":2014,\"Sonicated\":1},{\"null\":4,\"AgeTemp\":null,\"AgeTime\":null,\"AnnCool\":null,\"AnnTemp\":null,\"AnnTime\":null,\"Author\":\"Choi\",\"BP\":null,\"BladeH\":null,\"BladeVel\":null,\"CastCond\":null,\"ChanLen\":50,\"ChanWid\":2,\"ChannelConfig\":null,\"CoolResTime\":null,\"Cooling\":null,\"CorrLen\":372.2298,\"DOI\":\"10.1002\\/adfm.201403708 \",\"Depo\":\"SPUN\",\"DevName\":null,\"DipRate\":null,\"DropSize\":null,\"ElectrodeMat\":\"Au\",\"EvapCont\":null,\"FibLen\":null,\"FilmAggFrac\":64.39465,\"FilmEB\":0.05626,\"FilmRange\":null,\"FilmThick\":null,\"GateMate\":null,\"GrainSize100\":90.3,\"HR\":null,\"Herman\":null,\"InitConc\":5,\"MFFlowRate\":null,\"Mn\":39.13043,\"MobEnv\":\"N2\",\"Mw\":90,\"Notes\":null,\"NozzleDis\":null,\"OFETConfig\":\"BGBC\",\"OFETReg\":\"Linear\",\"PDI\":2.3,\"ProcEnv\":\"Air\",\"RR\":0.96,\"RTMob\":0.10343,\"Sfull\":0.25994,\"SolAggFrac\":null,\"SolEB\":null,\"SolTreat\":null,\"Solv1\":\"CHCl3\",\"Solv2\":\"2-MP\",\"SonicationTime\":2,\"Space010\":null,\"Space100\":16.15,\"SpinRate\":1500,\"SpinTime\":60,\"SprayTime\":null,\"SubsTreat\":null,\"UVResTime\":null,\"UVTime\":null,\"VFSolv1\":0.85,\"VT\":null,\"Vds\":-3,\"Year\":2014,\"Sonicated\":1},{\"null\":5,\"AgeTemp\":null,\"AgeTime\":null,\"AnnCool\":null,\"AnnTemp\":null,\"AnnTime\":null,\"Author\":\"Choi\",\"BP\":null,\"BladeH\":null,\"BladeVel\":null,\"CastCond\":null,\"ChanLen\":50,\"ChanWid\":2,\"ChannelConfig\":null,\"CoolResTime\":null,\"Cooling\":null,\"CorrLen\":242.8569,\"DOI\":\"10.1002\\/adfm.201403708 \",\"Depo\":\"SPUN\",\"DevName\":null,\"DipRate\":null,\"DropSize\":null,\"ElectrodeMat\":\"Au\",\"EvapCont\":null,\"FibLen\":null,\"FilmAggFrac\":65.92195,\"FilmEB\":0.05082,\"FilmRange\":null,\"FilmThick\":null,\"GateMate\":null,\"GrainSize100\":84.9,\"HR\":null,\"Herman\":null,\"InitConc\":5,\"MFFlowRate\":null,\"Mn\":39.13043,\"MobEnv\":\"N2\",\"Mw\":90,\"Notes\":null,\"NozzleDis\":null,\"OFETConfig\":\"BGBC\",\"OFETReg\":\"Linear\",\"PDI\":2.3,\"ProcEnv\":\"Air\",\"RR\":0.96,\"RTMob\":0.0539,\"Sfull\":0.21732,\"SolAggFrac\":null,\"SolEB\":null,\"SolTreat\":null,\"Solv1\":\"CHCl3\",\"Solv2\":\"2-MP\",\"SonicationTime\":2,\"Space010\":null,\"Space100\":15.99,\"SpinRate\":1500,\"SpinTime\":60,\"SprayTime\":null,\"SubsTreat\":null,\"UVResTime\":null,\"UVTime\":null,\"VFSolv1\":0.8,\"VT\":null,\"Vds\":-3,\"Year\":2014,\"Sonicated\":1},{\"null\":6,\"AgeTemp\":null,\"AgeTime\":null,\"AnnCool\":null,\"AnnTemp\":null,\"AnnTime\":null,\"Author\":\"Choi\",\"BP\":null,\"BladeH\":null,\"BladeVel\":null,\"CastCond\":null,\"ChanLen\":50,\"ChanWid\":2,\"ChannelConfig\":null,\"CoolResTime\":null,\"Cooling\":null,\"CorrLen\":296.9343,\"DOI\":\"10.1002\\/adfm.201403708 \",\"Depo\":\"SPUN\",\"DevName\":null,\"DipRate\":null,\"DropSize\":null,\"ElectrodeMat\":\"Au\",\"EvapCont\":null,\"FibLen\":null,\"FilmAggFrac\":65.50449,\"FilmEB\":0.04963,\"FilmRange\":null,\"FilmThick\":null,\"GateMate\":null,\"GrainSize100\":82.3,\"HR\":null,\"Herman\":null,\"InitConc\":5,\"MFFlowRate\":null,\"Mn\":39.13043,\"MobEnv\":\"N2\",\"Mw\":90,\"Notes\":null,\"NozzleDis\":null,\"OFETConfig\":\"BGBC\",\"OFETReg\":\"Linear\",\"PDI\":2.3,\"ProcEnv\":\"Air\",\"RR\":0.96,\"RTMob\":0.02093,\"Sfull\":0.15583,\"SolAggFrac\":null,\"SolEB\":null,\"SolTreat\":null,\"Solv1\":\"CHCl3\",\"Solv2\":\"2-MP\",\"SonicationTime\":2,\"Space010\":null,\"Space100\":15.99,\"SpinRate\":1500,\"SpinTime\":60,\"SprayTime\":null,\"SubsTreat\":null,\"UVResTime\":null,\"UVTime\":null,\"VFSolv1\":0.7,\"VT\":null,\"Vds\":-3,\"Year\":2014,\"Sonicated\":1},{\"null\":7,\"AgeTemp\":null,\"AgeTime\":null,\"AnnCool\":null,\"AnnTemp\":null,\"AnnTime\":null,\"Author\":\"Choi\",\"BP\":null,\"BladeH\":null,\"BladeVel\":null,\"CastCond\":null,\"ChanLen\":50,\"ChanWid\":2,\"ChannelConfig\":null,\"CoolResTime\":null,\"Cooling\":null,\"CorrLen\":242.4394,\"DOI\":\"10.1002\\/adfm.201403708 \",\"Depo\":\"SPUN\",\"DevName\":null,\"DipRate\":null,\"DropSize\":null,\"ElectrodeMat\":\"Au\",\"EvapCont\":null,\"FibLen\":null,\"FilmAggFrac\":66.07097,\"FilmEB\":0.04933,\"FilmRange\":null,\"FilmThick\":null,\"GateMate\":null,\"GrainSize100\":80.9,\"HR\":null,\"Herman\":null,\"InitConc\":5,\"MFFlowRate\":null,\"Mn\":39.13043,\"MobEnv\":\"N2\",\"Mw\":90,\"Notes\":null,\"NozzleDis\":null,\"OFETConfig\":\"BGBC\",\"OFETReg\":\"Linear\",\"PDI\":2.3,\"ProcEnv\":\"Air\",\"RR\":0.96,\"RTMob\":0.01123,\"Sfull\":0.15859,\"SolAggFrac\":null,\"SolEB\":null,\"SolTreat\":null,\"Solv1\":\"CHCl3\",\"Solv2\":\"2-MP\",\"SonicationTime\":2,\"Space010\":null,\"Space100\":15.9,\"SpinRate\":1500,\"SpinTime\":60,\"SprayTime\":null,\"SubsTreat\":null,\"UVResTime\":null,\"UVTime\":null,\"VFSolv1\":0.6,\"VT\":null,\"Vds\":-3,\"Year\":2014,\"Sonicated\":1},{\"null\":10,\"AgeTemp\":null,\"AgeTime\":null,\"AnnCool\":null,\"AnnTemp\":null,\"AnnTime\":null,\"Author\":\"Choi\",\"BP\":null,\"BladeH\":null,\"BladeVel\":null,\"CastCond\":null,\"ChanLen\":50,\"ChanWid\":2,\"ChannelConfig\":null,\"CoolResTime\":null,\"Cooling\":null,\"CorrLen\":385.7158,\"DOI\":\"10.1002\\/adfm.201403708 \",\"Depo\":\"SPUN\",\"DevName\":null,\"DipRate\":null,\"DropSize\":null,\"ElectrodeMat\":\"Au\",\"EvapCont\":null,\"FibLen\":null,\"FilmAggFrac\":56.91971,\"FilmEB\":0.12299,\"FilmRange\":null,\"FilmThick\":null,\"GateMate\":null,\"GrainSize100\":null,\"HR\":null,\"Herman\":null,\"InitConc\":5,\"MFFlowRate\":null,\"Mn\":39.13043,\"MobEnv\":\"N2\",\"Mw\":90,\"Notes\":null,\"NozzleDis\":null,\"OFETConfig\":\"BGBC\",\"OFETReg\":\"Linear\",\"PDI\":2.3,\"ProcEnv\":\"Air\",\"RR\":0.96,\"RTMob\":0.042,\"Sfull\":0.42865,\"SolAggFrac\":null,\"SolEB\":null,\"SolTreat\":null,\"Solv1\":\"CHCl3\",\"Solv2\":\"2-MP\",\"SonicationTime\":0,\"Space010\":null,\"Space100\":16.63,\"SpinRate\":1500,\"SpinTime\":60,\"SprayTime\":null,\"SubsTreat\":null,\"UVResTime\":null,\"UVTime\":null,\"VFSolv1\":0.85,\"VT\":null,\"Vds\":-3,\"Year\":2014,\"Sonicated\":0},{\"null\":11,\"AgeTemp\":null,\"AgeTime\":null,\"AnnCool\":null,\"AnnTemp\":null,\"AnnTime\":null,\"Author\":\"Choi\",\"BP\":null,\"BladeH\":null,\"BladeVel\":null,\"CastCond\":null,\"ChanLen\":50,\"ChanWid\":2,\"ChannelConfig\":null,\"CoolResTime\":null,\"Cooling\":null,\"CorrLen\":430.3374,\"DOI\":\"10.1002\\/adfm.201403708 \",\"Depo\":\"SPUN\",\"DevName\":null,\"DipRate\":null,\"DropSize\":null,\"ElectrodeMat\":\"Au\",\"EvapCont\":null,\"FibLen\":null,\"FilmAggFrac\":59.71129,\"FilmEB\":0.08657,\"FilmRange\":null,\"FilmThick\":null,\"GateMate\":null,\"GrainSize100\":null,\"HR\":null,\"Herman\":null,\"InitConc\":5,\"MFFlowRate\":null,\"Mn\":39.13043,\"MobEnv\":\"N2\",\"Mw\":90,\"Notes\":null,\"NozzleDis\":null,\"OFETConfig\":\"BGBC\",\"OFETReg\":\"Linear\",\"PDI\":2.3,\"ProcEnv\":\"Air\",\"RR\":0.96,\"RTMob\":0.0496,\"Sfull\":0.55495,\"SolAggFrac\":null,\"SolEB\":null,\"SolTreat\":null,\"Solv1\":\"CHCl3\",\"Solv2\":\"2-MP\",\"SonicationTime\":0,\"Space010\":null,\"Space100\":16.42,\"SpinRate\":1500,\"SpinTime\":60,\"SprayTime\":null,\"SubsTreat\":null,\"UVResTime\":null,\"UVTime\":null,\"VFSolv1\":0.8,\"VT\":null,\"Vds\":-3,\"Year\":2014,\"Sonicated\":0},{\"null\":12,\"AgeTemp\":null,\"AgeTime\":null,\"AnnCool\":null,\"AnnTemp\":null,\"AnnTime\":null,\"Author\":\"Choi\",\"BP\":null,\"BladeH\":null,\"BladeVel\":null,\"CastCond\":null,\"ChanLen\":50,\"ChanWid\":2,\"ChannelConfig\":null,\"CoolResTime\":null,\"Cooling\":null,\"CorrLen\":295.5888,\"DOI\":\"10.1002\\/adfm.201403708 \",\"Depo\":\"SPUN\",\"DevName\":null,\"DipRate\":null,\"DropSize\":null,\"ElectrodeMat\":\"Au\",\"EvapCont\":null,\"FibLen\":null,\"FilmAggFrac\":63.57058,\"FilmEB\":0.07732,\"FilmRange\":null,\"FilmThick\":null,\"GateMate\":null,\"GrainSize100\":null,\"HR\":null,\"Herman\":null,\"InitConc\":5,\"MFFlowRate\":null,\"Mn\":39.13043,\"MobEnv\":\"N2\",\"Mw\":90,\"Notes\":null,\"NozzleDis\":null,\"OFETConfig\":\"BGBC\",\"OFETReg\":\"Linear\",\"PDI\":2.3,\"ProcEnv\":\"Air\",\"RR\":0.96,\"RTMob\":0.0418,\"Sfull\":0.2701,\"SolAggFrac\":null,\"SolEB\":null,\"SolTreat\":null,\"Solv1\":\"CHCl3\",\"Solv2\":\"2-MP\",\"SonicationTime\":0,\"Space010\":null,\"Space100\":16.42,\"SpinRate\":1500,\"SpinTime\":60,\"SprayTime\":null,\"SubsTreat\":null,\"UVResTime\":null,\"UVTime\":null,\"VFSolv1\":0.7,\"VT\":null,\"Vds\":-3,\"Year\":2014,\"Sonicated\":0},{\"null\":13,\"AgeTemp\":null,\"AgeTime\":null,\"AnnCool\":null,\"AnnTemp\":null,\"AnnTime\":null,\"Author\":\"Choi\",\"BP\":null,\"BladeH\":null,\"BladeVel\":null,\"CastCond\":null,\"ChanLen\":50,\"ChanWid\":2,\"ChannelConfig\":null,\"CoolResTime\":null,\"Cooling\":null,\"CorrLen\":298.1897,\"DOI\":\"10.1002\\/adfm.201403708 \",\"Depo\":\"SPUN\",\"DevName\":null,\"DipRate\":null,\"DropSize\":null,\"ElectrodeMat\":\"Au\",\"EvapCont\":null,\"FibLen\":null,\"FilmAggFrac\":64.25423,\"FilmEB\":0.07192,\"FilmRange\":null,\"FilmThick\":null,\"GateMate\":null,\"GrainSize100\":null,\"HR\":null,\"Herman\":null,\"InitConc\":5,\"MFFlowRate\":null,\"Mn\":39.13043,\"MobEnv\":\"N2\",\"Mw\":90,\"Notes\":null,\"NozzleDis\":null,\"OFETConfig\":\"BGBC\",\"OFETReg\":\"Linear\",\"PDI\":2.3,\"ProcEnv\":\"Air\",\"RR\":0.96,\"RTMob\":0.0347,\"Sfull\":0.14567,\"SolAggFrac\":null,\"SolEB\":null,\"SolTreat\":null,\"Solv1\":\"CHCl3\",\"Solv2\":\"2-MP\",\"SonicationTime\":0,\"Space010\":null,\"Space100\":16.42,\"SpinRate\":1500,\"SpinTime\":60,\"SprayTime\":null,\"SubsTreat\":null,\"UVResTime\":null,\"UVTime\":null,\"VFSolv1\":0.6,\"VT\":null,\"Vds\":-3,\"Year\":2014,\"Sonicated\":0},{\"null\":14,\"AgeTemp\":null,\"AgeTime\":null,\"AnnCool\":null,\"AnnTemp\":null,\"AnnTime\":null,\"Author\":\"Choi\",\"BP\":null,\"BladeH\":null,\"BladeVel\":null,\"CastCond\":null,\"ChanLen\":50,\"ChanWid\":2,\"ChannelConfig\":null,\"CoolResTime\":null,\"Cooling\":null,\"CorrLen\":262.0994,\"DOI\":\"10.1002\\/adfm.201403708 \",\"Depo\":\"SPUN\",\"DevName\":null,\"DipRate\":null,\"DropSize\":null,\"ElectrodeMat\":\"Au\",\"EvapCont\":null,\"FibLen\":null,\"FilmAggFrac\":61.47177,\"FilmEB\":0.06211,\"FilmRange\":null,\"FilmThick\":null,\"GateMate\":null,\"GrainSize100\":null,\"HR\":null,\"Herman\":null,\"InitConc\":5,\"MFFlowRate\":null,\"Mn\":39.13043,\"MobEnv\":\"N2\",\"Mw\":90,\"Notes\":null,\"NozzleDis\":null,\"OFETConfig\":\"BGBC\",\"OFETReg\":\"Linear\",\"PDI\":2.3,\"ProcEnv\":\"Air\",\"RR\":0.96,\"RTMob\":0.0296,\"Sfull\":0.18712,\"SolAggFrac\":null,\"SolEB\":null,\"SolTreat\":null,\"Solv1\":\"CHCl3\",\"Solv2\":null,\"SonicationTime\":1,\"Space010\":null,\"Space100\":null,\"SpinRate\":1500,\"SpinTime\":60,\"SprayTime\":null,\"SubsTreat\":null,\"UVResTime\":null,\"UVTime\":null,\"VFSolv1\":null,\"VT\":null,\"Vds\":-3,\"Year\":2014,\"Sonicated\":1},{\"null\":15,\"AgeTemp\":null,\"AgeTime\":null,\"AnnCool\":null,\"AnnTemp\":null,\"AnnTime\":null,\"Author\":\"Choi\",\"BP\":null,\"BladeH\":null,\"BladeVel\":null,\"CastCond\":null,\"ChanLen\":50,\"ChanWid\":2,\"ChannelConfig\":null,\"CoolResTime\":null,\"Cooling\":null,\"CorrLen\":271.1179,\"DOI\":\"10.1002\\/adfm.201403708 \",\"Depo\":\"SPUN\",\"DevName\":null,\"DipRate\":null,\"DropSize\":null,\"ElectrodeMat\":\"Au\",\"EvapCont\":null,\"FibLen\":null,\"FilmAggFrac\":62.02528,\"FilmEB\":0.06203,\"FilmRange\":null,\"FilmThick\":null,\"GateMate\":null,\"GrainSize100\":null,\"HR\":null,\"Herman\":null,\"InitConc\":5,\"MFFlowRate\":null,\"Mn\":39.13043,\"MobEnv\":\"N2\",\"Mw\":90,\"Notes\":null,\"NozzleDis\":null,\"OFETConfig\":\"BGBC\",\"OFETReg\":\"Linear\",\"PDI\":2.3,\"ProcEnv\":\"Air\",\"RR\":0.96,\"RTMob\":0.026,\"Sfull\":0.17689,\"SolAggFrac\":null,\"SolEB\":null,\"SolTreat\":null,\"Solv1\":\"CHCl3\",\"Solv2\":null,\"SonicationTime\":2,\"Space010\":null,\"Space100\":null,\"SpinRate\":1500,\"SpinTime\":60,\"SprayTime\":null,\"SubsTreat\":null,\"UVResTime\":null,\"UVTime\":null,\"VFSolv1\":null,\"VT\":null,\"Vds\":-3,\"Year\":2014,\"Sonicated\":1},{\"null\":16,\"AgeTemp\":null,\"AgeTime\":null,\"AnnCool\":null,\"AnnTemp\":null,\"AnnTime\":null,\"Author\":\"Choi\",\"BP\":null,\"BladeH\":null,\"BladeVel\":null,\"CastCond\":null,\"ChanLen\":50,\"ChanWid\":2,\"ChannelConfig\":null,\"CoolResTime\":null,\"Cooling\":null,\"CorrLen\":332.0886,\"DOI\":\"10.1002\\/adfm.201403708 \",\"Depo\":\"SPUN\",\"DevName\":null,\"DipRate\":null,\"DropSize\":null,\"ElectrodeMat\":\"Au\",\"EvapCont\":null,\"FibLen\":null,\"FilmAggFrac\":63.9167,\"FilmEB\":0.0508,\"FilmRange\":null,\"FilmThick\":null,\"GateMate\":null,\"GrainSize100\":null,\"HR\":null,\"Herman\":null,\"InitConc\":5,\"MFFlowRate\":null,\"Mn\":39.13043,\"MobEnv\":\"N2\",\"Mw\":90,\"Notes\":null,\"NozzleDis\":null,\"OFETConfig\":\"BGBC\",\"OFETReg\":\"Linear\",\"PDI\":2.3,\"ProcEnv\":\"Air\",\"RR\":0.96,\"RTMob\":0.023,\"Sfull\":0.12816,\"SolAggFrac\":null,\"SolEB\":null,\"SolTreat\":null,\"Solv1\":\"CHCl3\",\"Solv2\":null,\"SonicationTime\":3,\"Space010\":null,\"Space100\":null,\"SpinRate\":1500,\"SpinTime\":60,\"SprayTime\":null,\"SubsTreat\":null,\"UVResTime\":null,\"UVTime\":null,\"VFSolv1\":null,\"VT\":null,\"Vds\":-3,\"Year\":2014,\"Sonicated\":1},{\"null\":17,\"AgeTemp\":null,\"AgeTime\":null,\"AnnCool\":null,\"AnnTemp\":null,\"AnnTime\":null,\"Author\":\"Choi\",\"BP\":null,\"BladeH\":null,\"BladeVel\":null,\"CastCond\":null,\"ChanLen\":50,\"ChanWid\":2,\"ChannelConfig\":null,\"CoolResTime\":null,\"Cooling\":null,\"CorrLen\":251.5515,\"DOI\":\"10.1002\\/adfm.201403708 \",\"Depo\":\"SPUN\",\"DevName\":null,\"DipRate\":null,\"DropSize\":null,\"ElectrodeMat\":\"Au\",\"EvapCont\":null,\"FibLen\":null,\"FilmAggFrac\":65.39871,\"FilmEB\":0.04041,\"FilmRange\":null,\"FilmThick\":null,\"GateMate\":null,\"GrainSize100\":null,\"HR\":null,\"Herman\":null,\"InitConc\":5,\"MFFlowRate\":null,\"Mn\":39.13043,\"MobEnv\":\"N2\",\"Mw\":90,\"Notes\":null,\"NozzleDis\":null,\"OFETConfig\":\"BGBC\",\"OFETReg\":\"Linear\",\"PDI\":2.3,\"ProcEnv\":\"Air\",\"RR\":0.96,\"RTMob\":0.023,\"Sfull\":0.20321,\"SolAggFrac\":null,\"SolEB\":null,\"SolTreat\":null,\"Solv1\":\"CHCl3\",\"Solv2\":null,\"SonicationTime\":4,\"Space010\":null,\"Space100\":null,\"SpinRate\":1500,\"SpinTime\":60,\"SprayTime\":null,\"SubsTreat\":null,\"UVResTime\":null,\"UVTime\":null,\"VFSolv1\":null,\"VT\":null,\"Vds\":-3,\"Year\":2014,\"Sonicated\":1},{\"null\":18,\"AgeTemp\":null,\"AgeTime\":null,\"AnnCool\":null,\"AnnTemp\":null,\"AnnTime\":null,\"Author\":\"Choi\",\"BP\":null,\"BladeH\":null,\"BladeVel\":null,\"CastCond\":null,\"ChanLen\":50,\"ChanWid\":2,\"ChannelConfig\":null,\"CoolResTime\":null,\"Cooling\":null,\"CorrLen\":392.4729,\"DOI\":\"10.1002\\/adfm.201403708 \",\"Depo\":\"SPUN\",\"DevName\":null,\"DipRate\":null,\"DropSize\":null,\"ElectrodeMat\":\"Au\",\"EvapCont\":null,\"FibLen\":null,\"FilmAggFrac\":66.25812,\"FilmEB\":0.04198,\"FilmRange\":null,\"FilmThick\":null,\"GateMate\":null,\"GrainSize100\":null,\"HR\":null,\"Herman\":null,\"InitConc\":5,\"MFFlowRate\":null,\"Mn\":39.13043,\"MobEnv\":\"N2\",\"Mw\":90,\"Notes\":null,\"NozzleDis\":null,\"OFETConfig\":\"BGBC\",\"OFETReg\":\"Linear\",\"PDI\":2.3,\"ProcEnv\":\"Air\",\"RR\":0.96,\"RTMob\":0.018,\"Sfull\":0.02714,\"SolAggFrac\":null,\"SolEB\":null,\"SolTreat\":null,\"Solv1\":\"CHCl3\",\"Solv2\":null,\"SonicationTime\":5,\"Space010\":null,\"Space100\":null,\"SpinRate\":1500,\"SpinTime\":60,\"SprayTime\":null,\"SubsTreat\":null,\"UVResTime\":null,\"UVTime\":null,\"VFSolv1\":null,\"VT\":null,\"Vds\":-3,\"Year\":2014,\"Sonicated\":1},{\"null\":2,\"AgeTemp\":25,\"AgeTime\":12,\"AnnCool\":null,\"AnnTemp\":null,\"AnnTime\":null,\"Author\":\"Kleinhenz\",\"BP\":null,\"BladeH\":null,\"BladeVel\":null,\"CastCond\":null,\"ChanLen\":50,\"ChanWid\":2,\"ChannelConfig\":\"Single\",\"CoolResTime\":null,\"Cooling\":null,\"CorrLen\":628.1783,\"DOI\":\"10.1021\\/acs\\/chemmater.6b01163\",\"Depo\":\"SPUN\",\"DevName\":null,\"DipRate\":null,\"DropSize\":null,\"ElectrodeMat\":\"Au\",\"EvapCont\":null,\"FibLen\":1783,\"FilmAggFrac\":59.45159,\"FilmEB\":0.0772,\"FilmRange\":null,\"FilmThick\":null,\"GateMate\":null,\"GrainSize100\":97.15377,\"HR\":null,\"Herman\":0.61777,\"InitConc\":5,\"MFFlowRate\":null,\"Mn\":32,\"MobEnv\":\"N2\",\"Mw\":71,\"Notes\":null,\"NozzleDis\":null,\"OFETConfig\":\"BGBC\",\"OFETReg\":\"Saturation\",\"PDI\":2.2,\"ProcEnv\":\"Air\",\"RR\":0.96,\"RTMob\":0.089,\"Sfull\":0.81311,\"SolAggFrac\":12.59638,\"SolEB\":0.00622,\"SolTreat\":null,\"Solv1\":\"CHCl3\",\"Solv2\":null,\"SonicationTime\":0,\"Space010\":3.64233,\"Space100\":16.13658,\"SpinRate\":800,\"SpinTime\":30,\"SprayTime\":null,\"SubsTreat\":null,\"UVResTime\":null,\"UVTime\":null,\"VFSolv1\":null,\"VT\":null,\"Vds\":-80,\"Year\":2016,\"Sonicated\":0},{\"null\":3,\"AgeTemp\":25,\"AgeTime\":24,\"AnnCool\":null,\"AnnTemp\":null,\"AnnTime\":null,\"Author\":\"Kleinhenz\",\"BP\":null,\"BladeH\":null,\"BladeVel\":null,\"CastCond\":null,\"ChanLen\":50,\"ChanWid\":2,\"ChannelConfig\":\"Single\",\"CoolResTime\":null,\"Cooling\":null,\"CorrLen\":1454.6761,\"DOI\":\"10.1021\\/acs\\/chemmater.6b01163\",\"Depo\":\"SPUN\",\"DevName\":null,\"DipRate\":null,\"DropSize\":null,\"ElectrodeMat\":\"Au\",\"EvapCont\":null,\"FibLen\":2804.10156,\"FilmAggFrac\":61.38834,\"FilmEB\":0.0621,\"FilmRange\":null,\"FilmThick\":null,\"GateMate\":null,\"GrainSize100\":108.45631,\"HR\":null,\"Herman\":0.46123,\"InitConc\":5,\"MFFlowRate\":null,\"Mn\":32,\"MobEnv\":\"N2\",\"Mw\":71,\"Notes\":null,\"NozzleDis\":null,\"OFETConfig\":\"BGBC\",\"OFETReg\":\"Saturation\",\"PDI\":2.2,\"ProcEnv\":\"Air\",\"RR\":0.96,\"RTMob\":0.108,\"Sfull\":0.53157,\"SolAggFrac\":20.00157,\"SolEB\":0.00174,\"SolTreat\":null,\"Solv1\":\"CHCl3\",\"Solv2\":null,\"SonicationTime\":0,\"Space010\":3.66283,\"Space100\":16.57309,\"SpinRate\":800,\"SpinTime\":30,\"SprayTime\":null,\"SubsTreat\":null,\"UVResTime\":null,\"UVTime\":null,\"VFSolv1\":null,\"VT\":null,\"Vds\":-80,\"Year\":2016,\"Sonicated\":0},{\"null\":4,\"AgeTemp\":25,\"AgeTime\":48,\"AnnCool\":null,\"AnnTemp\":null,\"AnnTime\":null,\"Author\":\"Kleinhenz\",\"BP\":null,\"BladeH\":null,\"BladeVel\":null,\"CastCond\":null,\"ChanLen\":50,\"ChanWid\":2,\"ChannelConfig\":\"Single\",\"CoolResTime\":null,\"Cooling\":null,\"CorrLen\":1125.6085,\"DOI\":\"10.1021\\/acs\\/chemmater.6b01163\",\"Depo\":\"SPUN\",\"DevName\":null,\"DipRate\":null,\"DropSize\":null,\"ElectrodeMat\":\"Au\",\"EvapCont\":null,\"FibLen\":2285.15625,\"FilmAggFrac\":61.37444,\"FilmEB\":0.06253,\"FilmRange\":null,\"FilmThick\":null,\"GateMate\":null,\"GrainSize100\":107.52479,\"HR\":null,\"Herman\":0.6906,\"InitConc\":5,\"MFFlowRate\":null,\"Mn\":32,\"MobEnv\":\"N2\",\"Mw\":71,\"Notes\":null,\"NozzleDis\":null,\"OFETConfig\":\"BGBC\",\"OFETReg\":\"Saturation\",\"PDI\":2.2,\"ProcEnv\":\"Air\",\"RR\":0.96,\"RTMob\":0.091,\"Sfull\":0.30917,\"SolAggFrac\":20.69379,\"SolEB\":-0.00029,\"SolTreat\":null,\"Solv1\":\"CHCl3\",\"Solv2\":null,\"SonicationTime\":0,\"Space010\":3.64152,\"Space100\":16.13658,\"SpinRate\":800,\"SpinTime\":30,\"SprayTime\":null,\"SubsTreat\":null,\"UVResTime\":null,\"UVTime\":null,\"VFSolv1\":null,\"VT\":null,\"Vds\":-80,\"Year\":2016,\"Sonicated\":0},{\"null\":5,\"AgeTemp\":25,\"AgeTime\":96,\"AnnCool\":null,\"AnnTemp\":null,\"AnnTime\":null,\"Author\":\"Kleinhenz\",\"BP\":null,\"BladeH\":null,\"BladeVel\":null,\"CastCond\":null,\"ChanLen\":50,\"ChanWid\":2,\"ChannelConfig\":\"Single\",\"CoolResTime\":null,\"Cooling\":null,\"CorrLen\":845.7434,\"DOI\":\"10.1021\\/acs\\/chemmater.6b01163\",\"Depo\":\"SPUN\",\"DevName\":null,\"DipRate\":null,\"DropSize\":null,\"ElectrodeMat\":\"Au\",\"EvapCont\":null,\"FibLen\":3114.25781,\"FilmAggFrac\":62.82366,\"FilmEB\":0.05484,\"FilmRange\":null,\"FilmThick\":null,\"GateMate\":null,\"GrainSize100\":112.06228,\"HR\":null,\"Herman\":0.73872,\"InitConc\":5,\"MFFlowRate\":null,\"Mn\":32,\"MobEnv\":\"N2\",\"Mw\":71,\"Notes\":null,\"NozzleDis\":null,\"OFETConfig\":\"BGBC\",\"OFETReg\":\"Saturation\",\"PDI\":2.2,\"ProcEnv\":\"Air\",\"RR\":0.96,\"RTMob\":0.102,\"Sfull\":0.55609,\"SolAggFrac\":21.68846,\"SolEB\":-0.00724,\"SolTreat\":null,\"Solv1\":\"CHCl3\",\"Solv2\":null,\"SonicationTime\":0,\"Space010\":3.62847,\"Space100\":16.07798,\"SpinRate\":800,\"SpinTime\":30,\"SprayTime\":null,\"SubsTreat\":null,\"UVResTime\":null,\"UVTime\":null,\"VFSolv1\":null,\"VT\":null,\"Vds\":-80,\"Year\":2016,\"Sonicated\":0},{\"null\":6,\"AgeTemp\":25,\"AgeTime\":0,\"AnnCool\":null,\"AnnTemp\":null,\"AnnTime\":null,\"Author\":\"Kleinhenz\",\"BP\":null,\"BladeH\":null,\"BladeVel\":null,\"CastCond\":null,\"ChanLen\":50,\"ChanWid\":2,\"ChannelConfig\":\"Single\",\"CoolResTime\":null,\"Cooling\":null,\"CorrLen\":620.8539,\"DOI\":\"10.1021\\/acs\\/chemmater.6b01163\",\"Depo\":\"SPUN\",\"DevName\":null,\"DipRate\":null,\"DropSize\":null,\"ElectrodeMat\":\"Au\",\"EvapCont\":null,\"FibLen\":629.88281,\"FilmAggFrac\":61.66191,\"FilmEB\":0.06198,\"FilmRange\":null,\"FilmThick\":null,\"GateMate\":null,\"GrainSize100\":110.64735,\"HR\":null,\"Herman\":0.43222,\"InitConc\":5,\"MFFlowRate\":null,\"Mn\":32,\"MobEnv\":\"N2\",\"Mw\":71,\"Notes\":null,\"NozzleDis\":null,\"OFETConfig\":\"BGBC\",\"OFETReg\":\"Saturation\",\"PDI\":2.2,\"ProcEnv\":\"Air\",\"RR\":0.96,\"RTMob\":0.112,\"Sfull\":0.1219,\"SolAggFrac\":7.82545,\"SolEB\":-0.005,\"SolTreat\":null,\"Solv1\":\"CHCl3\",\"Solv2\":null,\"SonicationTime\":2,\"Space010\":3.64611,\"Space100\":16.42775,\"SpinRate\":800,\"SpinTime\":30,\"SprayTime\":null,\"SubsTreat\":null,\"UVResTime\":null,\"UVTime\":null,\"VFSolv1\":null,\"VT\":null,\"Vds\":-80,\"Year\":2016,\"Sonicated\":1},{\"null\":7,\"AgeTemp\":25,\"AgeTime\":96,\"AnnCool\":null,\"AnnTemp\":null,\"AnnTime\":null,\"Author\":\"Kleinhenz\",\"BP\":null,\"BladeH\":null,\"BladeVel\":null,\"CastCond\":null,\"ChanLen\":50,\"ChanWid\":2,\"ChannelConfig\":\"Single\",\"CoolResTime\":null,\"Cooling\":null,\"CorrLen\":963.4603,\"DOI\":\"10.1021\\/acs\\/chemmater.6b01163\",\"Depo\":\"SPUN\",\"DevName\":null,\"DipRate\":null,\"DropSize\":null,\"ElectrodeMat\":\"Au\",\"EvapCont\":null,\"FibLen\":2331.20117,\"FilmAggFrac\":64.33672,\"FilmEB\":0.04047,\"FilmRange\":null,\"FilmThick\":null,\"GateMate\":null,\"GrainSize100\":104.2006,\"HR\":null,\"Herman\":0.7794,\"InitConc\":5,\"MFFlowRate\":null,\"Mn\":32,\"MobEnv\":\"N2\",\"Mw\":71,\"Notes\":null,\"NozzleDis\":null,\"OFETConfig\":\"BGBC\",\"OFETReg\":\"Saturation\",\"PDI\":2.2,\"ProcEnv\":\"Air\",\"RR\":0.96,\"RTMob\":0.147,\"Sfull\":0.44237,\"SolAggFrac\":32.37786,\"SolEB\":-0.02244,\"SolTreat\":null,\"Solv1\":\"CHCl3\",\"Solv2\":null,\"SonicationTime\":2,\"Space010\":3.6476,\"Space100\":16.01981,\"SpinRate\":800,\"SpinTime\":30,\"SprayTime\":null,\"SubsTreat\":null,\"UVResTime\":null,\"UVTime\":null,\"VFSolv1\":null,\"VT\":null,\"Vds\":-80,\"Year\":2016,\"Sonicated\":1},{\"null\":8,\"AgeTemp\":25,\"AgeTime\":192,\"AnnCool\":null,\"AnnTemp\":null,\"AnnTime\":null,\"Author\":\"Kleinhenz\",\"BP\":null,\"BladeH\":null,\"BladeVel\":null,\"CastCond\":null,\"ChanLen\":50,\"ChanWid\":2,\"ChannelConfig\":\"Single\",\"CoolResTime\":null,\"Cooling\":null,\"CorrLen\":1431.3443,\"DOI\":\"10.1021\\/acs\\/chemmater.6b01163\",\"Depo\":\"SPUN\",\"DevName\":null,\"DipRate\":null,\"DropSize\":null,\"ElectrodeMat\":\"Au\",\"EvapCont\":null,\"FibLen\":3540.72266,\"FilmAggFrac\":63.93782,\"FilmEB\":0.03068,\"FilmRange\":null,\"FilmThick\":null,\"GateMate\":null,\"GrainSize100\":91.28406,\"HR\":null,\"Herman\":0.66534,\"InitConc\":5,\"MFFlowRate\":null,\"Mn\":32,\"MobEnv\":\"N2\",\"Mw\":71,\"Notes\":null,\"NozzleDis\":null,\"OFETConfig\":\"BGBC\",\"OFETReg\":\"Saturation\",\"PDI\":2.2,\"ProcEnv\":\"Air\",\"RR\":0.96,\"RTMob\":0.085,\"Sfull\":0.07643,\"SolAggFrac\":26.44358,\"SolEB\":-0.01887,\"SolTreat\":null,\"Solv1\":\"CHCl3\",\"Solv2\":null,\"SonicationTime\":2,\"Space010\":3.64936,\"Space100\":16.05943,\"SpinRate\":800,\"SpinTime\":30,\"SprayTime\":null,\"SubsTreat\":null,\"UVResTime\":null,\"UVTime\":null,\"VFSolv1\":null,\"VT\":null,\"Vds\":-80,\"Year\":2016,\"Sonicated\":1},{\"null\":9,\"AgeTemp\":25,\"AgeTime\":96,\"AnnCool\":null,\"AnnTemp\":null,\"AnnTime\":null,\"Author\":\"Kleinhenz\",\"BP\":null,\"BladeH\":null,\"BladeVel\":null,\"CastCond\":null,\"ChanLen\":50,\"ChanWid\":2,\"ChannelConfig\":\"Single\",\"CoolResTime\":null,\"Cooling\":null,\"CorrLen\":1477.121,\"DOI\":\"10.1021\\/acs\\/chemmater.6b01163\",\"Depo\":\"SPUN\",\"DevName\":null,\"DipRate\":null,\"DropSize\":null,\"ElectrodeMat\":\"Au\",\"EvapCont\":null,\"FibLen\":366.21094,\"FilmAggFrac\":66.35874,\"FilmEB\":0.03817,\"FilmRange\":null,\"FilmThick\":null,\"GateMate\":null,\"GrainSize100\":99.24428,\"HR\":null,\"Herman\":0.60788,\"InitConc\":5,\"MFFlowRate\":null,\"Mn\":32,\"MobEnv\":\"N2\",\"Mw\":71,\"Notes\":null,\"NozzleDis\":null,\"OFETConfig\":\"BGBC\",\"OFETReg\":\"Saturation\",\"PDI\":2.2,\"ProcEnv\":\"Air\",\"RR\":0.96,\"RTMob\":0.021,\"Sfull\":0.1862,\"SolAggFrac\":24.54329,\"SolEB\":-0.00772,\"SolTreat\":null,\"Solv1\":\"CHCl3\",\"Solv2\":null,\"SonicationTime\":2,\"Space010\":3.65167,\"Space100\":16.12055,\"SpinRate\":800,\"SpinTime\":30,\"SprayTime\":null,\"SubsTreat\":null,\"UVResTime\":null,\"UVTime\":null,\"VFSolv1\":null,\"VT\":null,\"Vds\":-80,\"Year\":2016,\"Sonicated\":1},{\"null\":4,\"AgeTemp\":null,\"AgeTime\":null,\"AnnCool\":null,\"AnnTemp\":null,\"AnnTime\":null,\"Author\":\"Wang\",\"BP\":null,\"BladeH\":null,\"BladeVel\":null,\"CastCond\":null,\"ChanLen\":50,\"ChanWid\":2,\"ChannelConfig\":null,\"CoolResTime\":null,\"Cooling\":30,\"CorrLen\":236,\"DOI\":\"10.1021\\/acsnano.5b02582\",\"Depo\":\"SPUN\",\"DevName\":null,\"DipRate\":null,\"DropSize\":null,\"ElectrodeMat\":null,\"EvapCont\":null,\"FibLen\":null,\"FilmAggFrac\":null,\"FilmEB\":0.10316,\"FilmRange\":null,\"FilmThick\":null,\"GateMate\":null,\"GrainSize100\":null,\"HR\":null,\"Herman\":-0.015,\"InitConc\":5,\"MFFlowRate\":null,\"Mn\":19.8,\"MobEnv\":\"N2\",\"Mw\":43.9,\"Notes\":null,\"NozzleDis\":null,\"OFETConfig\":\"BGBC\",\"OFETReg\":\"Saturation\",\"PDI\":2.21717,\"ProcEnv\":\"Air\",\"RR\":0.96,\"RTMob\":0.065,\"Sfull\":0.34,\"SolAggFrac\":null,\"SolEB\":null,\"SolTreat\":null,\"Solv1\":\"CHCl3\",\"Solv2\":null,\"SonicationTime\":0,\"Space010\":3.84,\"Space100\":null,\"SpinRate\":1500,\"SpinTime\":60,\"SprayTime\":null,\"SubsTreat\":null,\"UVResTime\":null,\"UVTime\":6,\"VFSolv1\":null,\"VT\":null,\"Vds\":-80,\"Year\":2015,\"Sonicated\":0},{\"null\":7,\"AgeTemp\":null,\"AgeTime\":null,\"AnnCool\":null,\"AnnTemp\":null,\"AnnTime\":null,\"Author\":\"Wang\",\"BP\":null,\"BladeH\":null,\"BladeVel\":null,\"CastCond\":null,\"ChanLen\":50,\"ChanWid\":2,\"ChannelConfig\":null,\"CoolResTime\":1,\"Cooling\":null,\"CorrLen\":504,\"DOI\":\"10.1021\\/acsnano.5b02582\",\"Depo\":\"SPUN\",\"DevName\":null,\"DipRate\":null,\"DropSize\":null,\"ElectrodeMat\":null,\"EvapCont\":null,\"FibLen\":null,\"FilmAggFrac\":null,\"FilmEB\":0.0689,\"FilmRange\":null,\"FilmThick\":null,\"GateMate\":null,\"GrainSize100\":null,\"HR\":null,\"Herman\":0.022,\"InitConc\":5,\"MFFlowRate\":0.1,\"Mn\":19.8,\"MobEnv\":\"N2\",\"Mw\":43.9,\"Notes\":null,\"NozzleDis\":null,\"OFETConfig\":\"BGBC\",\"OFETReg\":\"Saturation\",\"PDI\":2.21717,\"ProcEnv\":\"Air\",\"RR\":0.96,\"RTMob\":0.09,\"Sfull\":0.26,\"SolAggFrac\":null,\"SolEB\":null,\"SolTreat\":null,\"Solv1\":\"CHCl3\",\"Solv2\":null,\"SonicationTime\":0,\"Space010\":3.79,\"Space100\":null,\"SpinRate\":1500,\"SpinTime\":60,\"SprayTime\":null,\"SubsTreat\":null,\"UVResTime\":15,\"UVTime\":null,\"VFSolv1\":null,\"VT\":null,\"Vds\":-80,\"Year\":2015,\"Sonicated\":0},{\"null\":8,\"AgeTemp\":null,\"AgeTime\":null,\"AnnCool\":null,\"AnnTemp\":null,\"AnnTime\":null,\"Author\":\"Wang\",\"BP\":null,\"BladeH\":null,\"BladeVel\":null,\"CastCond\":null,\"ChanLen\":50,\"ChanWid\":2,\"ChannelConfig\":null,\"CoolResTime\":1,\"Cooling\":null,\"CorrLen\":904,\"DOI\":\"10.1021\\/acsnano.5b02582\",\"Depo\":\"SPUN\",\"DevName\":null,\"DipRate\":null,\"DropSize\":null,\"ElectrodeMat\":null,\"EvapCont\":null,\"FibLen\":null,\"FilmAggFrac\":null,\"FilmEB\":0.0256,\"FilmRange\":null,\"FilmThick\":null,\"GateMate\":null,\"GrainSize100\":null,\"HR\":null,\"Herman\":0.2,\"InitConc\":5,\"MFFlowRate\":0.25,\"Mn\":19.8,\"MobEnv\":\"N2\",\"Mw\":43.9,\"Notes\":null,\"NozzleDis\":null,\"OFETConfig\":\"BGBC\",\"OFETReg\":\"Saturation\",\"PDI\":2.21717,\"ProcEnv\":\"Air\",\"RR\":0.96,\"RTMob\":0.16,\"Sfull\":0.81,\"SolAggFrac\":null,\"SolEB\":null,\"SolTreat\":null,\"Solv1\":\"CHCl3\",\"Solv2\":null,\"SonicationTime\":0,\"Space010\":3.71,\"Space100\":null,\"SpinRate\":1500,\"SpinTime\":60,\"SprayTime\":null,\"SubsTreat\":null,\"UVResTime\":15,\"UVTime\":null,\"VFSolv1\":null,\"VT\":null,\"Vds\":-80,\"Year\":2015,\"Sonicated\":0},{\"null\":9,\"AgeTemp\":null,\"AgeTime\":null,\"AnnCool\":null,\"AnnTemp\":null,\"AnnTime\":null,\"Author\":\"Wang\",\"BP\":null,\"BladeH\":null,\"BladeVel\":null,\"CastCond\":null,\"ChanLen\":50,\"ChanWid\":2,\"ChannelConfig\":null,\"CoolResTime\":1,\"Cooling\":null,\"CorrLen\":246,\"DOI\":\"10.1021\\/acsnano.5b02582\",\"Depo\":\"SPUN\",\"DevName\":null,\"DipRate\":null,\"DropSize\":null,\"ElectrodeMat\":null,\"EvapCont\":null,\"FibLen\":null,\"FilmAggFrac\":null,\"FilmEB\":0.0689,\"FilmRange\":null,\"FilmThick\":null,\"GateMate\":null,\"GrainSize100\":null,\"HR\":null,\"Herman\":0.08,\"InitConc\":5,\"MFFlowRate\":0.6,\"Mn\":19.8,\"MobEnv\":\"N2\",\"Mw\":43.9,\"Notes\":null,\"NozzleDis\":null,\"OFETConfig\":\"BGBC\",\"OFETReg\":\"Saturation\",\"PDI\":2.21717,\"ProcEnv\":\"Air\",\"RR\":0.96,\"RTMob\":0.12,\"Sfull\":0.44,\"SolAggFrac\":null,\"SolEB\":null,\"SolTreat\":null,\"Solv1\":\"CHCl3\",\"Solv2\":null,\"SonicationTime\":0,\"Space010\":3.76,\"Space100\":null,\"SpinRate\":1500,\"SpinTime\":60,\"SprayTime\":null,\"SubsTreat\":null,\"UVResTime\":15,\"UVTime\":null,\"VFSolv1\":null,\"VT\":null,\"Vds\":-80,\"Year\":2015,\"Sonicated\":0}], [{\"type\": \"Integer\", \"field\": null}, {\"field\": \"AgeTemp\"}, {\"field\": \"AgeTime\"}, {\"field\": \"AnnCool\"}, {\"field\": \"AnnTemp\"}, {\"field\": \"AnnTime\"}, {\"field\": \"Author\"}, {\"field\": \"BP\"}, {\"field\": \"BladeH\"}, {\"field\": \"BladeVel\"}, {\"field\": \"CastCond\"}, {\"field\": \"ChanLen\"}, {\"field\": \"ChanWid\"}, {\"field\": \"ChannelConfig\"}, {\"field\": \"CoolResTime\"}, {\"field\": \"Cooling\"}, {\"field\": \"CorrLen\"}, {\"field\": \"DOI\"}, {\"field\": \"Depo\"}, {\"field\": \"DevName\"}, {\"field\": \"DipRate\"}, {\"field\": \"DropSize\"}, {\"field\": \"ElectrodeMat\"}, {\"field\": \"EvapCont\"}, {\"field\": \"FibLen\"}, {\"field\": \"FilmAggFrac\"}, {\"field\": \"FilmEB\"}, {\"field\": \"FilmRange\"}, {\"field\": \"FilmThick\"}, {\"field\": \"GateMate\"}, {\"field\": \"GrainSize100\"}, {\"field\": \"HR\"}, {\"field\": \"Herman\"}, {\"field\": \"InitConc\"}, {\"field\": \"MFFlowRate\"}, {\"field\": \"Mn\"}, {\"field\": \"MobEnv\"}, {\"field\": \"Mw\"}, {\"field\": \"Notes\"}, {\"field\": \"NozzleDis\"}, {\"field\": \"OFETConfig\"}, {\"field\": \"OFETReg\"}, {\"field\": \"PDI\"}, {\"field\": \"ProcEnv\"}, {\"field\": \"RR\"}, {\"field\": \"RTMob\"}, {\"field\": \"Sfull\"}, {\"field\": \"SolAggFrac\"}, {\"field\": \"SolEB\"}, {\"field\": \"SolTreat\"}, {\"field\": \"Solv1\"}, {\"field\": \"Solv2\"}, {\"field\": \"SonicationTime\"}, {\"field\": \"Space010\"}, {\"field\": \"Space100\"}, {\"field\": \"SpinRate\"}, {\"field\": \"SpinTime\"}, {\"field\": \"SprayTime\"}, {\"field\": \"SubsTreat\"}, {\"field\": \"UVResTime\"}, {\"field\": \"UVTime\"}, {\"field\": \"VFSolv1\"}, {\"field\": \"VT\"}, {\"field\": \"Vds\"}, {\"field\": \"Year\"}, {\"field\": \"Sonicated\"}]);\n",
       "            grid.initialize_slick_grid({\"forceFitColumns\": false, \"defaultColumnWidth\": 80});\n",
       "        });\n",
       "    });\n",
       "});\n"
      ]
     },
     "metadata": {},
     "output_type": "display_data"
    }
   ],
   "source": [
    "df_S = df[~df['Sfull'].isnull()]\n",
    "qgrid.show_grid(df_S,grid_options={'forceFitColumns':False, 'defaultColumnWidth':80})"
   ]
  },
  {
   "cell_type": "code",
   "execution_count": 6,
   "metadata": {
    "collapsed": true
   },
   "outputs": [],
   "source": [
    "dalsu_relevant = ['RTMob','FilmAggFrac','FilmEB','Sfull','CorrLen','GrainSize100','Herman']"
   ]
  },
  {
   "cell_type": "code",
   "execution_count": 26,
   "metadata": {
    "collapsed": false
   },
   "outputs": [
    {
     "data": {
      "text/html": [
       "<div>\n",
       "<table border=\"1\" class=\"dataframe\">\n",
       "  <thead>\n",
       "    <tr style=\"text-align: right;\">\n",
       "      <th></th>\n",
       "      <th>FilmAggFrac</th>\n",
       "      <th>FilmEB</th>\n",
       "      <th>Sfull</th>\n",
       "      <th>CorrLen</th>\n",
       "      <th>GrainSize100</th>\n",
       "      <th>Herman</th>\n",
       "    </tr>\n",
       "  </thead>\n",
       "  <tbody>\n",
       "    <tr>\n",
       "      <th>10.1002/adfm.201403708</th>\n",
       "      <td>0.008477</td>\n",
       "      <td>0.030816</td>\n",
       "      <td>0.325098</td>\n",
       "      <td>0.319309</td>\n",
       "      <td>0.576695</td>\n",
       "      <td>0.000000</td>\n",
       "    </tr>\n",
       "    <tr>\n",
       "      <th>10.1021/am506546ki</th>\n",
       "      <td>0.887237</td>\n",
       "      <td>0.901804</td>\n",
       "      <td>0.000000</td>\n",
       "      <td>0.000000</td>\n",
       "      <td>0.000000</td>\n",
       "      <td>0.000000</td>\n",
       "    </tr>\n",
       "    <tr>\n",
       "      <th>10.1021/acs/chemmater.6b01163</th>\n",
       "      <td>0.000493</td>\n",
       "      <td>0.453844</td>\n",
       "      <td>0.272443</td>\n",
       "      <td>0.458978</td>\n",
       "      <td>0.681680</td>\n",
       "      <td>0.508212</td>\n",
       "    </tr>\n",
       "    <tr>\n",
       "      <th>10.1021/acsnano.5b02582</th>\n",
       "      <td>0.000000</td>\n",
       "      <td>0.980642</td>\n",
       "      <td>0.895557</td>\n",
       "      <td>0.762817</td>\n",
       "      <td>0.000000</td>\n",
       "      <td>0.951635</td>\n",
       "    </tr>\n",
       "    <tr>\n",
       "      <th>10.1021/acsami.6b02216</th>\n",
       "      <td>0.000000</td>\n",
       "      <td>0.624677</td>\n",
       "      <td>0.782534</td>\n",
       "      <td>0.621492</td>\n",
       "      <td>0.724021</td>\n",
       "      <td>0.000000</td>\n",
       "    </tr>\n",
       "  </tbody>\n",
       "</table>\n",
       "</div>"
      ],
      "text/plain": [
       "                               FilmAggFrac    FilmEB     Sfull   CorrLen  \\\n",
       "10.1002/adfm.201403708            0.008477  0.030816  0.325098  0.319309   \n",
       "10.1021/am506546ki                0.887237  0.901804  0.000000  0.000000   \n",
       "10.1021/acs/chemmater.6b01163     0.000493  0.453844  0.272443  0.458978   \n",
       "10.1021/acsnano.5b02582           0.000000  0.980642  0.895557  0.762817   \n",
       "10.1021/acsami.6b02216            0.000000  0.624677  0.782534  0.621492   \n",
       "\n",
       "                               GrainSize100    Herman  \n",
       "10.1002/adfm.201403708             0.576695  0.000000  \n",
       "10.1021/am506546ki                 0.000000  0.000000  \n",
       "10.1021/acs/chemmater.6b01163      0.681680  0.508212  \n",
       "10.1021/acsnano.5b02582            0.000000  0.951635  \n",
       "10.1021/acsami.6b02216             0.724021  0.000000  "
      ]
     },
     "execution_count": 26,
     "metadata": {},
     "output_type": "execute_result"
    }
   ],
   "source": [
    "corr_mat = np.empty([len(df['DOI'].unique().tolist()), len(dalsu_relevant)-1])\n",
    "for i,doi in enumerate(df['DOI'].unique().tolist()):\n",
    "    df_doi = df[df['DOI']==doi]\n",
    "    corr_doi = df_doi[dalsu_relevant].astype(float).corr()['RTMob'].as_matrix()[1:]\n",
    "    corr_mat[i]=corr_doi\n",
    "    \n",
    "df_corr = pd.DataFrame(data=corr_mat,\n",
    "                       columns=dalsu_relevant[1:],\n",
    "                       index=df['DOI'].unique().tolist()\n",
    "                       )\n",
    "\n",
    "plot_order = ['10.1002/adfm.201403708 ',\n",
    "              '10.1021/am506546ki',\n",
    "              '10.1021/acs/chemmater.6b01163',\n",
    "              '10.1021/acsnano.5b02582',\n",
    "              '10.1021/acsami.6b02216',\n",
    "              ]\n",
    "\n",
    "df_corr=df_corr.reindex(plot_order).fillna(value=0).abs()\n",
    "df_corr"
   ]
  },
  {
   "cell_type": "code",
   "execution_count": 27,
   "metadata": {
    "collapsed": false
   },
   "outputs": [
    {
     "data": {
      "text/plain": [
       "{'Correlation': [0.00847655544374872,\n",
       "  0.030815929929324824,\n",
       "  0.3250982823292203,\n",
       "  0.31930850192032706,\n",
       "  0.5766946204146365,\n",
       "  0.0,\n",
       "  0.8872365673937579,\n",
       "  0.9018035638376618,\n",
       "  0.0,\n",
       "  0.0,\n",
       "  0.0,\n",
       "  0.0,\n",
       "  0.0004929393801456047,\n",
       "  0.45384377861196995,\n",
       "  0.2724430141393429,\n",
       "  0.4589780650488949,\n",
       "  0.6816800491824307,\n",
       "  0.5082122723440646,\n",
       "  0.0,\n",
       "  0.9806421921658207,\n",
       "  0.8955565339607893,\n",
       "  0.7628168839296435,\n",
       "  0.0,\n",
       "  0.9516351976389892,\n",
       "  0.0,\n",
       "  0.6246765048174137,\n",
       "  0.7825343824332613,\n",
       "  0.6214920904836423,\n",
       "  0.7240209393556506,\n",
       "  0.0],\n",
       " 'Process': ['Son. + 2-MP',\n",
       "  'Son. + 2-MP',\n",
       "  'Son. + 2-MP',\n",
       "  'Son. + 2-MP',\n",
       "  'Son. + 2-MP',\n",
       "  'Son. + 2-MP',\n",
       "  'Son. + UV',\n",
       "  'Son. + UV',\n",
       "  'Son. + UV',\n",
       "  'Son. + UV',\n",
       "  'Son. + UV',\n",
       "  'Son. + UV',\n",
       "  'Son. + Aging',\n",
       "  'Son. + Aging',\n",
       "  'Son. + Aging',\n",
       "  'Son. + Aging',\n",
       "  'Son. + Aging',\n",
       "  'Son. + Aging',\n",
       "  'MF + UV',\n",
       "  'MF + UV',\n",
       "  'MF + UV',\n",
       "  'MF + UV',\n",
       "  'MF + UV',\n",
       "  'MF + UV',\n",
       "  'UV + Slide',\n",
       "  'UV + Slide',\n",
       "  'UV + Slide',\n",
       "  'UV + Slide',\n",
       "  'UV + Slide',\n",
       "  'UV + Slide'],\n",
       " 'Structural Metric': ['% Aggregates',\n",
       "  'Exciton Bandwidth',\n",
       "  'Fiber Alignment (S2D)',\n",
       "  'Decay Length',\n",
       "  '(100) Grain Size',\n",
       "  \"Herman's Orientation Factor\",\n",
       "  '% Aggregates',\n",
       "  'Exciton Bandwidth',\n",
       "  'Fiber Alignment (S2D)',\n",
       "  'Decay Length',\n",
       "  '(100) Grain Size',\n",
       "  \"Herman's Orientation Factor\",\n",
       "  '% Aggregates',\n",
       "  'Exciton Bandwidth',\n",
       "  'Fiber Alignment (S2D)',\n",
       "  'Decay Length',\n",
       "  '(100) Grain Size',\n",
       "  \"Herman's Orientation Factor\",\n",
       "  '% Aggregates',\n",
       "  'Exciton Bandwidth',\n",
       "  'Fiber Alignment (S2D)',\n",
       "  'Decay Length',\n",
       "  '(100) Grain Size',\n",
       "  \"Herman's Orientation Factor\",\n",
       "  '% Aggregates',\n",
       "  'Exciton Bandwidth',\n",
       "  'Fiber Alignment (S2D)',\n",
       "  'Decay Length',\n",
       "  '(100) Grain Size',\n",
       "  \"Herman's Orientation Factor\"]}"
      ]
     },
     "execution_count": 27,
     "metadata": {},
     "output_type": "execute_result"
    }
   ],
   "source": [
    "corr_data = {'Process': ['Son. + 2-MP']*6\n",
    "             + ['Son. + UV']*6\n",
    "             + ['Son. + Aging']*6\n",
    "             + ['MF + UV']*6\n",
    "             + ['UV + Slide']*6,\n",
    "        'Structural Metric': ['% Aggregates',\n",
    "                              'Exciton Bandwidth',\n",
    "                              'Fiber Alignment (S2D)',\n",
    "                              'Decay Length',\n",
    "                              '(100) Grain Size',\n",
    "                             \"\"\"Herman's Orientation Factor\"\"\"\n",
    "                             ]*5,\n",
    "        'Correlation': df_corr.values.ravel().tolist()}\n",
    "corr_data"
   ]
  },
  {
   "cell_type": "code",
   "execution_count": 30,
   "metadata": {
    "collapsed": false
   },
   "outputs": [
    {
     "data": {
      "text/html": [
       "\n",
       "    <div class=\"bk-root\">\n",
       "        <a href=\"http://bokeh.pydata.org\" target=\"_blank\" class=\"bk-logo bk-logo-small bk-logo-notebook\"></a>\n",
       "        <span id=\"0ea739a8-f701-4799-9187-aa6c58700704\">Loading BokehJS ...</span>\n",
       "    </div>"
      ]
     },
     "metadata": {},
     "output_type": "display_data"
    },
    {
     "data": {
      "application/javascript": [
       "\n",
       "(function(global) {\n",
       "  function now() {\n",
       "    return new Date();\n",
       "  }\n",
       "\n",
       "  var force = \"1\";\n",
       "\n",
       "  if (typeof (window._bokeh_onload_callbacks) === \"undefined\" || force !== \"\") {\n",
       "    window._bokeh_onload_callbacks = [];\n",
       "    window._bokeh_is_loading = undefined;\n",
       "  }\n",
       "\n",
       "\n",
       "  \n",
       "  if (typeof (window._bokeh_timeout) === \"undefined\" || force !== \"\") {\n",
       "    window._bokeh_timeout = Date.now() + 5000;\n",
       "    window._bokeh_failed_load = false;\n",
       "  }\n",
       "\n",
       "  var NB_LOAD_WARNING = {'data': {'text/html':\n",
       "     \"<div style='background-color: #fdd'>\\n\"+\n",
       "     \"<p>\\n\"+\n",
       "     \"BokehJS does not appear to have successfully loaded. If loading BokehJS from CDN, this \\n\"+\n",
       "     \"may be due to a slow or bad network connection. Possible fixes:\\n\"+\n",
       "     \"</p>\\n\"+\n",
       "     \"<ul>\\n\"+\n",
       "     \"<li>re-rerun `output_notebook()` to attempt to load from CDN again, or</li>\\n\"+\n",
       "     \"<li>use INLINE resources instead, as so:</li>\\n\"+\n",
       "     \"</ul>\\n\"+\n",
       "     \"<code>\\n\"+\n",
       "     \"from bokeh.resources import INLINE\\n\"+\n",
       "     \"output_notebook(resources=INLINE)\\n\"+\n",
       "     \"</code>\\n\"+\n",
       "     \"</div>\"}};\n",
       "\n",
       "  function display_loaded() {\n",
       "    if (window.Bokeh !== undefined) {\n",
       "      Bokeh.$(\"#0ea739a8-f701-4799-9187-aa6c58700704\").text(\"BokehJS successfully loaded.\");\n",
       "    } else if (Date.now() < window._bokeh_timeout) {\n",
       "      setTimeout(display_loaded, 100)\n",
       "    }\n",
       "  }\n",
       "\n",
       "  function run_callbacks() {\n",
       "    window._bokeh_onload_callbacks.forEach(function(callback) { callback() });\n",
       "    delete window._bokeh_onload_callbacks\n",
       "    console.info(\"Bokeh: all callbacks have finished\");\n",
       "  }\n",
       "\n",
       "  function load_libs(js_urls, callback) {\n",
       "    window._bokeh_onload_callbacks.push(callback);\n",
       "    if (window._bokeh_is_loading > 0) {\n",
       "      console.log(\"Bokeh: BokehJS is being loaded, scheduling callback at\", now());\n",
       "      return null;\n",
       "    }\n",
       "    if (js_urls == null || js_urls.length === 0) {\n",
       "      run_callbacks();\n",
       "      return null;\n",
       "    }\n",
       "    console.log(\"Bokeh: BokehJS not loaded, scheduling load and callback at\", now());\n",
       "    window._bokeh_is_loading = js_urls.length;\n",
       "    for (var i = 0; i < js_urls.length; i++) {\n",
       "      var url = js_urls[i];\n",
       "      var s = document.createElement('script');\n",
       "      s.src = url;\n",
       "      s.async = false;\n",
       "      s.onreadystatechange = s.onload = function() {\n",
       "        window._bokeh_is_loading--;\n",
       "        if (window._bokeh_is_loading === 0) {\n",
       "          console.log(\"Bokeh: all BokehJS libraries loaded\");\n",
       "          run_callbacks()\n",
       "        }\n",
       "      };\n",
       "      s.onerror = function() {\n",
       "        console.warn(\"failed to load library \" + url);\n",
       "      };\n",
       "      console.log(\"Bokeh: injecting script tag for BokehJS library: \", url);\n",
       "      document.getElementsByTagName(\"head\")[0].appendChild(s);\n",
       "    }\n",
       "  };var element = document.getElementById(\"0ea739a8-f701-4799-9187-aa6c58700704\");\n",
       "  if (element == null) {\n",
       "    console.log(\"Bokeh: ERROR: autoload.js configured with elementid '0ea739a8-f701-4799-9187-aa6c58700704' but no matching script tag was found. \")\n",
       "    return false;\n",
       "  }\n",
       "\n",
       "  var js_urls = ['https://cdn.pydata.org/bokeh/release/bokeh-0.12.3.min.js', 'https://cdn.pydata.org/bokeh/release/bokeh-widgets-0.12.3.min.js'];\n",
       "\n",
       "  var inline_js = [\n",
       "    function(Bokeh) {\n",
       "      Bokeh.set_log_level(\"info\");\n",
       "    },\n",
       "    \n",
       "    function(Bokeh) {\n",
       "      \n",
       "      Bokeh.$(\"#0ea739a8-f701-4799-9187-aa6c58700704\").text(\"BokehJS is loading...\");\n",
       "    },\n",
       "    function(Bokeh) {\n",
       "      console.log(\"Bokeh: injecting CSS: https://cdn.pydata.org/bokeh/release/bokeh-0.12.3.min.css\");\n",
       "      Bokeh.embed.inject_css(\"https://cdn.pydata.org/bokeh/release/bokeh-0.12.3.min.css\");\n",
       "      console.log(\"Bokeh: injecting CSS: https://cdn.pydata.org/bokeh/release/bokeh-widgets-0.12.3.min.css\");\n",
       "      Bokeh.embed.inject_css(\"https://cdn.pydata.org/bokeh/release/bokeh-widgets-0.12.3.min.css\");\n",
       "    }\n",
       "  ];\n",
       "\n",
       "  function run_inline_js() {\n",
       "    \n",
       "    if ((window.Bokeh !== undefined) || (force === \"1\")) {\n",
       "      for (var i = 0; i < inline_js.length; i++) {\n",
       "        inline_js[i](window.Bokeh);\n",
       "      }if (force === \"1\") {\n",
       "        display_loaded();\n",
       "      }} else if (Date.now() < window._bokeh_timeout) {\n",
       "      setTimeout(run_inline_js, 100);\n",
       "    } else if (!window._bokeh_failed_load) {\n",
       "      console.log(\"Bokeh: BokehJS failed to load within specified timeout.\");\n",
       "      window._bokeh_failed_load = true;\n",
       "    } else if (!force) {\n",
       "      var cell = $(\"#0ea739a8-f701-4799-9187-aa6c58700704\").parents('.cell').data().cell;\n",
       "      cell.output_area.append_execute_result(NB_LOAD_WARNING)\n",
       "    }\n",
       "\n",
       "  }\n",
       "\n",
       "  if (window._bokeh_is_loading === 0) {\n",
       "    console.log(\"Bokeh: BokehJS loaded, going straight to plotting\");\n",
       "    run_inline_js();\n",
       "  } else {\n",
       "    load_libs(js_urls, function() {\n",
       "      console.log(\"Bokeh: BokehJS plotting callback run at\", now());\n",
       "      run_inline_js();\n",
       "    });\n",
       "  }\n",
       "}(this));"
      ]
     },
     "metadata": {},
     "output_type": "display_data"
    },
    {
     "data": {
      "text/html": [
       "\n",
       "\n",
       "    <div class=\"bk-root\">\n",
       "        <div class=\"plotdiv\" id=\"a3a535b0-0dde-4a32-b487-9df9457e8c5f\"></div>\n",
       "    </div>\n",
       "<script type=\"text/javascript\">\n",
       "  \n",
       "  (function(global) {\n",
       "    function now() {\n",
       "      return new Date();\n",
       "    }\n",
       "  \n",
       "    var force = \"\";\n",
       "  \n",
       "    if (typeof (window._bokeh_onload_callbacks) === \"undefined\" || force !== \"\") {\n",
       "      window._bokeh_onload_callbacks = [];\n",
       "      window._bokeh_is_loading = undefined;\n",
       "    }\n",
       "  \n",
       "  \n",
       "    \n",
       "    if (typeof (window._bokeh_timeout) === \"undefined\" || force !== \"\") {\n",
       "      window._bokeh_timeout = Date.now() + 0;\n",
       "      window._bokeh_failed_load = false;\n",
       "    }\n",
       "  \n",
       "    var NB_LOAD_WARNING = {'data': {'text/html':\n",
       "       \"<div style='background-color: #fdd'>\\n\"+\n",
       "       \"<p>\\n\"+\n",
       "       \"BokehJS does not appear to have successfully loaded. If loading BokehJS from CDN, this \\n\"+\n",
       "       \"may be due to a slow or bad network connection. Possible fixes:\\n\"+\n",
       "       \"</p>\\n\"+\n",
       "       \"<ul>\\n\"+\n",
       "       \"<li>re-rerun `output_notebook()` to attempt to load from CDN again, or</li>\\n\"+\n",
       "       \"<li>use INLINE resources instead, as so:</li>\\n\"+\n",
       "       \"</ul>\\n\"+\n",
       "       \"<code>\\n\"+\n",
       "       \"from bokeh.resources import INLINE\\n\"+\n",
       "       \"output_notebook(resources=INLINE)\\n\"+\n",
       "       \"</code>\\n\"+\n",
       "       \"</div>\"}};\n",
       "  \n",
       "    function display_loaded() {\n",
       "      if (window.Bokeh !== undefined) {\n",
       "        Bokeh.$(\"#a3a535b0-0dde-4a32-b487-9df9457e8c5f\").text(\"BokehJS successfully loaded.\");\n",
       "      } else if (Date.now() < window._bokeh_timeout) {\n",
       "        setTimeout(display_loaded, 100)\n",
       "      }\n",
       "    }\n",
       "  \n",
       "    function run_callbacks() {\n",
       "      window._bokeh_onload_callbacks.forEach(function(callback) { callback() });\n",
       "      delete window._bokeh_onload_callbacks\n",
       "      console.info(\"Bokeh: all callbacks have finished\");\n",
       "    }\n",
       "  \n",
       "    function load_libs(js_urls, callback) {\n",
       "      window._bokeh_onload_callbacks.push(callback);\n",
       "      if (window._bokeh_is_loading > 0) {\n",
       "        console.log(\"Bokeh: BokehJS is being loaded, scheduling callback at\", now());\n",
       "        return null;\n",
       "      }\n",
       "      if (js_urls == null || js_urls.length === 0) {\n",
       "        run_callbacks();\n",
       "        return null;\n",
       "      }\n",
       "      console.log(\"Bokeh: BokehJS not loaded, scheduling load and callback at\", now());\n",
       "      window._bokeh_is_loading = js_urls.length;\n",
       "      for (var i = 0; i < js_urls.length; i++) {\n",
       "        var url = js_urls[i];\n",
       "        var s = document.createElement('script');\n",
       "        s.src = url;\n",
       "        s.async = false;\n",
       "        s.onreadystatechange = s.onload = function() {\n",
       "          window._bokeh_is_loading--;\n",
       "          if (window._bokeh_is_loading === 0) {\n",
       "            console.log(\"Bokeh: all BokehJS libraries loaded\");\n",
       "            run_callbacks()\n",
       "          }\n",
       "        };\n",
       "        s.onerror = function() {\n",
       "          console.warn(\"failed to load library \" + url);\n",
       "        };\n",
       "        console.log(\"Bokeh: injecting script tag for BokehJS library: \", url);\n",
       "        document.getElementsByTagName(\"head\")[0].appendChild(s);\n",
       "      }\n",
       "    };var element = document.getElementById(\"a3a535b0-0dde-4a32-b487-9df9457e8c5f\");\n",
       "    if (element == null) {\n",
       "      console.log(\"Bokeh: ERROR: autoload.js configured with elementid 'a3a535b0-0dde-4a32-b487-9df9457e8c5f' but no matching script tag was found. \")\n",
       "      return false;\n",
       "    }\n",
       "  \n",
       "    var js_urls = [];\n",
       "  \n",
       "    var inline_js = [\n",
       "      function(Bokeh) {\n",
       "        Bokeh.$(function() {\n",
       "            var docs_json = {\"079218f9-2a78-42a3-ba00-66c54d07b1c0\":{\"roots\":{\"references\":[{\"attributes\":{\"data_source\":{\"id\":\"28baf0fb-91cf-4aee-a4ce-382e90c4f9d4\",\"type\":\"ColumnDataSource\"},\"glyph\":{\"id\":\"f99db9ef-fcd8-431c-b2ae-37e4a640a09e\",\"type\":\"Rect\"},\"hover_glyph\":null,\"nonselection_glyph\":null,\"selection_glyph\":null},\"id\":\"f7eb7448-b8ed-44c3-b4e9-cad125a3f0c1\",\"type\":\"GlyphRenderer\"},{\"attributes\":{\"callback\":null,\"column_names\":[\"x\",\"y\",\"values\"],\"data\":{\"Correlation\":[\"(0.5, 0.7]\",\"(0.5, 0.7]\",\"(0.5, 0.7]\",\"(0.5, 0.7]\"],\"chart_index\":[{\"Correlation\":\"(0.5, 0.7]\"},{\"Correlation\":\"(0.5, 0.7]\"},{\"Correlation\":\"(0.5, 0.7]\"},{\"Correlation\":\"(0.5, 0.7]\"}],\"values\":[0.5766946204146365,0.5082122723440646,0.6246765048174137,0.6214920904836423],\"x\":[\"(100) Grain Size\",\"Herman's Orientation Factor\",\"Exciton Bandwidth\",\"Decay Length\"],\"y\":[\"Son. + 2-MP\",\"Son. + Aging\",\"UV + Slide\",\"UV + Slide\"]}},\"id\":\"8f17e4a2-c0ca-4119-aceb-9e231bffd215\",\"type\":\"ColumnDataSource\"},{\"attributes\":{\"below\":[{\"id\":\"0ac961f6-8097-4990-9410-745fa0a25695\",\"type\":\"CategoricalAxis\"}],\"height\":500,\"left\":[{\"id\":\"96109ff0-4f12-4457-b5fb-e37387022ab9\",\"type\":\"CategoricalAxis\"}],\"renderers\":[{\"id\":\"c7241739-384f-4b7a-9ac6-131d4181e199\",\"type\":\"BoxAnnotation\"},{\"id\":\"74f877f6-798f-473f-90c5-04fd498567a7\",\"type\":\"GlyphRenderer\"},{\"id\":\"f7eb7448-b8ed-44c3-b4e9-cad125a3f0c1\",\"type\":\"GlyphRenderer\"},{\"id\":\"84278ab4-7008-48a1-b693-e59fd86dbfd1\",\"type\":\"GlyphRenderer\"},{\"id\":\"47c45dfc-9cd0-471a-8786-4f02843639d7\",\"type\":\"GlyphRenderer\"},{\"id\":\"f56aac8c-0445-47e9-8ae3-243875c8cbc4\",\"type\":\"GlyphRenderer\"},{\"id\":\"4d72c06d-4d8b-462a-84aa-ffe3c5fe0b29\",\"type\":\"GlyphRenderer\"},{\"id\":\"73ccbabf-e3a9-4b69-99db-86865b70ee4d\",\"type\":\"Legend\"},{\"id\":\"0ac961f6-8097-4990-9410-745fa0a25695\",\"type\":\"CategoricalAxis\"},{\"id\":\"96109ff0-4f12-4457-b5fb-e37387022ab9\",\"type\":\"CategoricalAxis\"}],\"title\":{\"id\":\"db907ba0-ffed-44db-943d-a07d510bf438\",\"type\":\"Title\"},\"tool_events\":{\"id\":\"99fc1f70-fcda-441e-85b4-019137230faa\",\"type\":\"ToolEvents\"},\"toolbar\":{\"id\":\"3b6925e8-e25b-4c03-8612-69920a4d79a1\",\"type\":\"Toolbar\"},\"width\":700,\"x_mapper_type\":\"auto\",\"x_range\":{\"id\":\"77e4f3f8-803c-4ae3-a348-43d47897c8df\",\"type\":\"FactorRange\"},\"y_mapper_type\":\"auto\",\"y_range\":{\"id\":\"9cde0749-6af1-43c5-80c4-ba9e858b06d0\",\"type\":\"FactorRange\"}},\"id\":\"d4c79e18-0dd2-4f40-b89b-96c33d74c47b\",\"subtype\":\"Chart\",\"type\":\"Plot\"},{\"attributes\":{\"plot\":{\"id\":\"d4c79e18-0dd2-4f40-b89b-96c33d74c47b\",\"subtype\":\"Chart\",\"type\":\"Plot\"}},\"id\":\"28c5b02e-adb4-4b4c-9a72-04881d60812c\",\"type\":\"PanTool\"},{\"attributes\":{\"callback\":null,\"column_names\":[\"x\",\"y\",\"values\"],\"data\":{\"Correlation\":[\"(0.7, 0.8]\",\"(0.7, 0.8]\",\"(0.7, 0.8]\",\"(0.7, 0.8]\"],\"chart_index\":[{\"Correlation\":\"(0.7, 0.8]\"},{\"Correlation\":\"(0.7, 0.8]\"},{\"Correlation\":\"(0.7, 0.8]\"},{\"Correlation\":\"(0.7, 0.8]\"}],\"values\":[0.6816800491824307,0.7628168839296435,0.7825343824332613,0.7240209393556506],\"x\":[\"(100) Grain Size\",\"Decay Length\",\"Fiber Alignment (S2D)\",\"(100) Grain Size\"],\"y\":[\"Son. + Aging\",\"MF + UV\",\"UV + Slide\",\"UV + Slide\"]}},\"id\":\"28baf0fb-91cf-4aee-a4ce-382e90c4f9d4\",\"type\":\"ColumnDataSource\"},{\"attributes\":{\"label\":{\"value\":\"(0.3, 0.5]\"},\"renderers\":[{\"id\":\"47c45dfc-9cd0-471a-8786-4f02843639d7\",\"type\":\"GlyphRenderer\"}]},\"id\":\"870c94fa-8ef6-4560-8d23-1f8f0aa71376\",\"type\":\"LegendItem\"},{\"attributes\":{\"data_source\":{\"id\":\"581304f0-a8aa-42ac-9a81-86a17c02bb20\",\"type\":\"ColumnDataSource\"},\"glyph\":{\"id\":\"856113bc-fe27-46de-987a-ce357bfaf960\",\"type\":\"Rect\"},\"hover_glyph\":null,\"nonselection_glyph\":null,\"selection_glyph\":null},\"id\":\"f56aac8c-0445-47e9-8ae3-243875c8cbc4\",\"type\":\"GlyphRenderer\"},{\"attributes\":{\"dilate\":true,\"fill_color\":{\"value\":\"#08519c\"},\"height\":{\"units\":\"data\",\"value\":0.95},\"line_color\":{\"value\":\"#08519c\"},\"width\":{\"units\":\"data\",\"value\":0.95},\"x\":{\"field\":\"x\"},\"y\":{\"field\":\"y\"}},\"id\":\"1c691c97-cea6-486e-ac6e-641fac70d813\",\"type\":\"Rect\"},{\"attributes\":{\"callback\":null,\"column_names\":[\"x\",\"y\",\"values\"],\"data\":{\"Correlation\":[\"[-0.001, 0.2]\",\"[-0.001, 0.2]\",\"[-0.001, 0.2]\",\"[-0.001, 0.2]\",\"[-0.001, 0.2]\",\"[-0.001, 0.2]\",\"[-0.001, 0.2]\",\"[-0.001, 0.2]\",\"[-0.001, 0.2]\",\"[-0.001, 0.2]\",\"[-0.001, 0.2]\",\"[-0.001, 0.2]\"],\"chart_index\":[{\"Correlation\":\"[-0.001, 0.2]\"},{\"Correlation\":\"[-0.001, 0.2]\"},{\"Correlation\":\"[-0.001, 0.2]\"},{\"Correlation\":\"[-0.001, 0.2]\"},{\"Correlation\":\"[-0.001, 0.2]\"},{\"Correlation\":\"[-0.001, 0.2]\"},{\"Correlation\":\"[-0.001, 0.2]\"},{\"Correlation\":\"[-0.001, 0.2]\"},{\"Correlation\":\"[-0.001, 0.2]\"},{\"Correlation\":\"[-0.001, 0.2]\"},{\"Correlation\":\"[-0.001, 0.2]\"},{\"Correlation\":\"[-0.001, 0.2]\"}],\"values\":[0.00847655544374872,0.030815929929324824,0.0,0.0,0.0,0.0,0.0,0.0004929393801456047,0.0,0.0,0.0,0.0],\"x\":[\"% Aggregates\",\"Exciton Bandwidth\",\"Herman's Orientation Factor\",\"Fiber Alignment (S2D)\",\"Decay Length\",\"(100) Grain Size\",\"Herman's Orientation Factor\",\"% Aggregates\",\"% Aggregates\",\"(100) Grain Size\",\"% Aggregates\",\"Herman's Orientation Factor\"],\"y\":[\"Son. + 2-MP\",\"Son. + 2-MP\",\"Son. + 2-MP\",\"Son. + UV\",\"Son. + UV\",\"Son. + UV\",\"Son. + UV\",\"Son. + Aging\",\"MF + UV\",\"MF + UV\",\"UV + Slide\",\"UV + Slide\"]}},\"id\":\"2f569cb4-7bac-4dda-a9d7-e095f00ada2c\",\"type\":\"ColumnDataSource\"},{\"attributes\":{\"dilate\":true,\"fill_color\":{\"value\":\"#eff3ff\"},\"height\":{\"units\":\"data\",\"value\":0.95},\"line_color\":{\"value\":\"#eff3ff\"},\"width\":{\"units\":\"data\",\"value\":0.95},\"x\":{\"field\":\"x\"},\"y\":{\"field\":\"y\"}},\"id\":\"fbf3b4f1-b8f8-4af2-a6b3-ab9d438310e3\",\"type\":\"Rect\"},{\"attributes\":{\"dilate\":true,\"fill_color\":{\"value\":\"#9ecae1\"},\"height\":{\"units\":\"data\",\"value\":0.95},\"line_color\":{\"value\":\"#9ecae1\"},\"width\":{\"units\":\"data\",\"value\":0.95},\"x\":{\"field\":\"x\"},\"y\":{\"field\":\"y\"}},\"id\":\"c794fe00-74f4-4488-8ab3-9e3bf91bc1ad\",\"type\":\"Rect\"},{\"attributes\":{\"label\":{\"value\":\"(0.8, 1]\"},\"renderers\":[{\"id\":\"74f877f6-798f-473f-90c5-04fd498567a7\",\"type\":\"GlyphRenderer\"}]},\"id\":\"c2d2ff01-7932-4cb3-8a66-534c5c2d032e\",\"type\":\"LegendItem\"},{\"attributes\":{\"callback\":null,\"factors\":[\"Son. + 2-MP\",\"Son. + UV\",\"Son. + Aging\",\"MF + UV\",\"UV + Slide\"]},\"id\":\"9cde0749-6af1-43c5-80c4-ba9e858b06d0\",\"type\":\"FactorRange\"},{\"attributes\":{\"callback\":null,\"factors\":[\"% Aggregates\",\"Exciton Bandwidth\",\"Fiber Alignment (S2D)\",\"Decay Length\",\"(100) Grain Size\",\"Herman's Orientation Factor\"]},\"id\":\"77e4f3f8-803c-4ae3-a348-43d47897c8df\",\"type\":\"FactorRange\"},{\"attributes\":{\"active_drag\":\"auto\",\"active_scroll\":\"auto\",\"active_tap\":\"auto\",\"tools\":[{\"id\":\"28c5b02e-adb4-4b4c-9a72-04881d60812c\",\"type\":\"PanTool\"},{\"id\":\"c5fb0483-8e6c-4002-8a6d-f3b67de37e7d\",\"type\":\"WheelZoomTool\"},{\"id\":\"09bcf4af-b4ac-4141-ab6b-535f36d79c42\",\"type\":\"BoxZoomTool\"},{\"id\":\"a6a89596-bc7e-49f9-8db1-15d1e168dfe8\",\"type\":\"SaveTool\"},{\"id\":\"e858ca8e-ad1a-47e0-8731-b4376ba77cd3\",\"type\":\"ResetTool\"},{\"id\":\"9955ff41-91c3-4953-ab9c-6c662dba1220\",\"type\":\"HelpTool\"}]},\"id\":\"3b6925e8-e25b-4c03-8612-69920a4d79a1\",\"type\":\"Toolbar\"},{\"attributes\":{\"dilate\":true,\"fill_color\":{\"value\":\"#6baed6\"},\"height\":{\"units\":\"data\",\"value\":0.95},\"line_color\":{\"value\":\"#6baed6\"},\"width\":{\"units\":\"data\",\"value\":0.95},\"x\":{\"field\":\"x\"},\"y\":{\"field\":\"y\"}},\"id\":\"925e7b9d-553d-4ba8-a1e2-09d6a31dcd65\",\"type\":\"Rect\"},{\"attributes\":{},\"id\":\"99fc1f70-fcda-441e-85b4-019137230faa\",\"type\":\"ToolEvents\"},{\"attributes\":{\"data_source\":{\"id\":\"c40f62d8-2bc1-4851-97b2-f7f3c620746c\",\"type\":\"ColumnDataSource\"},\"glyph\":{\"id\":\"1c691c97-cea6-486e-ac6e-641fac70d813\",\"type\":\"Rect\"},\"hover_glyph\":null,\"nonselection_glyph\":null,\"selection_glyph\":null},\"id\":\"74f877f6-798f-473f-90c5-04fd498567a7\",\"type\":\"GlyphRenderer\"},{\"attributes\":{\"dilate\":true,\"fill_color\":{\"value\":\"#c6dbef\"},\"height\":{\"units\":\"data\",\"value\":0.95},\"line_color\":{\"value\":\"#c6dbef\"},\"width\":{\"units\":\"data\",\"value\":0.95},\"x\":{\"field\":\"x\"},\"y\":{\"field\":\"y\"}},\"id\":\"856113bc-fe27-46de-987a-ce357bfaf960\",\"type\":\"Rect\"},{\"attributes\":{\"plot\":{\"id\":\"d4c79e18-0dd2-4f40-b89b-96c33d74c47b\",\"subtype\":\"Chart\",\"type\":\"Plot\"}},\"id\":\"c5fb0483-8e6c-4002-8a6d-f3b67de37e7d\",\"type\":\"WheelZoomTool\"},{\"attributes\":{},\"id\":\"bc4bbc11-42d5-436f-85dc-d946b2a1e55a\",\"type\":\"CategoricalTickFormatter\"},{\"attributes\":{\"items\":[{\"id\":\"c2d2ff01-7932-4cb3-8a66-534c5c2d032e\",\"type\":\"LegendItem\"},{\"id\":\"7f72e698-e12f-4bb5-b33d-24cdc7613a2f\",\"type\":\"LegendItem\"},{\"id\":\"459642f4-5997-44bf-ac39-3e192f2e7fb4\",\"type\":\"LegendItem\"},{\"id\":\"870c94fa-8ef6-4560-8d23-1f8f0aa71376\",\"type\":\"LegendItem\"},{\"id\":\"a5ef60ff-c103-4d8e-bf70-cc9cf7dd1b38\",\"type\":\"LegendItem\"},{\"id\":\"eb0352f4-38ba-4abc-8c0d-3e0486c6402b\",\"type\":\"LegendItem\"}],\"location\":\"top_left\",\"plot\":{\"id\":\"d4c79e18-0dd2-4f40-b89b-96c33d74c47b\",\"subtype\":\"Chart\",\"type\":\"Plot\"}},\"id\":\"73ccbabf-e3a9-4b69-99db-86865b70ee4d\",\"type\":\"Legend\"},{\"attributes\":{\"plot\":{\"id\":\"d4c79e18-0dd2-4f40-b89b-96c33d74c47b\",\"subtype\":\"Chart\",\"type\":\"Plot\"}},\"id\":\"e858ca8e-ad1a-47e0-8731-b4376ba77cd3\",\"type\":\"ResetTool\"},{\"attributes\":{},\"id\":\"e88aa0ec-ddac-4b2c-b432-518db9ae5330\",\"type\":\"CategoricalTickFormatter\"},{\"attributes\":{\"plot\":{\"id\":\"d4c79e18-0dd2-4f40-b89b-96c33d74c47b\",\"subtype\":\"Chart\",\"type\":\"Plot\"}},\"id\":\"a6a89596-bc7e-49f9-8db1-15d1e168dfe8\",\"type\":\"SaveTool\"},{\"attributes\":{\"label\":{\"value\":\"(0.7, 0.8]\"},\"renderers\":[{\"id\":\"f7eb7448-b8ed-44c3-b4e9-cad125a3f0c1\",\"type\":\"GlyphRenderer\"}]},\"id\":\"7f72e698-e12f-4bb5-b33d-24cdc7613a2f\",\"type\":\"LegendItem\"},{\"attributes\":{\"dilate\":true,\"fill_color\":{\"value\":\"#3182bd\"},\"height\":{\"units\":\"data\",\"value\":0.95},\"line_color\":{\"value\":\"#3182bd\"},\"width\":{\"units\":\"data\",\"value\":0.95},\"x\":{\"field\":\"x\"},\"y\":{\"field\":\"y\"}},\"id\":\"f99db9ef-fcd8-431c-b2ae-37e4a640a09e\",\"type\":\"Rect\"},{\"attributes\":{\"label\":{\"value\":\"(0.5, 0.7]\"},\"renderers\":[{\"id\":\"84278ab4-7008-48a1-b693-e59fd86dbfd1\",\"type\":\"GlyphRenderer\"}]},\"id\":\"459642f4-5997-44bf-ac39-3e192f2e7fb4\",\"type\":\"LegendItem\"},{\"attributes\":{\"axis_label\":\"Structural Metric\",\"formatter\":{\"id\":\"e88aa0ec-ddac-4b2c-b432-518db9ae5330\",\"type\":\"CategoricalTickFormatter\"},\"major_label_orientation\":0.7853981633974483,\"plot\":{\"id\":\"d4c79e18-0dd2-4f40-b89b-96c33d74c47b\",\"subtype\":\"Chart\",\"type\":\"Plot\"},\"ticker\":{\"id\":\"62d5ddfe-c9ee-47d2-a914-6cf28899811e\",\"type\":\"CategoricalTicker\"}},\"id\":\"0ac961f6-8097-4990-9410-745fa0a25695\",\"type\":\"CategoricalAxis\"},{\"attributes\":{\"axis_label\":\"Process\",\"formatter\":{\"id\":\"bc4bbc11-42d5-436f-85dc-d946b2a1e55a\",\"type\":\"CategoricalTickFormatter\"},\"major_label_orientation\":0.7853981633974483,\"plot\":{\"id\":\"d4c79e18-0dd2-4f40-b89b-96c33d74c47b\",\"subtype\":\"Chart\",\"type\":\"Plot\"},\"ticker\":{\"id\":\"bf325b90-e73c-49e4-bdf3-4b83d594fd41\",\"type\":\"CategoricalTicker\"}},\"id\":\"96109ff0-4f12-4457-b5fb-e37387022ab9\",\"type\":\"CategoricalAxis\"},{\"attributes\":{\"callback\":null,\"column_names\":[\"x\",\"y\",\"values\"],\"data\":{\"Correlation\":[\"(0.8, 1]\",\"(0.8, 1]\",\"(0.8, 1]\",\"(0.8, 1]\",\"(0.8, 1]\"],\"chart_index\":[{\"Correlation\":\"(0.8, 1]\"},{\"Correlation\":\"(0.8, 1]\"},{\"Correlation\":\"(0.8, 1]\"},{\"Correlation\":\"(0.8, 1]\"},{\"Correlation\":\"(0.8, 1]\"}],\"values\":[0.8872365673937579,0.9018035638376618,0.9806421921658207,0.8955565339607893,0.9516351976389892],\"x\":[\"% Aggregates\",\"Exciton Bandwidth\",\"Exciton Bandwidth\",\"Fiber Alignment (S2D)\",\"Herman's Orientation Factor\"],\"y\":[\"Son. + UV\",\"Son. + UV\",\"MF + UV\",\"MF + UV\",\"MF + UV\"]}},\"id\":\"c40f62d8-2bc1-4851-97b2-f7f3c620746c\",\"type\":\"ColumnDataSource\"},{\"attributes\":{\"data_source\":{\"id\":\"2f569cb4-7bac-4dda-a9d7-e095f00ada2c\",\"type\":\"ColumnDataSource\"},\"glyph\":{\"id\":\"fbf3b4f1-b8f8-4af2-a6b3-ab9d438310e3\",\"type\":\"Rect\"},\"hover_glyph\":null,\"nonselection_glyph\":null,\"selection_glyph\":null},\"id\":\"4d72c06d-4d8b-462a-84aa-ffe3c5fe0b29\",\"type\":\"GlyphRenderer\"},{\"attributes\":{\"plot\":null,\"text\":null},\"id\":\"db907ba0-ffed-44db-943d-a07d510bf438\",\"type\":\"Title\"},{\"attributes\":{\"callback\":null,\"column_names\":[\"x\",\"y\",\"values\"],\"data\":{\"Correlation\":[\"(0.3, 0.5]\",\"(0.3, 0.5]\"],\"chart_index\":[{\"Correlation\":\"(0.3, 0.5]\"},{\"Correlation\":\"(0.3, 0.5]\"}],\"values\":[0.45384377861196995,0.4589780650488949],\"x\":[\"Exciton Bandwidth\",\"Decay Length\"],\"y\":[\"Son. + Aging\",\"Son. + Aging\"]}},\"id\":\"a93c958d-5086-4a8c-878c-3fdb71a4d58e\",\"type\":\"ColumnDataSource\"},{\"attributes\":{\"label\":{\"value\":\"[-0.001, 0.2]\"},\"renderers\":[{\"id\":\"4d72c06d-4d8b-462a-84aa-ffe3c5fe0b29\",\"type\":\"GlyphRenderer\"}]},\"id\":\"eb0352f4-38ba-4abc-8c0d-3e0486c6402b\",\"type\":\"LegendItem\"},{\"attributes\":{},\"id\":\"bf325b90-e73c-49e4-bdf3-4b83d594fd41\",\"type\":\"CategoricalTicker\"},{\"attributes\":{},\"id\":\"62d5ddfe-c9ee-47d2-a914-6cf28899811e\",\"type\":\"CategoricalTicker\"},{\"attributes\":{\"callback\":null,\"column_names\":[\"x\",\"y\",\"values\"],\"data\":{\"Correlation\":[\"(0.2, 0.3]\",\"(0.2, 0.3]\",\"(0.2, 0.3]\"],\"chart_index\":[{\"Correlation\":\"(0.2, 0.3]\"},{\"Correlation\":\"(0.2, 0.3]\"},{\"Correlation\":\"(0.2, 0.3]\"}],\"values\":[0.3250982823292203,0.31930850192032706,0.2724430141393429],\"x\":[\"Fiber Alignment (S2D)\",\"Decay Length\",\"Fiber Alignment (S2D)\"],\"y\":[\"Son. + 2-MP\",\"Son. + 2-MP\",\"Son. + Aging\"]}},\"id\":\"581304f0-a8aa-42ac-9a81-86a17c02bb20\",\"type\":\"ColumnDataSource\"},{\"attributes\":{\"plot\":{\"id\":\"d4c79e18-0dd2-4f40-b89b-96c33d74c47b\",\"subtype\":\"Chart\",\"type\":\"Plot\"}},\"id\":\"9955ff41-91c3-4953-ab9c-6c662dba1220\",\"type\":\"HelpTool\"},{\"attributes\":{\"data_source\":{\"id\":\"8f17e4a2-c0ca-4119-aceb-9e231bffd215\",\"type\":\"ColumnDataSource\"},\"glyph\":{\"id\":\"925e7b9d-553d-4ba8-a1e2-09d6a31dcd65\",\"type\":\"Rect\"},\"hover_glyph\":null,\"nonselection_glyph\":null,\"selection_glyph\":null},\"id\":\"84278ab4-7008-48a1-b693-e59fd86dbfd1\",\"type\":\"GlyphRenderer\"},{\"attributes\":{\"overlay\":{\"id\":\"c7241739-384f-4b7a-9ac6-131d4181e199\",\"type\":\"BoxAnnotation\"},\"plot\":{\"id\":\"d4c79e18-0dd2-4f40-b89b-96c33d74c47b\",\"subtype\":\"Chart\",\"type\":\"Plot\"}},\"id\":\"09bcf4af-b4ac-4141-ab6b-535f36d79c42\",\"type\":\"BoxZoomTool\"},{\"attributes\":{\"data_source\":{\"id\":\"a93c958d-5086-4a8c-878c-3fdb71a4d58e\",\"type\":\"ColumnDataSource\"},\"glyph\":{\"id\":\"c794fe00-74f4-4488-8ab3-9e3bf91bc1ad\",\"type\":\"Rect\"},\"hover_glyph\":null,\"nonselection_glyph\":null,\"selection_glyph\":null},\"id\":\"47c45dfc-9cd0-471a-8786-4f02843639d7\",\"type\":\"GlyphRenderer\"},{\"attributes\":{\"label\":{\"value\":\"(0.2, 0.3]\"},\"renderers\":[{\"id\":\"f56aac8c-0445-47e9-8ae3-243875c8cbc4\",\"type\":\"GlyphRenderer\"}]},\"id\":\"a5ef60ff-c103-4d8e-bf70-cc9cf7dd1b38\",\"type\":\"LegendItem\"},{\"attributes\":{\"bottom_units\":\"screen\",\"fill_alpha\":{\"value\":0.5},\"fill_color\":{\"value\":\"lightgrey\"},\"left_units\":\"screen\",\"level\":\"overlay\",\"line_alpha\":{\"value\":1.0},\"line_color\":{\"value\":\"black\"},\"line_dash\":[4,4],\"line_width\":{\"value\":2},\"plot\":null,\"render_mode\":\"css\",\"right_units\":\"screen\",\"top_units\":\"screen\"},\"id\":\"c7241739-384f-4b7a-9ac6-131d4181e199\",\"type\":\"BoxAnnotation\"}],\"root_ids\":[\"d4c79e18-0dd2-4f40-b89b-96c33d74c47b\"]},\"title\":\"Bokeh Application\",\"version\":\"0.12.3\"}};\n",
       "            var render_items = [{\"docid\":\"079218f9-2a78-42a3-ba00-66c54d07b1c0\",\"elementid\":\"a3a535b0-0dde-4a32-b487-9df9457e8c5f\",\"modelid\":\"d4c79e18-0dd2-4f40-b89b-96c33d74c47b\"}];\n",
       "            \n",
       "            Bokeh.embed.embed_items(docs_json, render_items);\n",
       "        });\n",
       "      },\n",
       "      function(Bokeh) {\n",
       "      }\n",
       "    ];\n",
       "  \n",
       "    function run_inline_js() {\n",
       "      \n",
       "      if ((window.Bokeh !== undefined) || (force === \"1\")) {\n",
       "        for (var i = 0; i < inline_js.length; i++) {\n",
       "          inline_js[i](window.Bokeh);\n",
       "        }if (force === \"1\") {\n",
       "          display_loaded();\n",
       "        }} else if (Date.now() < window._bokeh_timeout) {\n",
       "        setTimeout(run_inline_js, 100);\n",
       "      } else if (!window._bokeh_failed_load) {\n",
       "        console.log(\"Bokeh: BokehJS failed to load within specified timeout.\");\n",
       "        window._bokeh_failed_load = true;\n",
       "      } else if (!force) {\n",
       "        var cell = $(\"#a3a535b0-0dde-4a32-b487-9df9457e8c5f\").parents('.cell').data().cell;\n",
       "        cell.output_area.append_execute_result(NB_LOAD_WARNING)\n",
       "      }\n",
       "  \n",
       "    }\n",
       "  \n",
       "    if (window._bokeh_is_loading === 0) {\n",
       "      console.log(\"Bokeh: BokehJS loaded, going straight to plotting\");\n",
       "      run_inline_js();\n",
       "    } else {\n",
       "      load_libs(js_urls, function() {\n",
       "        console.log(\"Bokeh: BokehJS plotting callback run at\", now());\n",
       "        run_inline_js();\n",
       "      });\n",
       "    }\n",
       "  }(this));\n",
       "</script>"
      ]
     },
     "metadata": {},
     "output_type": "display_data"
    }
   ],
   "source": [
    "from bokeh.charts import HeatMap, output_file, show\n",
    "from bokeh.palettes import BuGn9 as palette\n",
    "\n",
    "output_notebook()\n",
    "\n",
    "palette = palette[::-1]  # Reverse the color order so dark red is highest unemployment\n",
    "hm = HeatMap(corr_data,\n",
    "             x='Structural Metric',\n",
    "             y='Process',\n",
    "             values='Correlation',\n",
    "             stat=None,\n",
    "             width=700,\n",
    "             height=500,\n",
    "             legend=True\n",
    "            )\n",
    "\n",
    "show(hm)"
   ]
  },
  {
   "cell_type": "code",
   "execution_count": 10,
   "metadata": {
    "collapsed": false,
    "scrolled": true
   },
   "outputs": [
    {
     "data": {
      "text/html": [
       "\n",
       "\n",
       "    <div class=\"bk-root\">\n",
       "        <div class=\"plotdiv\" id=\"c961263d-6902-4836-bb4f-e40daa6b9bd5\"></div>\n",
       "    </div>\n",
       "<script type=\"text/javascript\">\n",
       "  \n",
       "  (function(global) {\n",
       "    function now() {\n",
       "      return new Date();\n",
       "    }\n",
       "  \n",
       "    var force = \"\";\n",
       "  \n",
       "    if (typeof (window._bokeh_onload_callbacks) === \"undefined\" || force !== \"\") {\n",
       "      window._bokeh_onload_callbacks = [];\n",
       "      window._bokeh_is_loading = undefined;\n",
       "    }\n",
       "  \n",
       "  \n",
       "    \n",
       "    if (typeof (window._bokeh_timeout) === \"undefined\" || force !== \"\") {\n",
       "      window._bokeh_timeout = Date.now() + 0;\n",
       "      window._bokeh_failed_load = false;\n",
       "    }\n",
       "  \n",
       "    var NB_LOAD_WARNING = {'data': {'text/html':\n",
       "       \"<div style='background-color: #fdd'>\\n\"+\n",
       "       \"<p>\\n\"+\n",
       "       \"BokehJS does not appear to have successfully loaded. If loading BokehJS from CDN, this \\n\"+\n",
       "       \"may be due to a slow or bad network connection. Possible fixes:\\n\"+\n",
       "       \"</p>\\n\"+\n",
       "       \"<ul>\\n\"+\n",
       "       \"<li>re-rerun `output_notebook()` to attempt to load from CDN again, or</li>\\n\"+\n",
       "       \"<li>use INLINE resources instead, as so:</li>\\n\"+\n",
       "       \"</ul>\\n\"+\n",
       "       \"<code>\\n\"+\n",
       "       \"from bokeh.resources import INLINE\\n\"+\n",
       "       \"output_notebook(resources=INLINE)\\n\"+\n",
       "       \"</code>\\n\"+\n",
       "       \"</div>\"}};\n",
       "  \n",
       "    function display_loaded() {\n",
       "      if (window.Bokeh !== undefined) {\n",
       "        Bokeh.$(\"#c961263d-6902-4836-bb4f-e40daa6b9bd5\").text(\"BokehJS successfully loaded.\");\n",
       "      } else if (Date.now() < window._bokeh_timeout) {\n",
       "        setTimeout(display_loaded, 100)\n",
       "      }\n",
       "    }\n",
       "  \n",
       "    function run_callbacks() {\n",
       "      window._bokeh_onload_callbacks.forEach(function(callback) { callback() });\n",
       "      delete window._bokeh_onload_callbacks\n",
       "      console.info(\"Bokeh: all callbacks have finished\");\n",
       "    }\n",
       "  \n",
       "    function load_libs(js_urls, callback) {\n",
       "      window._bokeh_onload_callbacks.push(callback);\n",
       "      if (window._bokeh_is_loading > 0) {\n",
       "        console.log(\"Bokeh: BokehJS is being loaded, scheduling callback at\", now());\n",
       "        return null;\n",
       "      }\n",
       "      if (js_urls == null || js_urls.length === 0) {\n",
       "        run_callbacks();\n",
       "        return null;\n",
       "      }\n",
       "      console.log(\"Bokeh: BokehJS not loaded, scheduling load and callback at\", now());\n",
       "      window._bokeh_is_loading = js_urls.length;\n",
       "      for (var i = 0; i < js_urls.length; i++) {\n",
       "        var url = js_urls[i];\n",
       "        var s = document.createElement('script');\n",
       "        s.src = url;\n",
       "        s.async = false;\n",
       "        s.onreadystatechange = s.onload = function() {\n",
       "          window._bokeh_is_loading--;\n",
       "          if (window._bokeh_is_loading === 0) {\n",
       "            console.log(\"Bokeh: all BokehJS libraries loaded\");\n",
       "            run_callbacks()\n",
       "          }\n",
       "        };\n",
       "        s.onerror = function() {\n",
       "          console.warn(\"failed to load library \" + url);\n",
       "        };\n",
       "        console.log(\"Bokeh: injecting script tag for BokehJS library: \", url);\n",
       "        document.getElementsByTagName(\"head\")[0].appendChild(s);\n",
       "      }\n",
       "    };var element = document.getElementById(\"c961263d-6902-4836-bb4f-e40daa6b9bd5\");\n",
       "    if (element == null) {\n",
       "      console.log(\"Bokeh: ERROR: autoload.js configured with elementid 'c961263d-6902-4836-bb4f-e40daa6b9bd5' but no matching script tag was found. \")\n",
       "      return false;\n",
       "    }\n",
       "  \n",
       "    var js_urls = [];\n",
       "  \n",
       "    var inline_js = [\n",
       "      function(Bokeh) {\n",
       "        Bokeh.$(function() {\n",
       "            var docs_json = {\"8b383b6f-2a59-475a-adc6-4e6b87a636a7\":{\"roots\":{\"references\":[{\"attributes\":{\"data_source\":{\"id\":\"802dd7b0-b1f9-455b-a8d5-9b01f2520891\",\"type\":\"ColumnDataSource\"},\"glyph\":{\"id\":\"c52d7660-5860-4a5c-8b33-dcf986c774f1\",\"type\":\"Rect\"},\"hover_glyph\":null,\"nonselection_glyph\":null,\"selection_glyph\":null},\"id\":\"577af196-a814-4ed0-90f0-eb9af07f66f8\",\"type\":\"GlyphRenderer\"},{\"attributes\":{\"plot\":{\"id\":\"60ee537f-61bb-4f4c-b02c-74114e7ff4f6\",\"subtype\":\"Chart\",\"type\":\"Plot\"}},\"id\":\"40f14de4-e427-4ea0-bc9f-8ff52cc515a8\",\"type\":\"ResetTool\"},{\"attributes\":{\"plot\":null,\"text\":\"Fruits\"},\"id\":\"f19f0e6f-3813-425b-979e-9e5054230d7b\",\"type\":\"Title\"},{\"attributes\":{},\"id\":\"f11e78b3-a1f3-4f05-a5bd-4193825cd8bc\",\"type\":\"BasicTickFormatter\"},{\"attributes\":{},\"id\":\"7efa091e-6c23-4afd-a95a-19e03ed60cf7\",\"type\":\"CategoricalTickFormatter\"},{\"attributes\":{},\"id\":\"3df942c0-6f12-4758-b186-f4e7e4906908\",\"type\":\"CategoricalTicker\"},{\"attributes\":{\"dilate\":true,\"fill_color\":{\"value\":\"#c6dbef\"},\"height\":{\"units\":\"data\",\"value\":0.95},\"line_color\":{\"value\":\"#c6dbef\"},\"width\":{\"units\":\"data\",\"value\":0.95},\"x\":{\"field\":\"x\"},\"y\":{\"field\":\"y\"}},\"id\":\"955ef562-0893-45c0-873c-abb28f7a38a5\",\"type\":\"Rect\"},{\"attributes\":{\"active_drag\":\"auto\",\"active_scroll\":\"auto\",\"active_tap\":\"auto\",\"tools\":[{\"id\":\"c5abd86f-8b50-4d0e-b536-5741495090c1\",\"type\":\"PanTool\"},{\"id\":\"96862444-2350-4c79-8310-c766a9bf7073\",\"type\":\"WheelZoomTool\"},{\"id\":\"e37bec9c-d358-4735-af42-d037767d6a6e\",\"type\":\"BoxZoomTool\"},{\"id\":\"d711e0a6-0e2e-4cc5-9a64-c0af98865b59\",\"type\":\"SaveTool\"},{\"id\":\"40f14de4-e427-4ea0-bc9f-8ff52cc515a8\",\"type\":\"ResetTool\"},{\"id\":\"f0d2cbc9-656e-4b0e-b2a5-0239080f54e6\",\"type\":\"HelpTool\"}]},\"id\":\"afd0137e-88c2-46c7-9f61-18469f6638b2\",\"type\":\"Toolbar\"},{\"attributes\":{},\"id\":\"0797acca-32a1-40f5-8571-b462871ca492\",\"type\":\"BasicTicker\"},{\"attributes\":{\"callback\":null,\"column_names\":[\"x\",\"y\",\"values\"],\"data\":{\"chart_index\":[{\"fruit_count\":\"(6.8, 8]\"}],\"fruit_count\":[\"(6.8, 8]\"],\"values\":[8],\"x\":[\"apples\"],\"y\":[3]}},\"id\":\"694c0894-a90c-46f6-ac52-b4957382b68e\",\"type\":\"ColumnDataSource\"},{\"attributes\":{\"label\":{\"value\":\"[1, 2.2]\"},\"renderers\":[{\"id\":\"cecc0fa5-6f9d-4551-b0dd-8c1b0b2e03f2\",\"type\":\"GlyphRenderer\"}]},\"id\":\"925d7320-dd74-482a-b74f-e8ccedff659f\",\"type\":\"LegendItem\"},{\"attributes\":{\"overlay\":{\"id\":\"8f3568c1-37be-40f3-96e5-47cbaff4c625\",\"type\":\"BoxAnnotation\"},\"plot\":{\"id\":\"60ee537f-61bb-4f4c-b02c-74114e7ff4f6\",\"subtype\":\"Chart\",\"type\":\"Plot\"}},\"id\":\"e37bec9c-d358-4735-af42-d037767d6a6e\",\"type\":\"BoxZoomTool\"},{\"attributes\":{\"dilate\":true,\"fill_color\":{\"value\":\"#9ecae1\"},\"height\":{\"units\":\"data\",\"value\":0.95},\"line_color\":{\"value\":\"#9ecae1\"},\"width\":{\"units\":\"data\",\"value\":0.95},\"x\":{\"field\":\"x\"},\"y\":{\"field\":\"y\"}},\"id\":\"b3b25e1e-6d86-4bf8-9df3-51bcc669ebf9\",\"type\":\"Rect\"},{\"attributes\":{\"callback\":null,\"column_names\":[\"x\",\"y\",\"values\"],\"data\":{\"chart_index\":[{\"fruit_count\":\"(3.3, 4.5]\"},{\"fruit_count\":\"(3.3, 4.5]\"},{\"fruit_count\":\"(3.3, 4.5]\"}],\"fruit_count\":[\"(3.3, 4.5]\",\"(3.3, 4.5]\",\"(3.3, 4.5]\"],\"values\":[4,4,4],\"x\":[\"apples\",\"bananas\",\"pears\"],\"y\":[1,3,3]}},\"id\":\"21e2a020-35e6-470f-a0c9-fb73eac2bd45\",\"type\":\"ColumnDataSource\"},{\"attributes\":{\"label\":{\"value\":\"(4.5, 5.7]\"},\"renderers\":[{\"id\":\"828f3d24-f87a-4a29-a25d-89dd71de2ff6\",\"type\":\"GlyphRenderer\"}]},\"id\":\"169cce3e-65f2-4295-b01f-c556b08e3a48\",\"type\":\"LegendItem\"},{\"attributes\":{},\"id\":\"b0f7fc93-40fe-4c47-b981-5fc25c084e73\",\"type\":\"ToolEvents\"},{\"attributes\":{\"data_source\":{\"id\":\"694c0894-a90c-46f6-ac52-b4957382b68e\",\"type\":\"ColumnDataSource\"},\"glyph\":{\"id\":\"58786e64-ef72-4411-9ce9-244b8c168ef1\",\"type\":\"Rect\"},\"hover_glyph\":null,\"nonselection_glyph\":null,\"selection_glyph\":null},\"id\":\"dce6754e-2e7c-459a-b29f-d5d87e4b4405\",\"type\":\"GlyphRenderer\"},{\"attributes\":{\"dilate\":true,\"fill_color\":{\"value\":\"#6baed6\"},\"height\":{\"units\":\"data\",\"value\":0.95},\"line_color\":{\"value\":\"#6baed6\"},\"width\":{\"units\":\"data\",\"value\":0.95},\"x\":{\"field\":\"x\"},\"y\":{\"field\":\"y\"}},\"id\":\"cbd9867e-29e2-4e8a-beb1-132ea5a5a11c\",\"type\":\"Rect\"},{\"attributes\":{\"callback\":null,\"end\":3.77,\"start\":0.22999999999999998},\"id\":\"ea092767-fe6f-4cbd-a845-dba6f8c5df1d\",\"type\":\"Range1d\"},{\"attributes\":{\"dilate\":true,\"fill_color\":{\"value\":\"#3182bd\"},\"height\":{\"units\":\"data\",\"value\":0.95},\"line_color\":{\"value\":\"#3182bd\"},\"width\":{\"units\":\"data\",\"value\":0.95},\"x\":{\"field\":\"x\"},\"y\":{\"field\":\"y\"}},\"id\":\"c52d7660-5860-4a5c-8b33-dcf986c774f1\",\"type\":\"Rect\"},{\"attributes\":{\"callback\":null,\"column_names\":[\"x\",\"y\",\"values\"],\"data\":{\"chart_index\":[{\"fruit_count\":\"[1, 2.2]\"},{\"fruit_count\":\"[1, 2.2]\"}],\"fruit_count\":[\"[1, 2.2]\",\"[1, 2.2]\"],\"values\":[1,2],\"x\":[\"bananas\",\"bananas\"],\"y\":[1,2]}},\"id\":\"a825ca02-d106-4e99-b244-0faaa6a11b13\",\"type\":\"ColumnDataSource\"},{\"attributes\":{\"data_source\":{\"id\":\"21e2a020-35e6-470f-a0c9-fb73eac2bd45\",\"type\":\"ColumnDataSource\"},\"glyph\":{\"id\":\"b3b25e1e-6d86-4bf8-9df3-51bcc669ebf9\",\"type\":\"Rect\"},\"hover_glyph\":null,\"nonselection_glyph\":null,\"selection_glyph\":null},\"id\":\"a868552a-0b75-4c0b-8c37-b6f0f5cb75c6\",\"type\":\"GlyphRenderer\"},{\"attributes\":{\"plot\":{\"id\":\"60ee537f-61bb-4f4c-b02c-74114e7ff4f6\",\"subtype\":\"Chart\",\"type\":\"Plot\"}},\"id\":\"f0d2cbc9-656e-4b0e-b2a5-0239080f54e6\",\"type\":\"HelpTool\"},{\"attributes\":{\"dilate\":true,\"fill_color\":{\"value\":\"#08519c\"},\"height\":{\"units\":\"data\",\"value\":0.95},\"line_color\":{\"value\":\"#08519c\"},\"width\":{\"units\":\"data\",\"value\":0.95},\"x\":{\"field\":\"x\"},\"y\":{\"field\":\"y\"}},\"id\":\"58786e64-ef72-4411-9ce9-244b8c168ef1\",\"type\":\"Rect\"},{\"attributes\":{\"items\":[{\"id\":\"93e953c5-ab79-4d7d-8e4d-baea0aa4de05\",\"type\":\"LegendItem\"},{\"id\":\"3f843bd7-2436-4da9-ba38-98efae42f61d\",\"type\":\"LegendItem\"},{\"id\":\"169cce3e-65f2-4295-b01f-c556b08e3a48\",\"type\":\"LegendItem\"},{\"id\":\"3d933515-2d0f-4356-ad03-9d7a79f41c9b\",\"type\":\"LegendItem\"},{\"id\":\"925d7320-dd74-482a-b74f-e8ccedff659f\",\"type\":\"LegendItem\"}],\"location\":\"top_left\",\"plot\":{\"id\":\"60ee537f-61bb-4f4c-b02c-74114e7ff4f6\",\"subtype\":\"Chart\",\"type\":\"Plot\"}},\"id\":\"ff674eda-f309-44b1-9f7b-bace5eac2caa\",\"type\":\"Legend\"},{\"attributes\":{\"plot\":{\"id\":\"60ee537f-61bb-4f4c-b02c-74114e7ff4f6\",\"subtype\":\"Chart\",\"type\":\"Plot\"}},\"id\":\"d711e0a6-0e2e-4cc5-9a64-c0af98865b59\",\"type\":\"SaveTool\"},{\"attributes\":{\"callback\":null,\"column_names\":[\"x\",\"y\",\"values\"],\"data\":{\"chart_index\":[{\"fruit_count\":\"(5.7, 6.8]\"}],\"fruit_count\":[\"(5.7, 6.8]\"],\"values\":[6],\"x\":[\"pears\"],\"y\":[1]}},\"id\":\"802dd7b0-b1f9-455b-a8d5-9b01f2520891\",\"type\":\"ColumnDataSource\"},{\"attributes\":{\"bottom_units\":\"screen\",\"fill_alpha\":{\"value\":0.5},\"fill_color\":{\"value\":\"lightgrey\"},\"left_units\":\"screen\",\"level\":\"overlay\",\"line_alpha\":{\"value\":1.0},\"line_color\":{\"value\":\"black\"},\"line_dash\":[4,4],\"line_width\":{\"value\":2},\"plot\":null,\"render_mode\":\"css\",\"right_units\":\"screen\",\"top_units\":\"screen\"},\"id\":\"8f3568c1-37be-40f3-96e5-47cbaff4c625\",\"type\":\"BoxAnnotation\"},{\"attributes\":{\"axis_label\":\"fruit\",\"formatter\":{\"id\":\"7efa091e-6c23-4afd-a95a-19e03ed60cf7\",\"type\":\"CategoricalTickFormatter\"},\"major_label_orientation\":0.7853981633974483,\"plot\":{\"id\":\"60ee537f-61bb-4f4c-b02c-74114e7ff4f6\",\"subtype\":\"Chart\",\"type\":\"Plot\"},\"ticker\":{\"id\":\"3df942c0-6f12-4758-b186-f4e7e4906908\",\"type\":\"CategoricalTicker\"}},\"id\":\"7fc882db-de38-4884-b114-e3becdc17ae3\",\"type\":\"CategoricalAxis\"},{\"attributes\":{\"label\":{\"value\":\"(3.3, 4.5]\"},\"renderers\":[{\"id\":\"a868552a-0b75-4c0b-8c37-b6f0f5cb75c6\",\"type\":\"GlyphRenderer\"}]},\"id\":\"3d933515-2d0f-4356-ad03-9d7a79f41c9b\",\"type\":\"LegendItem\"},{\"attributes\":{\"below\":[{\"id\":\"7fc882db-de38-4884-b114-e3becdc17ae3\",\"type\":\"CategoricalAxis\"}],\"left\":[{\"id\":\"86e1d5ae-fb1a-4cff-9b1c-1ea47cc87eab\",\"type\":\"LinearAxis\"}],\"renderers\":[{\"id\":\"8f3568c1-37be-40f3-96e5-47cbaff4c625\",\"type\":\"BoxAnnotation\"},{\"id\":\"dce6754e-2e7c-459a-b29f-d5d87e4b4405\",\"type\":\"GlyphRenderer\"},{\"id\":\"577af196-a814-4ed0-90f0-eb9af07f66f8\",\"type\":\"GlyphRenderer\"},{\"id\":\"828f3d24-f87a-4a29-a25d-89dd71de2ff6\",\"type\":\"GlyphRenderer\"},{\"id\":\"a868552a-0b75-4c0b-8c37-b6f0f5cb75c6\",\"type\":\"GlyphRenderer\"},{\"id\":\"cecc0fa5-6f9d-4551-b0dd-8c1b0b2e03f2\",\"type\":\"GlyphRenderer\"},{\"id\":\"ff674eda-f309-44b1-9f7b-bace5eac2caa\",\"type\":\"Legend\"},{\"id\":\"7fc882db-de38-4884-b114-e3becdc17ae3\",\"type\":\"CategoricalAxis\"},{\"id\":\"86e1d5ae-fb1a-4cff-9b1c-1ea47cc87eab\",\"type\":\"LinearAxis\"}],\"title\":{\"id\":\"f19f0e6f-3813-425b-979e-9e5054230d7b\",\"type\":\"Title\"},\"tool_events\":{\"id\":\"b0f7fc93-40fe-4c47-b981-5fc25c084e73\",\"type\":\"ToolEvents\"},\"toolbar\":{\"id\":\"afd0137e-88c2-46c7-9f61-18469f6638b2\",\"type\":\"Toolbar\"},\"x_mapper_type\":\"auto\",\"x_range\":{\"id\":\"04744afc-c34a-450a-a883-892f443137a8\",\"type\":\"FactorRange\"},\"y_mapper_type\":\"auto\",\"y_range\":{\"id\":\"ea092767-fe6f-4cbd-a845-dba6f8c5df1d\",\"type\":\"Range1d\"}},\"id\":\"60ee537f-61bb-4f4c-b02c-74114e7ff4f6\",\"subtype\":\"Chart\",\"type\":\"Plot\"},{\"attributes\":{\"callback\":null,\"factors\":[\"apples\",\"bananas\",\"pears\"]},\"id\":\"04744afc-c34a-450a-a883-892f443137a8\",\"type\":\"FactorRange\"},{\"attributes\":{\"plot\":{\"id\":\"60ee537f-61bb-4f4c-b02c-74114e7ff4f6\",\"subtype\":\"Chart\",\"type\":\"Plot\"}},\"id\":\"96862444-2350-4c79-8310-c766a9bf7073\",\"type\":\"WheelZoomTool\"},{\"attributes\":{\"label\":{\"value\":\"(6.8, 8]\"},\"renderers\":[{\"id\":\"dce6754e-2e7c-459a-b29f-d5d87e4b4405\",\"type\":\"GlyphRenderer\"}]},\"id\":\"93e953c5-ab79-4d7d-8e4d-baea0aa4de05\",\"type\":\"LegendItem\"},{\"attributes\":{\"data_source\":{\"id\":\"4d25d6ee-ee10-4315-af57-61536d93ac22\",\"type\":\"ColumnDataSource\"},\"glyph\":{\"id\":\"cbd9867e-29e2-4e8a-beb1-132ea5a5a11c\",\"type\":\"Rect\"},\"hover_glyph\":null,\"nonselection_glyph\":null,\"selection_glyph\":null},\"id\":\"828f3d24-f87a-4a29-a25d-89dd71de2ff6\",\"type\":\"GlyphRenderer\"},{\"attributes\":{\"callback\":null,\"column_names\":[\"x\",\"y\",\"values\"],\"data\":{\"chart_index\":[{\"fruit_count\":\"(4.5, 5.7]\"},{\"fruit_count\":\"(4.5, 5.7]\"}],\"fruit_count\":[\"(4.5, 5.7]\",\"(4.5, 5.7]\"],\"values\":[5,5],\"x\":[\"apples\",\"pears\"],\"y\":[2,2]}},\"id\":\"4d25d6ee-ee10-4315-af57-61536d93ac22\",\"type\":\"ColumnDataSource\"},{\"attributes\":{\"plot\":{\"id\":\"60ee537f-61bb-4f4c-b02c-74114e7ff4f6\",\"subtype\":\"Chart\",\"type\":\"Plot\"}},\"id\":\"c5abd86f-8b50-4d0e-b536-5741495090c1\",\"type\":\"PanTool\"},{\"attributes\":{\"axis_label\":\"sample\",\"formatter\":{\"id\":\"f11e78b3-a1f3-4f05-a5bd-4193825cd8bc\",\"type\":\"BasicTickFormatter\"},\"plot\":{\"id\":\"60ee537f-61bb-4f4c-b02c-74114e7ff4f6\",\"subtype\":\"Chart\",\"type\":\"Plot\"},\"ticker\":{\"id\":\"0797acca-32a1-40f5-8571-b462871ca492\",\"type\":\"BasicTicker\"}},\"id\":\"86e1d5ae-fb1a-4cff-9b1c-1ea47cc87eab\",\"type\":\"LinearAxis\"},{\"attributes\":{\"data_source\":{\"id\":\"a825ca02-d106-4e99-b244-0faaa6a11b13\",\"type\":\"ColumnDataSource\"},\"glyph\":{\"id\":\"955ef562-0893-45c0-873c-abb28f7a38a5\",\"type\":\"Rect\"},\"hover_glyph\":null,\"nonselection_glyph\":null,\"selection_glyph\":null},\"id\":\"cecc0fa5-6f9d-4551-b0dd-8c1b0b2e03f2\",\"type\":\"GlyphRenderer\"},{\"attributes\":{\"label\":{\"value\":\"(5.7, 6.8]\"},\"renderers\":[{\"id\":\"577af196-a814-4ed0-90f0-eb9af07f66f8\",\"type\":\"GlyphRenderer\"}]},\"id\":\"3f843bd7-2436-4da9-ba38-98efae42f61d\",\"type\":\"LegendItem\"}],\"root_ids\":[\"60ee537f-61bb-4f4c-b02c-74114e7ff4f6\"]},\"title\":\"Bokeh Application\",\"version\":\"0.12.3\"}};\n",
       "            var render_items = [{\"docid\":\"8b383b6f-2a59-475a-adc6-4e6b87a636a7\",\"elementid\":\"c961263d-6902-4836-bb4f-e40daa6b9bd5\",\"modelid\":\"60ee537f-61bb-4f4c-b02c-74114e7ff4f6\"}];\n",
       "            \n",
       "            Bokeh.embed.embed_items(docs_json, render_items);\n",
       "        });\n",
       "      },\n",
       "      function(Bokeh) {\n",
       "      }\n",
       "    ];\n",
       "  \n",
       "    function run_inline_js() {\n",
       "      \n",
       "      if ((window.Bokeh !== undefined) || (force === \"1\")) {\n",
       "        for (var i = 0; i < inline_js.length; i++) {\n",
       "          inline_js[i](window.Bokeh);\n",
       "        }if (force === \"1\") {\n",
       "          display_loaded();\n",
       "        }} else if (Date.now() < window._bokeh_timeout) {\n",
       "        setTimeout(run_inline_js, 100);\n",
       "      } else if (!window._bokeh_failed_load) {\n",
       "        console.log(\"Bokeh: BokehJS failed to load within specified timeout.\");\n",
       "        window._bokeh_failed_load = true;\n",
       "      } else if (!force) {\n",
       "        var cell = $(\"#c961263d-6902-4836-bb4f-e40daa6b9bd5\").parents('.cell').data().cell;\n",
       "        cell.output_area.append_execute_result(NB_LOAD_WARNING)\n",
       "      }\n",
       "  \n",
       "    }\n",
       "  \n",
       "    if (window._bokeh_is_loading === 0) {\n",
       "      console.log(\"Bokeh: BokehJS loaded, going straight to plotting\");\n",
       "      run_inline_js();\n",
       "    } else {\n",
       "      load_libs(js_urls, function() {\n",
       "        console.log(\"Bokeh: BokehJS plotting callback run at\", now());\n",
       "        run_inline_js();\n",
       "      });\n",
       "    }\n",
       "  }(this));\n",
       "</script>"
      ]
     },
     "metadata": {},
     "output_type": "display_data"
    }
   ],
   "source": [
    "from bokeh.charts import HeatMap, output_file, show\n",
    "\n",
    "# (dict, OrderedDict, lists, arrays and DataFrames are valid inputs)\n",
    "data = {'fruit': ['apples']*3 + ['bananas']*3 + ['pears']*3,\n",
    "        'fruit_count': [4, 5, 8, 1, 2, 4, 6, 5, 4],\n",
    "        'sample': [1, 2, 3]*3}\n",
    "\n",
    "hm = HeatMap(data, x='fruit', y='sample', values='fruit_count',\n",
    "             title='Fruits', stat=None)\n",
    "\n",
    "show(hm)"
   ]
  },
  {
   "cell_type": "code",
   "execution_count": 11,
   "metadata": {
    "collapsed": false
   },
   "outputs": [
    {
     "data": {
      "text/plain": [
       "{'fruit': ['apples',\n",
       "  'apples',\n",
       "  'apples',\n",
       "  'bananas',\n",
       "  'bananas',\n",
       "  'bananas',\n",
       "  'pears',\n",
       "  'pears',\n",
       "  'pears'],\n",
       " 'fruit_count': [4, 5, 8, 1, 2, 4, 6, 5, 4],\n",
       " 'sample': [1, 2, 3, 1, 2, 3, 1, 2, 3]}"
      ]
     },
     "execution_count": 11,
     "metadata": {},
     "output_type": "execute_result"
    }
   ],
   "source": [
    "data"
   ]
  },
  {
   "cell_type": "code",
   "execution_count": null,
   "metadata": {
    "collapsed": false
   },
   "outputs": [],
   "source": [
    "hm.renderers[1].glyph.properties()"
   ]
  },
  {
   "cell_type": "code",
   "execution_count": null,
   "metadata": {
    "collapsed": false
   },
   "outputs": [],
   "source": [
    "corr_global = df[dalsu_relevant].astype(float).corr().as_matrix()\n",
    "df_corr_global = pd.DataFrame(data=corr_global,\n",
    "                       columns=dalsu_relevant,\n",
    "                        index=dalsu_relevant\n",
    "                       )\n",
    "df_corr_global"
   ]
  },
  {
   "cell_type": "code",
   "execution_count": null,
   "metadata": {
    "collapsed": false
   },
   "outputs": [],
   "source": []
  },
  {
   "cell_type": "code",
   "execution_count": null,
   "metadata": {
    "collapsed": false
   },
   "outputs": [],
   "source": [
    "df_afm=df[df['DOI']==df['DOI'].unique()[2]]\n",
    "\n",
    "qgrid.show_grid(df_afm[dalsu_relevant],grid_options={'forceFitColumns':False, 'defaultColumnWidth':80})"
   ]
  },
  {
   "cell_type": "code",
   "execution_count": null,
   "metadata": {
    "collapsed": false
   },
   "outputs": [],
   "source": [
    "df_afm[dalsu_relevant].astype(float).corr()"
   ]
  },
  {
   "cell_type": "code",
   "execution_count": null,
   "metadata": {
    "collapsed": false
   },
   "outputs": [],
   "source": [
    "df_ami=df[df['DOI']==df['DOI'].unique()[1]]"
   ]
  },
  {
   "cell_type": "code",
   "execution_count": null,
   "metadata": {
    "collapsed": false
   },
   "outputs": [],
   "source": [
    "df_ami[dalsu_relevant].astype(float).corr()"
   ]
  },
  {
   "cell_type": "code",
   "execution_count": null,
   "metadata": {
    "collapsed": false,
    "scrolled": true
   },
   "outputs": [],
   "source": [
    "df_am0=df[df['DOI']==df['DOI'].unique()[0]]"
   ]
  },
  {
   "cell_type": "code",
   "execution_count": null,
   "metadata": {
    "collapsed": false
   },
   "outputs": [],
   "source": [
    "df_am0[dalsu_relevant].astype(float).corr()"
   ]
  },
  {
   "cell_type": "code",
   "execution_count": null,
   "metadata": {
    "collapsed": false
   },
   "outputs": [],
   "source": [
    "df_nabil=df[df['DOI']==df['DOI'].unique()[3]]"
   ]
  },
  {
   "cell_type": "code",
   "execution_count": null,
   "metadata": {
    "collapsed": false
   },
   "outputs": [],
   "source": [
    "df_nabil[dalsu_relevant].astype(float).corr()"
   ]
  },
  {
   "cell_type": "code",
   "execution_count": null,
   "metadata": {
    "collapsed": false
   },
   "outputs": [],
   "source": [
    "df_gang=df[df['DOI']==df['DOI'].unique()[5]]"
   ]
  },
  {
   "cell_type": "code",
   "execution_count": null,
   "metadata": {
    "collapsed": false
   },
   "outputs": [],
   "source": [
    "df_gang[dalsu_relevant].astype(float).corr()['RTMob'].as_matrix()[1:]"
   ]
  },
  {
   "cell_type": "code",
   "execution_count": null,
   "metadata": {
    "collapsed": false
   },
   "outputs": [],
   "source": [
    "def plot_v_mob(df,col,color_col='Author'):\n",
    "    colors = {}\n",
    "    for c in df[color_col].unique():\n",
    "        colors[c] = np.random.randint( 0,256, (1,3))\n",
    "        df.loc[df[color_col]==c,'color'] = '#' + ''.join([ '%02x'%s for s in colors[c][0]] )\n",
    "    df = df.loc[~df[col].isnull()]\n",
    "    cds = bokeh.models.ColumnDataSource(df)\n",
    "    plot = figure(width=500, height=500)\n",
    "    plot.circle(source=cds,\n",
    "                x=col,\n",
    "                y='RTMob',\n",
    "                fill_color=df['color'][~df[col].apply(lambda x: np.isnan(x))],\n",
    "                size=10, \n",
    "                fill_alpha=0.6)\n",
    "    plot.xaxis.axis_label = col\n",
    "    plot.yaxis.axis_label = 'Mobility (cm^2/Vs)'\n",
    "    plot.add_tools(\n",
    "        bokeh.models.HoverTool(\n",
    "            tooltips=[\n",
    "                ('Author','@Author')\n",
    "            ]\n",
    "        )\n",
    "    )\n",
    "\n",
    "    show(plot)"
   ]
  },
  {
   "cell_type": "code",
   "execution_count": null,
   "metadata": {
    "collapsed": false
   },
   "outputs": [],
   "source": [
    "plot_v_mob(df,'Sfull')"
   ]
  },
  {
   "cell_type": "code",
   "execution_count": null,
   "metadata": {
    "collapsed": false
   },
   "outputs": [],
   "source": [
    "x_var = 'FilmEB'\n",
    "\n",
    "plot = figure(width=500, height=500)\n",
    "plot.circle(x=df[x_var][~df[x_var].apply(lambda x: np.isnan(x))],\n",
    "            y=df['RTMob'][~df[x_var].apply(lambda x: np.isnan(x))],\n",
    "            size=10, \n",
    "            fill_alpha=0.6)\n",
    "plot.xaxis.axis_label = x_var\n",
    "plot.yaxis.axis_label = 'Mobility (cm^2/Vs)'\n",
    "\n",
    "show(plot)"
   ]
  },
  {
   "cell_type": "code",
   "execution_count": null,
   "metadata": {
    "collapsed": false
   },
   "outputs": [],
   "source": [
    "x_var = 'Sfull'\n",
    "\n",
    "plot = figure(width=500, height=500)\n",
    "plot.circle(x=df[x_var][~df[x_var].apply(lambda x: np.isnan(x))],\n",
    "            y=df['RTMob'][~df[x_var].apply(lambda x: np.isnan(x))],\n",
    "            size=10, \n",
    "            fill_alpha=0.6)\n",
    "plot.xaxis.axis_label = x_var\n",
    "plot.yaxis.axis_label = 'Mobility (cm^2/Vs)'\n",
    "\n",
    "show(plot)"
   ]
  },
  {
   "cell_type": "code",
   "execution_count": null,
   "metadata": {
    "collapsed": false
   },
   "outputs": [],
   "source": [
    "x_var = 'CorrLen'\n",
    "\n",
    "plot = figure(width=500, height=500)\n",
    "plot.circle(x=df[x_var][~df[x_var].apply(lambda x: np.isnan(x))],\n",
    "            y=df['RTMob'][~df[x_var].apply(lambda x: np.isnan(x))],\n",
    "            size=10, \n",
    "            fill_alpha=0.6)\n",
    "plot.xaxis.axis_label = x_var\n",
    "plot.yaxis.axis_label = 'Mobility (cm^2/Vs)'\n",
    "\n",
    "show(plot)"
   ]
  },
  {
   "cell_type": "code",
   "execution_count": null,
   "metadata": {
    "collapsed": false
   },
   "outputs": [],
   "source": [
    "x_var = 'Herman'\n",
    "\n",
    "plot = figure(width=500, height=500)\n",
    "plot.circle(x=df[x_var][~df[x_var].apply(lambda x: np.isnan(x))],\n",
    "            y=df['RTMob'][~df[x_var].apply(lambda x: np.isnan(x))],\n",
    "            size=10, \n",
    "            fill_alpha=0.6)\n",
    "plot.xaxis.axis_label = x_var\n",
    "plot.yaxis.axis_label = 'Mobility (cm^2/Vs)'\n",
    "\n",
    "show(plot)"
   ]
  },
  {
   "cell_type": "code",
   "execution_count": null,
   "metadata": {
    "collapsed": false
   },
   "outputs": [],
   "source": [
    "x_var = 'GrainSize100'\n",
    "\n",
    "plot = figure(width=500, height=500)\n",
    "plot.circle(x=df[x_var][~df[x_var].apply(lambda x: np.isnan(x))],\n",
    "            y=df['RTMob'][~df[x_var].apply(lambda x: np.isnan(x))],\n",
    "            size=10, \n",
    "            fill_alpha=0.6)\n",
    "plot.xaxis.axis_label = x_var\n",
    "plot.yaxis.axis_label = 'Mobility (cm^2/Vs)'\n",
    "\n",
    "show(plot)"
   ]
  },
  {
   "cell_type": "code",
   "execution_count": null,
   "metadata": {
    "collapsed": false
   },
   "outputs": [],
   "source": [
    "x_var = 'Space010'\n",
    "\n",
    "plot = figure(width=500, height=500)\n",
    "plot.circle(x=df[x_var][~df[x_var].apply(lambda x: np.isnan(x))],\n",
    "            y=df['RTMob'][~df[x_var].apply(lambda x: np.isnan(x))],\n",
    "            size=10, \n",
    "            fill_alpha=0.6)\n",
    "plot.xaxis.axis_label = x_var\n",
    "plot.yaxis.axis_label = 'Mobility (cm^2/Vs)'\n",
    "\n",
    "show(plot)"
   ]
  },
  {
   "cell_type": "code",
   "execution_count": null,
   "metadata": {
    "collapsed": false
   },
   "outputs": [],
   "source": [
    "x_var = 'SolAggFrac'\n",
    "\n",
    "plot = figure(width=500, height=500)\n",
    "plot.circle(x=df[x_var][~df[x_var].apply(lambda x: np.isnan(x))],\n",
    "            y=df['RTMob'][~df[x_var].apply(lambda x: np.isnan(x))],\n",
    "            size=10, \n",
    "            fill_alpha=0.6)\n",
    "plot.xaxis.axis_label = x_var\n",
    "plot.yaxis.axis_label = 'Mobility (cm^2/Vs)'\n",
    "\n",
    "show(plot)"
   ]
  },
  {
   "cell_type": "code",
   "execution_count": null,
   "metadata": {
    "collapsed": false
   },
   "outputs": [],
   "source": [
    "plot = figure(width=500, height=500)\n",
    "plot.circle(x=df[x_var][~df[x_var].apply(lambda x: np.isnan(x))],\n",
    "            y=df['RTMob'][~df[x_var].apply(lambda x: np.isnan(x))],\n",
    "            size=10, \n",
    "            fill_alpha=0.6)\n",
    "plot.xaxis.axis_label = x_var\n",
    "plot.yaxis.axis_label = 'Mobility (cm^2/Vs)'\n",
    "\n",
    "show(plot)"
   ]
  },
  {
   "cell_type": "code",
   "execution_count": null,
   "metadata": {
    "collapsed": false
   },
   "outputs": [],
   "source": [
    "numerics = ['int16', 'int32', 'int64', 'float16', 'float32', 'float64', 'NaN']\n",
    "\n",
    "newdf = df.select_dtypes(include=numerics)\n",
    "newdf"
   ]
  },
  {
   "cell_type": "code",
   "execution_count": null,
   "metadata": {
    "collapsed": false
   },
   "outputs": [],
   "source": [
    "from scipy import io\n",
    "a_dict = {col_name : df[col_name].values for col_name in df.columns.values}\n",
    "\n",
    "## optional if you want to save the index as an array as well:\n",
    "# a_dict[df.index.name] = df.index.values\n",
    "scipy.io.savemat('ofet_db.mat', {'struct':a_dict})"
   ]
  },
  {
   "cell_type": "code",
   "execution_count": null,
   "metadata": {
    "collapsed": true
   },
   "outputs": [],
   "source": []
  }
 ],
 "metadata": {
  "kernelspec": {
   "display_name": "Python 3",
   "language": "python",
   "name": "python3"
  },
  "language_info": {
   "codemirror_mode": {
    "name": "ipython",
    "version": 3
   },
   "file_extension": ".py",
   "mimetype": "text/x-python",
   "name": "python",
   "nbconvert_exporter": "python",
   "pygments_lexer": "ipython3",
   "version": "3.5.2"
  }
 },
 "nbformat": 4,
 "nbformat_minor": 0
}
